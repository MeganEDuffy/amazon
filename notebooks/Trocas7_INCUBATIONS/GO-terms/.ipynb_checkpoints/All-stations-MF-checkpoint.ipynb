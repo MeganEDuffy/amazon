{
 "cells": [
  {
   "cell_type": "markdown",
   "metadata": {},
   "source": [
    "## Evaluating and visualizing gene ontology (GO) terms associated bacterial peptides in Trocas 7 incubations\n",
    "\n",
    "## All stations\n",
    "\n",
    "#### Beginning with: stripped bacterial peptides and GO term abundances in spreadsheets\n",
    "\n",
    "#### Goal: heatmaps of GO terms over stations"
   ]
  },
  {
   "cell_type": "code",
   "execution_count": 1,
   "metadata": {},
   "outputs": [],
   "source": [
    "import numpy as np\n",
    "import matplotlib.pyplot as plt\n",
    "import seaborn as sns\n",
    "import pandas as pd\n",
    "from functools import reduce"
   ]
  },
  {
   "cell_type": "markdown",
   "metadata": {},
   "source": [
    "## Plotting bacterial GO terms using Seaborn heatmaps\n",
    "\n",
    "### For each incubation station\n",
    "### Just molecuar function GO terms"
   ]
  },
  {
   "cell_type": "code",
   "execution_count": 2,
   "metadata": {},
   "outputs": [
    {
     "data": {
      "text/html": [
       "<div>\n",
       "<style scoped>\n",
       "    .dataframe tbody tr th:only-of-type {\n",
       "        vertical-align: middle;\n",
       "    }\n",
       "\n",
       "    .dataframe tbody tr th {\n",
       "        vertical-align: top;\n",
       "    }\n",
       "\n",
       "    .dataframe thead th {\n",
       "        text-align: right;\n",
       "    }\n",
       "</style>\n",
       "<table border=\"1\" class=\"dataframe\">\n",
       "  <thead>\n",
       "    <tr style=\"text-align: right;\">\n",
       "      <th></th>\n",
       "      <th>Time 0 small</th>\n",
       "      <th>T24 small</th>\n",
       "      <th>Unnamed: 3</th>\n",
       "      <th>T0 large</th>\n",
       "      <th>Time 24 large</th>\n",
       "    </tr>\n",
       "    <tr>\n",
       "      <th>GO Cellular Component</th>\n",
       "      <th></th>\n",
       "      <th></th>\n",
       "      <th></th>\n",
       "      <th></th>\n",
       "      <th></th>\n",
       "    </tr>\n",
       "  </thead>\n",
       "  <tbody>\n",
       "    <tr>\n",
       "      <th>ATP binding</th>\n",
       "      <td>30.498534</td>\n",
       "      <td>27.675277</td>\n",
       "      <td>NaN</td>\n",
       "      <td>26.213592</td>\n",
       "      <td>26.865672</td>\n",
       "    </tr>\n",
       "    <tr>\n",
       "      <th>DNA binding</th>\n",
       "      <td>19.648094</td>\n",
       "      <td>22.878229</td>\n",
       "      <td>NaN</td>\n",
       "      <td>22.330097</td>\n",
       "      <td>19.402985</td>\n",
       "    </tr>\n",
       "    <tr>\n",
       "      <th>metal ion binding</th>\n",
       "      <td>17.595308</td>\n",
       "      <td>20.295203</td>\n",
       "      <td>NaN</td>\n",
       "      <td>17.475728</td>\n",
       "      <td>18.905473</td>\n",
       "    </tr>\n",
       "    <tr>\n",
       "      <th>oxidoreductase activity</th>\n",
       "      <td>5.865103</td>\n",
       "      <td>7.011070</td>\n",
       "      <td>NaN</td>\n",
       "      <td>8.737864</td>\n",
       "      <td>5.472637</td>\n",
       "    </tr>\n",
       "    <tr>\n",
       "      <th>ATPase</th>\n",
       "      <td>6.744868</td>\n",
       "      <td>4.059041</td>\n",
       "      <td>NaN</td>\n",
       "      <td>1.941748</td>\n",
       "      <td>4.477612</td>\n",
       "    </tr>\n",
       "  </tbody>\n",
       "</table>\n",
       "</div>"
      ],
      "text/plain": [
       "                         Time 0 small  T24 small  Unnamed: 3   T0 large  \\\n",
       "GO Cellular Component                                                     \n",
       "ATP binding                 30.498534  27.675277         NaN  26.213592   \n",
       "DNA binding                 19.648094  22.878229         NaN  22.330097   \n",
       "metal ion binding           17.595308  20.295203         NaN  17.475728   \n",
       "oxidoreductase activity      5.865103   7.011070         NaN   8.737864   \n",
       "ATPase                       6.744868   4.059041         NaN   1.941748   \n",
       "\n",
       "                         Time 24 large  \n",
       "GO Cellular Component                   \n",
       "ATP binding                  26.865672  \n",
       "DNA binding                  19.402985  \n",
       "metal ion binding            18.905473  \n",
       "oxidoreductase activity       5.472637  \n",
       "ATPase                        4.477612  "
      ]
     },
     "execution_count": 2,
     "metadata": {},
     "output_type": "execute_result"
    }
   ],
   "source": [
    "# rearranged and condensed the csv manually in Libre Calc\n",
    "# read in new csv:\n",
    "\n",
    "MN = pd.read_csv(\"/home/millieginty/Documents/git-repos/amazon/analyses/T7-incubations/unipept/GO/plotting/MN_MF_GO_sorted.csv\", index_col=0)\n",
    "MS = pd.read_csv(\"/home/millieginty/Documents/git-repos/amazon/analyses/T7-incubations/unipept/GO/plotting/MS_MF_GO_sorted.csv\", index_col=0)\n",
    "BY = pd.read_csv(\"/home/millieginty/Documents/git-repos/amazon/analyses/T7-incubations/unipept/GO/plotting/BY_MF_GO_sorted.csv\", index_col=0)\n",
    "CV = pd.read_csv(\"/home/millieginty/Documents/git-repos/amazon/analyses/T7-incubations/unipept/GO/plotting/CV_MF_GO_sorted.csv\", index_col=0)\n",
    "\n",
    "CV.head()"
   ]
  },
  {
   "cell_type": "code",
   "execution_count": 51,
   "metadata": {},
   "outputs": [
    {
     "data": {
      "text/plain": [
       "[Text(0.5, 0, '0 hr'),\n",
       " Text(1.5, 0, '24 hr'),\n",
       " Text(2.5, 0, ''),\n",
       " Text(3.5, 0, '0 hr'),\n",
       " Text(4.5, 0, '24 hr')]"
      ]
     },
     "execution_count": 51,
     "metadata": {},
     "output_type": "execute_result"
    },
    {
     "data": {
      "image/png": "[encoded data removed]",
      "text/plain": [
       "<Figure size 1008x360 with 5 Axes>"
      ]
     },
     "metadata": {
      "needs_background": "light"
     },
     "output_type": "display_data"
    }
   ],
   "source": [
    "fig,(ax1,ax2,ax3,ax4) = plt.subplots(1,4,sharey=True, sharex = True, figsize = (14, 5))\n",
    "\n",
    "plt.tight_layout()\n",
    "plt.subplots_adjust(wspace = 0.2)\n",
    "\n",
    "labels = ['0 hr', '24 hr', '', '0 hr', '24 hr']\n",
    "\n",
    "cbar_ax = fig.add_axes([1.0, 0.04,.03, 0.92])\n",
    "cbar_ax.set_title('Peptides', fontsize = 18)\n",
    "\n",
    "g1 = sns.heatmap(MN,cmap=\"Blues\", cbar_ax = cbar_ax ,ax=ax1, square = True)\n",
    "g1.set_ylabel('')\n",
    "g1.set_xlabel('0.3 um-0.7 um      >0.7 um')\n",
    "g1.set_title('Macapa North', fontsize = 18, loc='center')\n",
    "g1.set_xticklabels(labels, rotation = 0, fontsize = 12)\n",
    "\n",
    "\n",
    "g2 = sns.heatmap(MS,cmap=\"Blues\", cbar_ax = cbar_ax, ax=ax2, square = True)\n",
    "g2.set_ylabel('')\n",
    "g2.set_xlabel('0.3 um-0.7 um      >0.7 um')\n",
    "g2.set_title('Macapa South', fontsize = 18, loc='center')\n",
    "g2.set_xticklabels(labels, rotation = 0, fontsize = 12)\n",
    "\n",
    "\n",
    "g3 = sns.heatmap(BY,cmap=\"Blues\", cbar_ax = cbar_ax, ax=ax3, square = True)\n",
    "g3.set_ylabel('')\n",
    "g3.set_xlabel('0.3 um-0.7 um      >0.7 um')\n",
    "g3.set_title('Baylique', fontsize = 18, loc='center')\n",
    "g3.set_xticklabels(labels, rotation = 0, fontsize = 12)\n",
    "\n",
    "\n",
    "g4 = sns.heatmap(CV,cmap=\"Blues\",ax=ax4, cbar_ax = cbar_ax, edgecolor = 'black', square = True)\n",
    "g4.set_ylabel('')\n",
    "g4.set_xlabel('0.3 um-0.7 um      >0.7 um')\n",
    "g4.set_title('Chaves', fontsize = 18, loc='center')\n",
    "g4.set_xticklabels(labels, rotation = 0, fontsize = 12)\n"
   ]
  },
  {
   "cell_type": "code",
   "execution_count": null,
   "metadata": {},
   "outputs": [],
   "source": []
  }
 ],
 "metadata": {
  "kernelspec": {
   "display_name": "Python 3",
   "language": "python",
   "name": "python3"
  },
  "language_info": {
   "codemirror_mode": {
    "name": "ipython",
    "version": 3
   },
   "file_extension": ".py",
   "mimetype": "text/x-python",
   "name": "python",
   "nbconvert_exporter": "python",
   "pygments_lexer": "ipython3",
   "version": "3.8.3"
  }
 },
 "nbformat": 4,
 "nbformat_minor": 4
}
