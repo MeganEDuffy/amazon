{
 "cells": [
  {
   "cell_type": "markdown",
   "metadata": {},
   "source": [
    "### Combining stripped peptides from *de novo* sequencing and PeaksDB search results Trocas 7 incubation samples\n",
    "\n",
    "The dataset:\n",
    "\n",
    "    16 treatments: 4 stations, 2 timepoints (Time 0 an Time 24 hrs), 2 size fractions (GFF; GF75):\n",
    "    \n",
    "    Stations: \n",
    "    \n",
    "        - Macapa South (MS) South stem, upriver\n",
    "        - Macapa North (MN) North stem, upriver\n",
    "        - Chaves (CV) South stem, downriver\n",
    "        - Baylique (BY) North stem, downriver\n",
    "\n",
    "\n",
    "    Proteomics samples from 2 trips to UWPR (July 2020 on the QE; April 2021 on the Fusion)\n",
    "    There were at least triplicate samples for each treatment\n",
    "    Many in April 2021 injected twice\n",
    "\n",
    "Starting with:\n",
    "\n",
    "    Peaks de novo results of PTM-optimized sequencing\n",
    "    PeaksDB de novo-assisted results from PTM-optimized database searches\n",
    "    \n",
    "    Multiple samples per treatment\n",
    "\n",
    "Goal:\n",
    "\n",
    "    Txt files with combined de novo and PeaksDB for each sample\n",
    "    \n",
    "Using:\n",
    "\n",
    "    - pandas\n",
    "    - matplotlib\n",
    "    - numpy"
   ]
  },
  {
   "cell_type": "code",
   "execution_count": 1,
   "metadata": {},
   "outputs": [
    {
     "data": {
      "text/plain": [
       "'1.0.5'"
      ]
     },
     "execution_count": 1,
     "metadata": {},
     "output_type": "execute_result"
    }
   ],
   "source": [
    "# LIBRARIES\n",
    "#import pandas library for working with tabular data\n",
    "import os\n",
    "os.getcwd()\n",
    "import pandas as pd\n",
    "import numpy as np\n",
    "import matplotlib.pyplot as plt\n",
    "import seaborn as sns\n",
    "from scipy.stats import kde\n",
    "#import regular expresson (regex)\n",
    "import re\n",
    "#check pandas version\n",
    "pd.__version__"
   ]
  },
  {
   "cell_type": "code",
   "execution_count": 2,
   "metadata": {},
   "outputs": [
    {
     "name": "stdout",
     "output_type": "stream",
     "text": [
      "/home/millieginty/Documents/git-repos/amazon/data/Trocas7-incubations\n"
     ]
    }
   ],
   "source": [
    "cd /home/millieginty/Documents/git-repos/amazon/data/Trocas7-incubations/"
   ]
  },
  {
   "cell_type": "markdown",
   "metadata": {},
   "source": [
    "### 1. Macapa South, timepoint 0, size fraction 0.3-0.7 um (denoted as MS_T00_GF)\n",
    "### T7 samples #s: 109, 110\n",
    "### Exported NAAF and stripped peptides contained in the following directories:\n",
    "\n",
    "    Trocas-incubations/processed/PeaksDB/110_MS_T00_GF_PDB\n",
    "    Trocas-incubations/processed/PeaksDB/110_MS_T00_GF_DN"
   ]
  },
  {
   "cell_type": "code",
   "execution_count": 4,
   "metadata": {
    "scrolled": true
   },
   "outputs": [
    {
     "name": "stdout",
     "output_type": "stream",
     "text": [
      "total 210 peptides, redundant 820\n",
      "total 210 peptides, nonredundant 666\n"
     ]
    },
    {
     "data": {
      "text/html": [
       "<div>\n",
       "<style scoped>\n",
       "    .dataframe tbody tr th:only-of-type {\n",
       "        vertical-align: middle;\n",
       "    }\n",
       "\n",
       "    .dataframe tbody tr th {\n",
       "        vertical-align: top;\n",
       "    }\n",
       "\n",
       "    .dataframe thead th {\n",
       "        text-align: right;\n",
       "    }\n",
       "</style>\n",
       "<table border=\"1\" class=\"dataframe\">\n",
       "  <thead>\n",
       "    <tr style=\"text-align: right;\">\n",
       "      <th></th>\n",
       "      <th>0</th>\n",
       "    </tr>\n",
       "  </thead>\n",
       "  <tbody>\n",
       "    <tr>\n",
       "      <th>0</th>\n",
       "      <td>LSSPATLNSR</td>\n",
       "    </tr>\n",
       "    <tr>\n",
       "      <th>1</th>\n",
       "      <td>LSSPATLNSR</td>\n",
       "    </tr>\n",
       "    <tr>\n",
       "      <th>2</th>\n",
       "      <td>LSSPATLNSR</td>\n",
       "    </tr>\n",
       "    <tr>\n",
       "      <th>3</th>\n",
       "      <td>LSSPATLDSR</td>\n",
       "    </tr>\n",
       "    <tr>\n",
       "      <th>4</th>\n",
       "      <td>VVEVSLPR</td>\n",
       "    </tr>\n",
       "  </tbody>\n",
       "</table>\n",
       "</div>"
      ],
      "text/plain": [
       "            0\n",
       "0  LSSPATLNSR\n",
       "1  LSSPATLNSR\n",
       "2  LSSPATLNSR\n",
       "3  LSSPATLDSR\n",
       "4    VVEVSLPR"
      ]
     },
     "execution_count": 4,
     "metadata": {},
     "output_type": "execute_result"
    }
   ],
   "source": [
    "# for each of the 4 incubation samples:\n",
    "# read in NAAF totals csvs made in PeaksDN (de novo), and PeaksDB (de novo assisted database search) notebooks\n",
    "# bringing de novo peptides >50% ALC and PeaksDB peptides <1% FDR\n",
    "\n",
    "peaks50_110a = pd.read_csv(\"processed/PeaksDN/110_MS_T00_GF_DN/110_MS_T00_GF_DN50_stripped_peptides.txt\", header=None)\n",
    "peaks50_110b = pd.read_csv(\"processed/PeaksDN/110_MS_T00_GF_DN/110B_MS_T00_GF_DN50_stripped_peptides.txt\", header=None)\n",
    "peaksdb_110a = pd.read_csv(\"processed/PeaksDB/110_MS_T00_GF_PDB/110_MS_T00_GF_PDB_stripped_peptides.txt\", header=None)\n",
    "peaksdb_110b = pd.read_csv(\"processed/PeaksDB/110_MS_T00_GF_PDB/110B_MS_T00_GF_PDB_stripped_peptides.txt\", header=None)\n",
    "\n",
    "\n",
    "frames = [peaks50_110a, peaks50_110b, peaksdb_110a, peaksdb_110b]\n",
    "#index = [index]\n",
    "\n",
    "# concatenate dataframes\n",
    "tot_110 = pd.concat(frames)\n",
    "\n",
    "# deduplicate\n",
    "tot_110_nr = tot_110.drop_duplicates()\n",
    "\n",
    "print('total 210 peptides, redundant', len(tot_110))\n",
    "print('total 210 peptides, nonredundant', len(tot_110_nr))\n",
    "\n",
    "tot_110.to_csv(\"processed/stripped_peptides/110_MS_T00_GF_stripped_peptides.txt\", header=False, index=False)\n",
    "\n",
    "tot_110.head()"
   ]
  },
  {
   "cell_type": "markdown",
   "metadata": {},
   "source": [
    "### 2. Macapa South, timepoint 0, size fraction>0.7 um (denoted as MS_T00_GD)\n",
    "### T7 samples #s: 209, 210\n",
    "### Exported NAAF and stripped peptides contained in the following directories:\n",
    "\n",
    "    Trocas-incubations/processed/PeaksDB/210_MS_T00_GD_PDB\n",
    "    Trocas-incubations/processed/PeaksDB/210_MS_T00_GD_DN"
   ]
  },
  {
   "cell_type": "code",
   "execution_count": 6,
   "metadata": {
    "scrolled": false
   },
   "outputs": [
    {
     "name": "stdout",
     "output_type": "stream",
     "text": [
      "total 210 peptides, redundant 896\n",
      "total 210 peptides, nonredundant 707\n"
     ]
    },
    {
     "data": {
      "text/html": [
       "<div>\n",
       "<style scoped>\n",
       "    .dataframe tbody tr th:only-of-type {\n",
       "        vertical-align: middle;\n",
       "    }\n",
       "\n",
       "    .dataframe tbody tr th {\n",
       "        vertical-align: top;\n",
       "    }\n",
       "\n",
       "    .dataframe thead th {\n",
       "        text-align: right;\n",
       "    }\n",
       "</style>\n",
       "<table border=\"1\" class=\"dataframe\">\n",
       "  <thead>\n",
       "    <tr style=\"text-align: right;\">\n",
       "      <th></th>\n",
       "      <th>0</th>\n",
       "    </tr>\n",
       "  </thead>\n",
       "  <tbody>\n",
       "    <tr>\n",
       "      <th>0</th>\n",
       "      <td>VLEGNEQFLNAAK</td>\n",
       "    </tr>\n",
       "    <tr>\n",
       "      <th>1</th>\n",
       "      <td>EGNEQFLNAAK</td>\n",
       "    </tr>\n",
       "    <tr>\n",
       "      <th>2</th>\n",
       "      <td>KMLNAAK</td>\n",
       "    </tr>\n",
       "    <tr>\n",
       "      <th>3</th>\n",
       "      <td>KMLNAAK</td>\n",
       "    </tr>\n",
       "    <tr>\n",
       "      <th>4</th>\n",
       "      <td>LSSPATLNSR</td>\n",
       "    </tr>\n",
       "  </tbody>\n",
       "</table>\n",
       "</div>"
      ],
      "text/plain": [
       "               0\n",
       "0  VLEGNEQFLNAAK\n",
       "1    EGNEQFLNAAK\n",
       "2        KMLNAAK\n",
       "3        KMLNAAK\n",
       "4     LSSPATLNSR"
      ]
     },
     "execution_count": 6,
     "metadata": {},
     "output_type": "execute_result"
    }
   ],
   "source": [
    "# for each of the 4 incubation samples:\n",
    "# read in NAAF totals csvs made in PeaksDN (de novo), and PeaksDB (de novo assisted database search) notebooks\n",
    "# bringing de novo peptides >50% ALC and PeaksDB peptides <1% FDR\n",
    "\n",
    "peaks50_210a = pd.read_csv(\"processed/PeaksDN/210_MS_T00_GD_DN/210_MS_T00_GD_DN50_stripped_peptides.txt\", header=None)\n",
    "peaks50_210b = pd.read_csv(\"processed/PeaksDN/210_MS_T00_GD_DN/210B_MS_T00_GD_DN50_stripped_peptides.txt\", header=None)\n",
    "peaksdb_210a = pd.read_csv(\"processed/PeaksDB/210_MS_T00_GD_PDB/210_MS_T00_GD_PDB_stripped_peptides.txt\", header=None)\n",
    "peaksdb_210b = pd.read_csv(\"processed/PeaksDB/210_MS_T00_GD_PDB/210B_MS_T00_GD_PDB_stripped_peptides.txt\", header=None)\n",
    "\n",
    "frames = [peaks50_210a, peaks50_210b, peaksdb_210a, peaksdb_210b]\n",
    "#index = [index]\n",
    "\n",
    "# concatenate dataframes\n",
    "tot_210 = pd.concat(frames)\n",
    "\n",
    "# deduplicate\n",
    "tot_210_nr = tot_210.drop_duplicates()\n",
    "\n",
    "print('total 210 peptides, redundant', len(tot_210))\n",
    "print('total 210 peptides, nonredundant', len(tot_210_nr))\n",
    "\n",
    "tot_210.to_csv(\"processed/stripped_peptides/210_MS_T00_GD_stripped_peptides.txt\", header=False, index=False)\n",
    "\n",
    "tot_210.head()"
   ]
  },
  {
   "cell_type": "markdown",
   "metadata": {},
   "source": [
    "### 3. Macapa South, timepoint 24 hrs, size fraction 0.3-0.7 um (denoted as MS_T24_GF)\n",
    "### T7 samples #s: 310A, 310B, 311 (310C)\n",
    "### Exported NAAF and stripped peptides contained in the following directories:\n",
    "\n",
    "    Trocas-incubations/processed/PeaksDB/310_MS_T24_GF_PDB\n",
    "    Trocas-incubations/processed/PeaksDB/310_MS_T24_GF_DN"
   ]
  },
  {
   "cell_type": "code",
   "execution_count": 7,
   "metadata": {
    "scrolled": false
   },
   "outputs": [
    {
     "name": "stdout",
     "output_type": "stream",
     "text": [
      "total 310 peptides, redundant 740\n",
      "total 310 peptides, nonredundant 450\n"
     ]
    },
    {
     "data": {
      "text/html": [
       "<div>\n",
       "<style scoped>\n",
       "    .dataframe tbody tr th:only-of-type {\n",
       "        vertical-align: middle;\n",
       "    }\n",
       "\n",
       "    .dataframe tbody tr th {\n",
       "        vertical-align: top;\n",
       "    }\n",
       "\n",
       "    .dataframe thead th {\n",
       "        text-align: right;\n",
       "    }\n",
       "</style>\n",
       "<table border=\"1\" class=\"dataframe\">\n",
       "  <thead>\n",
       "    <tr style=\"text-align: right;\">\n",
       "      <th></th>\n",
       "      <th>0</th>\n",
       "    </tr>\n",
       "  </thead>\n",
       "  <tbody>\n",
       "    <tr>\n",
       "      <th>0</th>\n",
       "      <td>LSSPATLNSR</td>\n",
       "    </tr>\n",
       "    <tr>\n",
       "      <th>1</th>\n",
       "      <td>LSSPATLNSR</td>\n",
       "    </tr>\n",
       "    <tr>\n",
       "      <th>2</th>\n",
       "      <td>LSSPATLNSR</td>\n",
       "    </tr>\n",
       "    <tr>\n",
       "      <th>3</th>\n",
       "      <td>LATVLSPR</td>\n",
       "    </tr>\n",
       "    <tr>\n",
       "      <th>4</th>\n",
       "      <td>LATVLSPR</td>\n",
       "    </tr>\n",
       "  </tbody>\n",
       "</table>\n",
       "</div>"
      ],
      "text/plain": [
       "            0\n",
       "0  LSSPATLNSR\n",
       "1  LSSPATLNSR\n",
       "2  LSSPATLNSR\n",
       "3    LATVLSPR\n",
       "4    LATVLSPR"
      ]
     },
     "execution_count": 7,
     "metadata": {},
     "output_type": "execute_result"
    }
   ],
   "source": [
    "# for each of the 4 incubation samples:\n",
    "# read in NAAF totals csvs made in PeaksDN (de novo), and PeaksDB (de novo assisted database search) notebooks\n",
    "# bringing de novo peptides >50% ALC and PeaksDB peptides <1% FDR\n",
    "\n",
    "peaks50_310a = pd.read_csv(\"processed/PeaksDN/310_MS_T24_GF_DN/310A_MS_T24_GF_DN50_stripped_peptides.txt\", header=None)\n",
    "peaks50_310b = pd.read_csv(\"processed/PeaksDN/310_MS_T24_GF_DN/310B_MS_T24_GF_DN50_stripped_peptides.txt\", header=None)\n",
    "peaks50_310c = pd.read_csv(\"processed/PeaksDN/310_MS_T24_GF_DN/310C_MS_T24_GF_DN50_stripped_peptides.txt\", header=None)\n",
    "peaksdb_310a = pd.read_csv(\"processed/PeaksDB/310_MS_T24_GF_PDB/310A_MS_T24_GF_PDB_stripped_peptides.txt\", header=None)\n",
    "peaksdb_310b = pd.read_csv(\"processed/PeaksDB/310_MS_T24_GF_PDB/310B_MS_T24_GF_PDB_stripped_peptides.txt\", header=None)\n",
    "peaksdb_310c = pd.read_csv(\"processed/PeaksDB/310_MS_T24_GF_PDB/310C_MS_T24_GF_PDB_stripped_peptides.txt\", header=None)\n",
    "\n",
    "frames = [peaks50_310a, peaks50_310b, peaks50_310c, peaksdb_310a, peaksdb_310b, peaksdb_310c]\n",
    "#index = [index]\n",
    "\n",
    "# concatenate dataframes\n",
    "tot_310 = pd.concat(frames)\n",
    "\n",
    "# deduplicate\n",
    "tot_310_nr = tot_310.drop_duplicates()\n",
    "\n",
    "print('total 310 peptides, redundant', len(tot_310))\n",
    "print('total 310 peptides, nonredundant', len(tot_310_nr))\n",
    "\n",
    "tot_310.to_csv(\"processed/stripped_peptides/310_MS_T24_GF_stripped_peptides.txt\", header=False, index=False)\n",
    "\n",
    "tot_310.head()"
   ]
  },
  {
   "cell_type": "markdown",
   "metadata": {},
   "source": [
    "### 4. Macapa South, timepoint 24 hrs, size fraction >0.7 um (denoted as MS_T24_GD)\n",
    "### T7 samples #s: 410A, 410B\n",
    "### Exported NAAF and stripped peptides contained in the following directories:\n",
    "\n",
    "    Trocas-incubations/processed/PeaksDB/410_MS_T24_GD_PDB\n",
    "    Trocas-incubations/processed/PeaksDB/410_MS_T24_GD_DN"
   ]
  },
  {
   "cell_type": "code",
   "execution_count": 8,
   "metadata": {
    "scrolled": true
   },
   "outputs": [
    {
     "name": "stdout",
     "output_type": "stream",
     "text": [
      "total 410 peptides, redundant 835\n",
      "total 410 peptides, nonredundant 507\n"
     ]
    },
    {
     "data": {
      "text/html": [
       "<div>\n",
       "<style scoped>\n",
       "    .dataframe tbody tr th:only-of-type {\n",
       "        vertical-align: middle;\n",
       "    }\n",
       "\n",
       "    .dataframe tbody tr th {\n",
       "        vertical-align: top;\n",
       "    }\n",
       "\n",
       "    .dataframe thead th {\n",
       "        text-align: right;\n",
       "    }\n",
       "</style>\n",
       "<table border=\"1\" class=\"dataframe\">\n",
       "  <thead>\n",
       "    <tr style=\"text-align: right;\">\n",
       "      <th></th>\n",
       "      <th>0</th>\n",
       "    </tr>\n",
       "  </thead>\n",
       "  <tbody>\n",
       "    <tr>\n",
       "      <th>0</th>\n",
       "      <td>SPATLNSR</td>\n",
       "    </tr>\n",
       "    <tr>\n",
       "      <th>1</th>\n",
       "      <td>TEELDR</td>\n",
       "    </tr>\n",
       "    <tr>\n",
       "      <th>2</th>\n",
       "      <td>SCK</td>\n",
       "    </tr>\n",
       "    <tr>\n",
       "      <th>3</th>\n",
       "      <td>SPATLNSR</td>\n",
       "    </tr>\n",
       "    <tr>\n",
       "      <th>4</th>\n",
       "      <td>KMLNAAK</td>\n",
       "    </tr>\n",
       "  </tbody>\n",
       "</table>\n",
       "</div>"
      ],
      "text/plain": [
       "          0\n",
       "0  SPATLNSR\n",
       "1    TEELDR\n",
       "2       SCK\n",
       "3  SPATLNSR\n",
       "4   KMLNAAK"
      ]
     },
     "execution_count": 8,
     "metadata": {},
     "output_type": "execute_result"
    }
   ],
   "source": [
    "# for each of the 4 incubation samples:\n",
    "# read in NAAF totals csvs made in PeaksDN (de novo), and PeaksDB (de novo assisted database search) notebooks\n",
    "# bringing de novo peptides >50% ALC and PeaksDB peptides <1% FDR\n",
    "\n",
    "peaks50_410a = pd.read_csv(\"processed/PeaksDN/410_MS_T24_GD_DN/410A_MS_T24_GD_DN50_stripped_peptides.txt\", header=None)\n",
    "peaks50_410b = pd.read_csv(\"processed/PeaksDN/410_MS_T24_GD_DN/410B_MS_T24_GD_DN50_stripped_peptides.txt\", header=None)\n",
    "peaksdb_410a = pd.read_csv(\"processed/PeaksDB/410_MS_T24_GD_PDB/410A_MS_T24_GD_PDB_stripped_peptides.txt\", header=None)\n",
    "peaksdb_410b = pd.read_csv(\"processed/PeaksDB/410_MS_T24_GD_PDB/410B_MS_T24_GD_PDB_stripped_peptides.txt\", header=None)\n",
    "\n",
    "\n",
    "frames = [peaks50_410a, peaks50_410b, peaksdb_410a, peaksdb_410b, ]\n",
    "#index = [index]\n",
    "\n",
    "# concatenate dataframes\n",
    "tot_410 = pd.concat(frames)\n",
    "\n",
    "# deduplicate\n",
    "tot_410_nr = tot_410.drop_duplicates()\n",
    "\n",
    "print('total 410 peptides, redundant', len(tot_410))\n",
    "print('total 410 peptides, nonredundant', len(tot_410_nr))\n",
    "\n",
    "tot_410.to_csv(\"processed/stripped_peptides/410_MS_T24_GD_stripped_peptides.txt\", header=False, index=False)\n",
    "\n",
    "tot_410.head()"
   ]
  }
 ],
 "metadata": {
  "kernelspec": {
   "display_name": "Python 3",
   "language": "python",
   "name": "python3"
  },
  "language_info": {
   "codemirror_mode": {
    "name": "ipython",
    "version": 3
   },
   "file_extension": ".py",
   "mimetype": "text/x-python",
   "name": "python",
   "nbconvert_exporter": "python",
   "pygments_lexer": "ipython3",
   "version": "3.8.3"
  }
 },
 "nbformat": 4,
 "nbformat_minor": 4
}
