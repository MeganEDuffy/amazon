{
 "cells": [
  {
   "cell_type": "markdown",
   "metadata": {},
   "source": [
    "### Combining stripped peptides from *de novo* sequencing and PeaksDB search results Trocas 7 incubation samples\n",
    "\n",
    "The dataset:\n",
    "\n",
    "    16 treatments: 4 stations, 2 timepoints (Time 0 an Time 24 hrs), 2 size fractions (GFF; GF75):\n",
    "    \n",
    "    Stations: \n",
    "    \n",
    "        - Macapa South (MS) South stem, upriver\n",
    "        - Macapa North (MN) North stem, upriver\n",
    "        - Chaves (CV) South stem, downriver\n",
    "        - Baylique (BY) North stem, downriver\n",
    "\n",
    "\n",
    "    Proteomics samples from 2 trips to UWPR (July 2020 on the QE; April 2021 on the Fusion)\n",
    "    There were at least triplicate samples for each treatment\n",
    "    Many in April 2021 injected twice\n",
    "\n",
    "Starting with:\n",
    "\n",
    "    Peaks de novo results of PTM-optimized sequencing\n",
    "    PeaksDB de novo-assisted results from PTM-optimized database searches\n",
    "    \n",
    "    Multiple samples per treatment\n",
    "\n",
    "Goal:\n",
    "\n",
    "    Txt files with combined de novo and PeaksDB for each sample\n",
    "    \n",
    "Using:\n",
    "\n",
    "    - pandas\n",
    "    - matplotlib\n",
    "    - numpy"
   ]
  },
  {
   "cell_type": "code",
   "execution_count": 1,
   "metadata": {},
   "outputs": [
    {
     "data": {
      "text/plain": [
       "'1.0.5'"
      ]
     },
     "execution_count": 1,
     "metadata": {},
     "output_type": "execute_result"
    }
   ],
   "source": [
    "# LIBRARIES\n",
    "#import pandas library for working with tabular data\n",
    "import os\n",
    "os.getcwd()\n",
    "import pandas as pd\n",
    "import numpy as np\n",
    "import matplotlib.pyplot as plt\n",
    "import seaborn as sns\n",
    "from scipy.stats import kde\n",
    "#import regular expresson (regex)\n",
    "import re\n",
    "#check pandas version\n",
    "pd.__version__"
   ]
  },
  {
   "cell_type": "code",
   "execution_count": 2,
   "metadata": {},
   "outputs": [
    {
     "name": "stdout",
     "output_type": "stream",
     "text": [
      "/home/millieginty/Documents/git-repos/amazon/data/Trocas7-incubations\n"
     ]
    }
   ],
   "source": [
    "cd /home/millieginty/Documents/git-repos/amazon/data/Trocas7-incubations/"
   ]
  },
  {
   "cell_type": "markdown",
   "metadata": {},
   "source": [
    "### 1. Macapa North, timepoint 0, size fraction 0.3-0.7 um (denoted as MN_T00_GF)\n",
    "### T7 samples #s: 121, 126\n",
    "### Exported NAAF and stripped peptides contained in the following directories:\n",
    "\n",
    "    Trocas-incubations/processed/PeaksDB/126_MN_T00_GF_PDB\n",
    "    Trocas-incubations/processed/PeaksDB/126_MN_T00_GF_DN"
   ]
  },
  {
   "cell_type": "code",
   "execution_count": 8,
   "metadata": {
    "scrolled": true
   },
   "outputs": [
    {
     "name": "stdout",
     "output_type": "stream",
     "text": [
      "total 210 peptides, redundant 517\n",
      "total 210 peptides, nonredundant 333\n"
     ]
    },
    {
     "data": {
      "text/html": [
       "<div>\n",
       "<style scoped>\n",
       "    .dataframe tbody tr th:only-of-type {\n",
       "        vertical-align: middle;\n",
       "    }\n",
       "\n",
       "    .dataframe tbody tr th {\n",
       "        vertical-align: top;\n",
       "    }\n",
       "\n",
       "    .dataframe thead th {\n",
       "        text-align: right;\n",
       "    }\n",
       "</style>\n",
       "<table border=\"1\" class=\"dataframe\">\n",
       "  <thead>\n",
       "    <tr style=\"text-align: right;\">\n",
       "      <th></th>\n",
       "      <th>0</th>\n",
       "    </tr>\n",
       "  </thead>\n",
       "  <tbody>\n",
       "    <tr>\n",
       "      <th>0</th>\n",
       "      <td>VLEGNEQFLNAAK</td>\n",
       "    </tr>\n",
       "    <tr>\n",
       "      <th>1</th>\n",
       "      <td>LSSPATLNSR</td>\n",
       "    </tr>\n",
       "    <tr>\n",
       "      <th>2</th>\n",
       "      <td>LSSPATLNSR</td>\n",
       "    </tr>\n",
       "    <tr>\n",
       "      <th>3</th>\n",
       "      <td>LSSPATLNSR</td>\n",
       "    </tr>\n",
       "    <tr>\n",
       "      <th>4</th>\n",
       "      <td>LSSPATLDSR</td>\n",
       "    </tr>\n",
       "  </tbody>\n",
       "</table>\n",
       "</div>"
      ],
      "text/plain": [
       "               0\n",
       "0  VLEGNEQFLNAAK\n",
       "1     LSSPATLNSR\n",
       "2     LSSPATLNSR\n",
       "3     LSSPATLNSR\n",
       "4     LSSPATLDSR"
      ]
     },
     "execution_count": 8,
     "metadata": {},
     "output_type": "execute_result"
    }
   ],
   "source": [
    "# for each of the 4 incubation samples:\n",
    "# read in NAAF totals csvs made in PeaksDN (de novo), and PeaksDB (de novo assisted database search) notebooks\n",
    "# bringing de novo peptides >50% ALC and PeaksDB peptides <1% FDR\n",
    "\n",
    "peaks50_126a = pd.read_csv(\"processed/PeaksDN/126_MN_T00_GF_DN/126_MN_T00_GF_DN50_stripped_peptides.txt\", header=None)\n",
    "peaks50_126b = pd.read_csv(\"processed/PeaksDN/126_MN_T00_GF_DN/126B_MN_T00_GF_DN50_stripped_peptides.txt\", header=None)\n",
    "peaksdb_126a = pd.read_csv(\"processed/PeaksDB/126_MN_T00_GF_PDB/126_MN_T00_GF_PDB_stripped_peptides.txt\", header=None)\n",
    "peaksdb_126b = pd.read_csv(\"processed/PeaksDB/126_MN_T00_GF_PDB/126B_MN_T00_GF_PDB_stripped_peptides.txt\", header=None)\n",
    "\n",
    "\n",
    "frames = [peaks50_126a, peaks50_126b, peaksdb_126a, peaksdb_126b]\n",
    "#index = [index]\n",
    "\n",
    "# concatenate dataframes\n",
    "tot_126 = pd.concat(frames)\n",
    "\n",
    "# deduplicate\n",
    "tot_126_nr = tot_126.drop_duplicates()\n",
    "\n",
    "print('total 210 peptides, redundant', len(tot_126))\n",
    "print('total 210 peptides, nonredundant', len(tot_126_nr))\n",
    "\n",
    "tot_126.to_csv(\"processed/stripped_peptides/126_MN_T00_GF_stripped_peptides.txt\", header=False, index=False)\n",
    "\n",
    "tot_126.head()"
   ]
  },
  {
   "cell_type": "markdown",
   "metadata": {},
   "source": [
    "### 2. Macapa North, timepoint 0, size fraction>0.7 um (denoted as MN_T00_GD)\n",
    "### T7 samples #s: 221, 226\n",
    "### Exported NAAF and stripped peptides contained in the following directories:\n",
    "\n",
    "    Trocas-incubations/processed/PeaksDB/226_MN_T00_GD_PDB\n",
    "    Trocas-incubations/processed/PeaksDB/226_MN_T00_GD_DN"
   ]
  },
  {
   "cell_type": "code",
   "execution_count": 10,
   "metadata": {
    "scrolled": false
   },
   "outputs": [
    {
     "name": "stdout",
     "output_type": "stream",
     "text": [
      "total 226 peptides, redundant 411\n",
      "total 226 peptides, nonredundant 310\n"
     ]
    },
    {
     "data": {
      "text/html": [
       "<div>\n",
       "<style scoped>\n",
       "    .dataframe tbody tr th:only-of-type {\n",
       "        vertical-align: middle;\n",
       "    }\n",
       "\n",
       "    .dataframe tbody tr th {\n",
       "        vertical-align: top;\n",
       "    }\n",
       "\n",
       "    .dataframe thead th {\n",
       "        text-align: right;\n",
       "    }\n",
       "</style>\n",
       "<table border=\"1\" class=\"dataframe\">\n",
       "  <thead>\n",
       "    <tr style=\"text-align: right;\">\n",
       "      <th></th>\n",
       "      <th>0</th>\n",
       "    </tr>\n",
       "  </thead>\n",
       "  <tbody>\n",
       "    <tr>\n",
       "      <th>0</th>\n",
       "      <td>VLEGNEQFLNAAK</td>\n",
       "    </tr>\n",
       "    <tr>\n",
       "      <th>1</th>\n",
       "      <td>LSSPATLNSR</td>\n",
       "    </tr>\n",
       "    <tr>\n",
       "      <th>2</th>\n",
       "      <td>LSSPATLNSR</td>\n",
       "    </tr>\n",
       "    <tr>\n",
       "      <th>3</th>\n",
       "      <td>LSSPATLNSR</td>\n",
       "    </tr>\n",
       "    <tr>\n",
       "      <th>4</th>\n",
       "      <td>LSSPATLNSR</td>\n",
       "    </tr>\n",
       "  </tbody>\n",
       "</table>\n",
       "</div>"
      ],
      "text/plain": [
       "               0\n",
       "0  VLEGNEQFLNAAK\n",
       "1     LSSPATLNSR\n",
       "2     LSSPATLNSR\n",
       "3     LSSPATLNSR\n",
       "4     LSSPATLNSR"
      ]
     },
     "execution_count": 10,
     "metadata": {},
     "output_type": "execute_result"
    }
   ],
   "source": [
    "# for each of the 4 incubation samples:\n",
    "# read in NAAF totals csvs made in PeaksDN (de novo), and PeaksDB (de novo assisted database search) notebooks\n",
    "# bringing de novo peptides >50% ALC and PeaksDB peptides <1% FDR\n",
    "\n",
    "peaks50_226a = pd.read_csv(\"processed/PeaksDN/226_MN_T00_GD_DN/226_MN_T00_GD_DN50_stripped_peptides.txt\", header=None)\n",
    "peaks50_226b = pd.read_csv(\"processed/PeaksDN/226_MN_T00_GD_DN/226B_MN_T00_GD_DN50_stripped_peptides.txt\", header=None)\n",
    "peaksdb_226a = pd.read_csv(\"processed/PeaksDB/226_MN_T00_GD_PDB/226_MN_T00_GD_PDB_stripped_peptides.txt\", header=None)\n",
    "peaksdb_226b = pd.read_csv(\"processed/PeaksDB/226_MN_T00_GD_PDB/226B_MN_T00_GD_PDB_stripped_peptides.txt\", header=None)\n",
    "\n",
    "frames = [peaks50_226a, peaks50_226b, peaksdb_226a, peaksdb_226b]\n",
    "#index = [index]\n",
    "\n",
    "# concatenate dataframes\n",
    "tot_226 = pd.concat(frames)\n",
    "\n",
    "# deduplicate\n",
    "tot_226_nr = tot_226.drop_duplicates()\n",
    "\n",
    "print('total 226 peptides, redundant', len(tot_226))\n",
    "print('total 226 peptides, nonredundant', len(tot_226_nr))\n",
    "\n",
    "tot_226.to_csv(\"processed/stripped_peptides/226_MN_T00_GD_stripped_peptides.txt\", header=False, index=False)\n",
    "\n",
    "tot_226.head()"
   ]
  },
  {
   "cell_type": "markdown",
   "metadata": {},
   "source": [
    "### 3. Macapa North, timepoint 24 hrs, size fraction 0.3-0.7 um (denoted as MN_T24_GF)\n",
    "### T7 samples #s: 318A, 318B, 318 (318C)\n",
    "### Exported NAAF and stripped peptides contained in the following directories:\n",
    "\n",
    "    Trocas-incubations/processed/PeaksDB/318_MN_T24_GF_PDB\n",
    "    Trocas-incubations/processed/PeaksDB/318_MN_T24_GF_DN"
   ]
  },
  {
   "cell_type": "code",
   "execution_count": 11,
   "metadata": {
    "scrolled": false
   },
   "outputs": [
    {
     "name": "stdout",
     "output_type": "stream",
     "text": [
      "total 318 peptides, redundant 892\n",
      "total 318 peptides, nonredundant 635\n"
     ]
    },
    {
     "data": {
      "text/html": [
       "<div>\n",
       "<style scoped>\n",
       "    .dataframe tbody tr th:only-of-type {\n",
       "        vertical-align: middle;\n",
       "    }\n",
       "\n",
       "    .dataframe tbody tr th {\n",
       "        vertical-align: top;\n",
       "    }\n",
       "\n",
       "    .dataframe thead th {\n",
       "        text-align: right;\n",
       "    }\n",
       "</style>\n",
       "<table border=\"1\" class=\"dataframe\">\n",
       "  <thead>\n",
       "    <tr style=\"text-align: right;\">\n",
       "      <th></th>\n",
       "      <th>0</th>\n",
       "    </tr>\n",
       "  </thead>\n",
       "  <tbody>\n",
       "    <tr>\n",
       "      <th>0</th>\n",
       "      <td>LSSPATLNSR</td>\n",
       "    </tr>\n",
       "    <tr>\n",
       "      <th>1</th>\n",
       "      <td>LSSPATLNSR</td>\n",
       "    </tr>\n",
       "    <tr>\n",
       "      <th>2</th>\n",
       "      <td>LSSPATLNSR</td>\n",
       "    </tr>\n",
       "    <tr>\n",
       "      <th>3</th>\n",
       "      <td>LATVLSPR</td>\n",
       "    </tr>\n",
       "    <tr>\n",
       "      <th>4</th>\n",
       "      <td>LATVLSPR</td>\n",
       "    </tr>\n",
       "  </tbody>\n",
       "</table>\n",
       "</div>"
      ],
      "text/plain": [
       "            0\n",
       "0  LSSPATLNSR\n",
       "1  LSSPATLNSR\n",
       "2  LSSPATLNSR\n",
       "3    LATVLSPR\n",
       "4    LATVLSPR"
      ]
     },
     "execution_count": 11,
     "metadata": {},
     "output_type": "execute_result"
    }
   ],
   "source": [
    "# for each of the 4 incubation samples:\n",
    "# read in NAAF totals csvs made in PeaksDN (de novo), and PeaksDB (de novo assisted database search) notebooks\n",
    "# bringing de novo peptides >50% ALC and PeaksDB peptides <1% FDR\n",
    "\n",
    "peaks50_318a = pd.read_csv(\"processed/PeaksDN/318_MN_T24_GF_DN/318A_MN_T24_GF_DN50_stripped_peptides.txt\", header=None)\n",
    "peaks50_318b = pd.read_csv(\"processed/PeaksDN/318_MN_T24_GF_DN/318B_MN_T24_GF_DN50_stripped_peptides.txt\", header=None)\n",
    "peaks50_318c = pd.read_csv(\"processed/PeaksDN/318_MN_T24_GF_DN/318C_MN_T24_GF_DN50_stripped_peptides.txt\", header=None)\n",
    "peaksdb_318a = pd.read_csv(\"processed/PeaksDB/318_MN_T24_GF_PDB/318A_MN_T24_GF_PDB_stripped_peptides.txt\", header=None)\n",
    "peaksdb_318b = pd.read_csv(\"processed/PeaksDB/318_MN_T24_GF_PDB/318B_MN_T24_GF_PDB_stripped_peptides.txt\", header=None)\n",
    "peaksdb_318c = pd.read_csv(\"processed/PeaksDB/318_MN_T24_GF_PDB/318C_MN_T24_GF_PDB_stripped_peptides.txt\", header=None)\n",
    "\n",
    "frames = [peaks50_318a, peaks50_318b, peaks50_318c, peaksdb_318a, peaksdb_318b, peaksdb_318c]\n",
    "#index = [index]\n",
    "\n",
    "# concatenate dataframes\n",
    "tot_318 = pd.concat(frames)\n",
    "\n",
    "# deduplicate\n",
    "tot_318_nr = tot_318.drop_duplicates()\n",
    "\n",
    "print('total 318 peptides, redundant', len(tot_318))\n",
    "print('total 318 peptides, nonredundant', len(tot_318_nr))\n",
    "\n",
    "tot_318.to_csv(\"processed/stripped_peptides/318_MN_T24_GF_stripped_peptides.txt\", header=False, index=False)\n",
    "\n",
    "tot_318.head()"
   ]
  },
  {
   "cell_type": "markdown",
   "metadata": {},
   "source": [
    "### 4. Macapa North, timepoint 24 hrs, size fraction >0.7 um (denoted as MN_T24_GD)\n",
    "### T7 samples #s: 417A, 417B\n",
    "### Exported NAAF and stripped peptides contained in the following directories:\n",
    "\n",
    "    Trocas-incubations/processed/PeaksDB/417_MN_T24_GD_PDB\n",
    "    Trocas-incubations/processed/PeaksDB/417_MN_T24_GD_DN"
   ]
  },
  {
   "cell_type": "code",
   "execution_count": 12,
   "metadata": {
    "scrolled": true
   },
   "outputs": [
    {
     "name": "stdout",
     "output_type": "stream",
     "text": [
      "total 417 peptides, redundant 638\n",
      "total 417 peptides, nonredundant 469\n"
     ]
    },
    {
     "data": {
      "text/html": [
       "<div>\n",
       "<style scoped>\n",
       "    .dataframe tbody tr th:only-of-type {\n",
       "        vertical-align: middle;\n",
       "    }\n",
       "\n",
       "    .dataframe tbody tr th {\n",
       "        vertical-align: top;\n",
       "    }\n",
       "\n",
       "    .dataframe thead th {\n",
       "        text-align: right;\n",
       "    }\n",
       "</style>\n",
       "<table border=\"1\" class=\"dataframe\">\n",
       "  <thead>\n",
       "    <tr style=\"text-align: right;\">\n",
       "      <th></th>\n",
       "      <th>0</th>\n",
       "    </tr>\n",
       "  </thead>\n",
       "  <tbody>\n",
       "    <tr>\n",
       "      <th>0</th>\n",
       "      <td>VLEGNEQFLNAAK</td>\n",
       "    </tr>\n",
       "    <tr>\n",
       "      <th>1</th>\n",
       "      <td>VLEGNEQFLNAAK</td>\n",
       "    </tr>\n",
       "    <tr>\n",
       "      <th>2</th>\n",
       "      <td>SPATLNSR</td>\n",
       "    </tr>\n",
       "    <tr>\n",
       "      <th>3</th>\n",
       "      <td>SCK</td>\n",
       "    </tr>\n",
       "    <tr>\n",
       "      <th>4</th>\n",
       "      <td>SPATLNSR</td>\n",
       "    </tr>\n",
       "  </tbody>\n",
       "</table>\n",
       "</div>"
      ],
      "text/plain": [
       "               0\n",
       "0  VLEGNEQFLNAAK\n",
       "1  VLEGNEQFLNAAK\n",
       "2       SPATLNSR\n",
       "3            SCK\n",
       "4       SPATLNSR"
      ]
     },
     "execution_count": 12,
     "metadata": {},
     "output_type": "execute_result"
    }
   ],
   "source": [
    "# for each of the 4 incubation samples:\n",
    "# read in NAAF totals csvs made in PeaksDN (de novo), and PeaksDB (de novo assisted database search) notebooks\n",
    "# bringing de novo peptides >50% ALC and PeaksDB peptides <1% FDR\n",
    "\n",
    "peaks50_417a = pd.read_csv(\"processed/PeaksDN/417_MN_T24_GD_DN/417A_MN_T24_GD_DN50_stripped_peptides.txt\", header=None)\n",
    "peaks50_417b = pd.read_csv(\"processed/PeaksDN/417_MN_T24_GD_DN/417B_MN_T24_GD_DN50_stripped_peptides.txt\", header=None)\n",
    "peaksdb_417a = pd.read_csv(\"processed/PeaksDB/417_MN_T24_GD_PDB/417A_MN_T24_GD_PDB_stripped_peptides.txt\", header=None)\n",
    "peaksdb_417b = pd.read_csv(\"processed/PeaksDB/417_MN_T24_GD_PDB/417B_MN_T24_GD_PDB_stripped_peptides.txt\", header=None)\n",
    "\n",
    "\n",
    "frames = [peaks50_417a, peaks50_417b, peaksdb_417a, peaksdb_417b, ]\n",
    "#index = [index]\n",
    "\n",
    "# concatenate dataframes\n",
    "tot_417 = pd.concat(frames)\n",
    "\n",
    "# deduplicate\n",
    "tot_417_nr = tot_417.drop_duplicates()\n",
    "\n",
    "print('total 417 peptides, redundant', len(tot_417))\n",
    "print('total 417 peptides, nonredundant', len(tot_417_nr))\n",
    "\n",
    "tot_417.to_csv(\"processed/stripped_peptides/417_MN_T24_GD_stripped_peptides.txt\", header=False, index=False)\n",
    "\n",
    "tot_417.head()"
   ]
  }
 ],
 "metadata": {
  "kernelspec": {
   "display_name": "Python 3",
   "language": "python",
   "name": "python3"
  },
  "language_info": {
   "codemirror_mode": {
    "name": "ipython",
    "version": 3
   },
   "file_extension": ".py",
   "mimetype": "text/x-python",
   "name": "python",
   "nbconvert_exporter": "python",
   "pygments_lexer": "ipython3",
   "version": "3.8.3"
  }
 },
 "nbformat": 4,
 "nbformat_minor": 4
}
