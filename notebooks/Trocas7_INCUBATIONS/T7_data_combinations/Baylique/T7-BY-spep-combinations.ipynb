{
 "cells": [
  {
   "cell_type": "markdown",
   "metadata": {},
   "source": [
    "### Combining stripped peptides from *de novo* sequencing and PeaksDB search results Trocas 7 incubation samples\n",
    "\n",
    "The dataset:\n",
    "\n",
    "    16 treatments: 4 stations, 2 timepoints (Time 0 an Time 24 hrs), 2 size fractions (GFF; GF75):\n",
    "    \n",
    "    Stations: \n",
    "    \n",
    "        - Macapa South (MS) South stem, upriver\n",
    "        - Macapa North (MN) North stem, upriver\n",
    "        - Chaves (CV) South stem, downriver\n",
    "        - Baylique (BY) North stem, downriver\n",
    "\n",
    "\n",
    "    Proteomics samples from 2 trips to UWPR (July 2020 on the QE; April 2021 on the Fusion)\n",
    "    There were at least triplicate samples for each treatment\n",
    "    Many in April 2021 injected twice\n",
    "\n",
    "Starting with:\n",
    "\n",
    "    Peaks de novo results of PTM-optimized sequencing\n",
    "    PeaksDB de novo-assisted results from PTM-optimized database searches\n",
    "    \n",
    "    Multiple samples per treatment\n",
    "\n",
    "Goal:\n",
    "\n",
    "    Txt files with combined de novo and PeaksDB for each sample\n",
    "    \n",
    "Using:\n",
    "\n",
    "    - pandas\n",
    "    - matplotlib\n",
    "    - numpy"
   ]
  },
  {
   "cell_type": "code",
   "execution_count": 1,
   "metadata": {},
   "outputs": [
    {
     "data": {
      "text/plain": [
       "'1.0.5'"
      ]
     },
     "execution_count": 1,
     "metadata": {},
     "output_type": "execute_result"
    }
   ],
   "source": [
    "# LIBRARIES\n",
    "#import pandas library for working with tabular data\n",
    "import os\n",
    "os.getcwd()\n",
    "import pandas as pd\n",
    "import numpy as np\n",
    "import matplotlib.pyplot as plt\n",
    "import seaborn as sns\n",
    "from scipy.stats import kde\n",
    "#import regular expresson (regex)\n",
    "import re\n",
    "#check pandas version\n",
    "pd.__version__"
   ]
  },
  {
   "cell_type": "code",
   "execution_count": 2,
   "metadata": {},
   "outputs": [
    {
     "name": "stdout",
     "output_type": "stream",
     "text": [
      "/home/millieginty/Documents/git-repos/amazon/data/Trocas7-incubations\n"
     ]
    }
   ],
   "source": [
    "cd /home/millieginty/Documents/git-repos/amazon/data/Trocas7-incubations/"
   ]
  },
  {
   "cell_type": "markdown",
   "metadata": {},
   "source": [
    "### 1. Baylique, timepoint 0, size fraction 0.3-0.7 um (denoted as BY_T00_GF)\n",
    "### T7 samples #s: 101, 102\n",
    "### Exported NAAF and stripped peptides contained in the following directories:\n",
    "\n",
    "    Trocas-incubations/processed/PeaksDB/102_BY_T00_GF_PDB\n",
    "    Trocas-incubations/processed/PeaksDB/102_BY_T00_GF_DN"
   ]
  },
  {
   "cell_type": "code",
   "execution_count": 3,
   "metadata": {
    "scrolled": true
   },
   "outputs": [
    {
     "name": "stdout",
     "output_type": "stream",
     "text": [
      "total 210 peptides, redundant 661\n",
      "total 210 peptides, nonredundant 428\n"
     ]
    },
    {
     "data": {
      "text/html": [
       "<div>\n",
       "<style scoped>\n",
       "    .dataframe tbody tr th:only-of-type {\n",
       "        vertical-align: middle;\n",
       "    }\n",
       "\n",
       "    .dataframe tbody tr th {\n",
       "        vertical-align: top;\n",
       "    }\n",
       "\n",
       "    .dataframe thead th {\n",
       "        text-align: right;\n",
       "    }\n",
       "</style>\n",
       "<table border=\"1\" class=\"dataframe\">\n",
       "  <thead>\n",
       "    <tr style=\"text-align: right;\">\n",
       "      <th></th>\n",
       "      <th>0</th>\n",
       "    </tr>\n",
       "  </thead>\n",
       "  <tbody>\n",
       "    <tr>\n",
       "      <th>0</th>\n",
       "      <td>LSSPATLNSR</td>\n",
       "    </tr>\n",
       "    <tr>\n",
       "      <th>1</th>\n",
       "      <td>LSSPATLNSR</td>\n",
       "    </tr>\n",
       "    <tr>\n",
       "      <th>2</th>\n",
       "      <td>LSSPATLNSR</td>\n",
       "    </tr>\n",
       "    <tr>\n",
       "      <th>3</th>\n",
       "      <td>RSLQVR</td>\n",
       "    </tr>\n",
       "    <tr>\n",
       "      <th>4</th>\n",
       "      <td>LSSPATLDSR</td>\n",
       "    </tr>\n",
       "  </tbody>\n",
       "</table>\n",
       "</div>"
      ],
      "text/plain": [
       "            0\n",
       "0  LSSPATLNSR\n",
       "1  LSSPATLNSR\n",
       "2  LSSPATLNSR\n",
       "3      RSLQVR\n",
       "4  LSSPATLDSR"
      ]
     },
     "execution_count": 3,
     "metadata": {},
     "output_type": "execute_result"
    }
   ],
   "source": [
    "# for each of the 4 incubation samples:\n",
    "# read in NAAF totals csvs made in PeaksDN (de novo), and PeaksDB (de novo assisted database search) notebooks\n",
    "# bringing de novo peptides >50% ALC and PeaksDB peptides <1% FDR\n",
    "\n",
    "peaks50_102a = pd.read_csv(\"processed/PeaksDN/102_BY_T00_GF_DN/102A_BY_T00_GF_DN50_stripped_peptides.txt\", header=None)\n",
    "peaks50_102b = pd.read_csv(\"processed/PeaksDN/102_BY_T00_GF_DN/102B_BY_T00_GF_DN50_stripped_peptides.txt\", header=None)\n",
    "peaks50_102c = pd.read_csv(\"processed/PeaksDN/102_BY_T00_GF_DN/102C_BY_T00_GF_DN50_stripped_peptides.txt\", header=None)\n",
    "peaksdb_102a = pd.read_csv(\"processed/PeaksDB/102_BY_T00_GF_PDB/102A_BY_T00_GF_PDB_stripped_peptides.txt\", header=None)\n",
    "peaksdb_102b = pd.read_csv(\"processed/PeaksDB/102_BY_T00_GF_PDB/102B_BY_T00_GF_PDB_stripped_peptides.txt\", header=None)\n",
    "peaksdb_102c = pd.read_csv(\"processed/PeaksDB/102_BY_T00_GF_PDB/102C_BY_T00_GF_PDB_stripped_peptides.txt\", header=None)\n",
    "\n",
    "\n",
    "frames = [peaks50_102a, peaks50_102b, peaks50_102c, peaksdb_102a, peaksdb_102b, peaksdb_102c]\n",
    "#index = [index]\n",
    "\n",
    "# concatenate dataframes\n",
    "tot_102 = pd.concat(frames)\n",
    "\n",
    "# deduplicate\n",
    "tot_102_nr = tot_102.drop_duplicates()\n",
    "\n",
    "print('total 210 peptides, redundant', len(tot_102))\n",
    "print('total 210 peptides, nonredundant', len(tot_102_nr))\n",
    "\n",
    "tot_102.to_csv(\"processed/stripped_peptides/102_BY_T00_GF_stripped_peptides.txt\", header=False, index=False)\n",
    "\n",
    "tot_102.head()"
   ]
  },
  {
   "cell_type": "markdown",
   "metadata": {},
   "source": [
    "### 2. Baylique, timepoint 0, size fraction>0.7 um (denoted as BY_T00_GD)\n",
    "### T7 samples #s:  201 (202B) 202\n",
    "### Exported NAAF and stripped peptides contained in the following directories:\n",
    "\n",
    "    Trocas-incubations/processed/PeaksDB/202_BY_T00_GD_PDB\n",
    "    Trocas-incubations/processed/PeaksDB/202_BY_T00_GD_DN"
   ]
  },
  {
   "cell_type": "code",
   "execution_count": 4,
   "metadata": {
    "scrolled": false
   },
   "outputs": [
    {
     "name": "stdout",
     "output_type": "stream",
     "text": [
      "total 202 peptides, redundant 368\n",
      "total 202 peptides, nonredundant 237\n"
     ]
    },
    {
     "data": {
      "text/html": [
       "<div>\n",
       "<style scoped>\n",
       "    .dataframe tbody tr th:only-of-type {\n",
       "        vertical-align: middle;\n",
       "    }\n",
       "\n",
       "    .dataframe tbody tr th {\n",
       "        vertical-align: top;\n",
       "    }\n",
       "\n",
       "    .dataframe thead th {\n",
       "        text-align: right;\n",
       "    }\n",
       "</style>\n",
       "<table border=\"1\" class=\"dataframe\">\n",
       "  <thead>\n",
       "    <tr style=\"text-align: right;\">\n",
       "      <th></th>\n",
       "      <th>0</th>\n",
       "    </tr>\n",
       "  </thead>\n",
       "  <tbody>\n",
       "    <tr>\n",
       "      <th>0</th>\n",
       "      <td>VLEGNEQFLNAAK</td>\n",
       "    </tr>\n",
       "    <tr>\n",
       "      <th>1</th>\n",
       "      <td>LSSPATLNSR</td>\n",
       "    </tr>\n",
       "    <tr>\n",
       "      <th>2</th>\n",
       "      <td>LSSPATLNSR</td>\n",
       "    </tr>\n",
       "    <tr>\n",
       "      <th>3</th>\n",
       "      <td>LSSPATLDSR</td>\n",
       "    </tr>\n",
       "    <tr>\n",
       "      <th>4</th>\n",
       "      <td>LSSPATLNSR</td>\n",
       "    </tr>\n",
       "  </tbody>\n",
       "</table>\n",
       "</div>"
      ],
      "text/plain": [
       "               0\n",
       "0  VLEGNEQFLNAAK\n",
       "1     LSSPATLNSR\n",
       "2     LSSPATLNSR\n",
       "3     LSSPATLDSR\n",
       "4     LSSPATLNSR"
      ]
     },
     "execution_count": 4,
     "metadata": {},
     "output_type": "execute_result"
    }
   ],
   "source": [
    "# for each of the 4 incubation samples:\n",
    "# read in NAAF totals csvs made in PeaksDN (de novo), and PeaksDB (de novo assisted database search) notebooks\n",
    "# bringing de novo peptides >50% ALC and PeaksDB peptides <1% FDR\n",
    "\n",
    "peaks50_202a = pd.read_csv(\"processed/PeaksDN/202_BY_T00_GD_DN/202_BY_T00_GD_DN50_stripped_peptides.txt\", header=None)\n",
    "peaks50_202b = pd.read_csv(\"processed/PeaksDN/202_BY_T00_GD_DN/202B_BY_T00_GD_DN50_stripped_peptides.txt\", header=None)\n",
    "peaksdb_202a = pd.read_csv(\"processed/PeaksDB/202_BY_T00_GD_PDB/202_BY_T00_GD_PDB_stripped_peptides.txt\", header=None)\n",
    "peaksdb_202b = pd.read_csv(\"processed/PeaksDB/202_BY_T00_GD_PDB/202B_BY_T00_GD_PDB_stripped_peptides.txt\", header=None)\n",
    "\n",
    "frames = [peaks50_202a, peaks50_202b, peaksdb_202a, peaksdb_202b]\n",
    "#index = [index]\n",
    "\n",
    "# concatenate dataframes\n",
    "tot_202 = pd.concat(frames)\n",
    "\n",
    "# deduplicate\n",
    "tot_202_nr = tot_202.drop_duplicates()\n",
    "\n",
    "print('total 202 peptides, redundant', len(tot_202))\n",
    "print('total 202 peptides, nonredundant', len(tot_202_nr))\n",
    "\n",
    "tot_202.to_csv(\"processed/stripped_peptides/202_BY_T00_GD_stripped_peptides.txt\", header=False, index=False)\n",
    "\n",
    "tot_202.head()"
   ]
  },
  {
   "cell_type": "markdown",
   "metadata": {},
   "source": [
    "### 3. Baylique, timepoint 24 hrs, size fraction 0.3-0.7 um (denoted as BY_T24_GF)\n",
    "### T7 samples #s: 302A, 302B, 303 (302C)\n",
    "### Exported NAAF and stripped peptides contained in the following directories:\n",
    "\n",
    "    Trocas-incubations/processed/PeaksDB/302_BY_T24_GF_PDB\n",
    "    Trocas-incubations/processed/PeaksDB/302_BY_T24_GF_DN"
   ]
  },
  {
   "cell_type": "code",
   "execution_count": 5,
   "metadata": {
    "scrolled": false
   },
   "outputs": [
    {
     "name": "stdout",
     "output_type": "stream",
     "text": [
      "total 302 peptides, redundant 862\n",
      "total 302 peptides, nonredundant 541\n"
     ]
    },
    {
     "data": {
      "text/html": [
       "<div>\n",
       "<style scoped>\n",
       "    .dataframe tbody tr th:only-of-type {\n",
       "        vertical-align: middle;\n",
       "    }\n",
       "\n",
       "    .dataframe tbody tr th {\n",
       "        vertical-align: top;\n",
       "    }\n",
       "\n",
       "    .dataframe thead th {\n",
       "        text-align: right;\n",
       "    }\n",
       "</style>\n",
       "<table border=\"1\" class=\"dataframe\">\n",
       "  <thead>\n",
       "    <tr style=\"text-align: right;\">\n",
       "      <th></th>\n",
       "      <th>0</th>\n",
       "    </tr>\n",
       "  </thead>\n",
       "  <tbody>\n",
       "    <tr>\n",
       "      <th>0</th>\n",
       "      <td>LSSPATLNSR</td>\n",
       "    </tr>\n",
       "    <tr>\n",
       "      <th>1</th>\n",
       "      <td>LSSPATLNSR</td>\n",
       "    </tr>\n",
       "    <tr>\n",
       "      <th>2</th>\n",
       "      <td>LNSPATLNSR</td>\n",
       "    </tr>\n",
       "    <tr>\n",
       "      <th>3</th>\n",
       "      <td>VVTVSLPR</td>\n",
       "    </tr>\n",
       "    <tr>\n",
       "      <th>4</th>\n",
       "      <td>VATVSPLR</td>\n",
       "    </tr>\n",
       "  </tbody>\n",
       "</table>\n",
       "</div>"
      ],
      "text/plain": [
       "            0\n",
       "0  LSSPATLNSR\n",
       "1  LSSPATLNSR\n",
       "2  LNSPATLNSR\n",
       "3    VVTVSLPR\n",
       "4    VATVSPLR"
      ]
     },
     "execution_count": 5,
     "metadata": {},
     "output_type": "execute_result"
    }
   ],
   "source": [
    "# for each of the 4 incubation samples:\n",
    "# read in NAAF totals csvs made in PeaksDN (de novo), and PeaksDB (de novo assisted database search) notebooks\n",
    "# bringing de novo peptides >50% ALC and PeaksDB peptides <1% FDR\n",
    "\n",
    "peaks50_302a = pd.read_csv(\"processed/PeaksDN/302_BY_T24_GF_DN/302A_BY_T24_GF_DN50_stripped_peptides.txt\", header=None)\n",
    "peaks50_302b = pd.read_csv(\"processed/PeaksDN/302_BY_T24_GF_DN/302B_BY_T24_GF_DN50_stripped_peptides.txt\", header=None)\n",
    "peaks50_302c = pd.read_csv(\"processed/PeaksDN/302_BY_T24_GF_DN/302C_BY_T24_GF_DN50_stripped_peptides.txt\", header=None)\n",
    "peaksdb_302a = pd.read_csv(\"processed/PeaksDB/302_BY_T24_GF_PDB/302A_BY_T24_GF_PDB_stripped_peptides.txt\", header=None)\n",
    "peaksdb_302b = pd.read_csv(\"processed/PeaksDB/302_BY_T24_GF_PDB/302B_BY_T24_GF_PDB_stripped_peptides.txt\", header=None)\n",
    "peaksdb_302c = pd.read_csv(\"processed/PeaksDB/302_BY_T24_GF_PDB/302C_BY_T24_GF_PDB_stripped_peptides.txt\", header=None)\n",
    "\n",
    "frames = [peaks50_302a, peaks50_302b, peaks50_302c, peaksdb_302a, peaksdb_302b, peaksdb_302c]\n",
    "#index = [index]\n",
    "\n",
    "# concatenate dataframes\n",
    "tot_302 = pd.concat(frames)\n",
    "\n",
    "# deduplicate\n",
    "tot_302_nr = tot_302.drop_duplicates()\n",
    "\n",
    "print('total 302 peptides, redundant', len(tot_302))\n",
    "print('total 302 peptides, nonredundant', len(tot_302_nr))\n",
    "\n",
    "tot_302.to_csv(\"processed/stripped_peptides/302_BY_T24_GF_stripped_peptides.txt\", header=False, index=False)\n",
    "\n",
    "tot_302.head()"
   ]
  },
  {
   "cell_type": "markdown",
   "metadata": {},
   "source": [
    "### 4. Baylique, timepoint 24 hrs, size fraction >0.7 um (denoted as BY_T24_GD)\n",
    "### T7 samples #s: 402A, 402B\n",
    "### Exported NAAF and stripped peptides contained in the following directories:\n",
    "\n",
    "    Trocas-incubations/processed/PeaksDB/402_BY_T24_GD_PDB\n",
    "    Trocas-incubations/processed/PeaksDB/402_BY_T24_GD_DN"
   ]
  },
  {
   "cell_type": "code",
   "execution_count": 6,
   "metadata": {
    "scrolled": true
   },
   "outputs": [
    {
     "name": "stdout",
     "output_type": "stream",
     "text": [
      "total 402 peptides, redundant 356\n",
      "total 402 peptides, nonredundant 254\n"
     ]
    },
    {
     "data": {
      "text/html": [
       "<div>\n",
       "<style scoped>\n",
       "    .dataframe tbody tr th:only-of-type {\n",
       "        vertical-align: middle;\n",
       "    }\n",
       "\n",
       "    .dataframe tbody tr th {\n",
       "        vertical-align: top;\n",
       "    }\n",
       "\n",
       "    .dataframe thead th {\n",
       "        text-align: right;\n",
       "    }\n",
       "</style>\n",
       "<table border=\"1\" class=\"dataframe\">\n",
       "  <thead>\n",
       "    <tr style=\"text-align: right;\">\n",
       "      <th></th>\n",
       "      <th>0</th>\n",
       "    </tr>\n",
       "  </thead>\n",
       "  <tbody>\n",
       "    <tr>\n",
       "      <th>0</th>\n",
       "      <td>SPATLNSR</td>\n",
       "    </tr>\n",
       "    <tr>\n",
       "      <th>1</th>\n",
       "      <td>LSSPATLNSR</td>\n",
       "    </tr>\n",
       "    <tr>\n",
       "      <th>2</th>\n",
       "      <td>LSSPATLNSR</td>\n",
       "    </tr>\n",
       "    <tr>\n",
       "      <th>3</th>\n",
       "      <td>LSSPATLDSR</td>\n",
       "    </tr>\n",
       "    <tr>\n",
       "      <th>4</th>\n",
       "      <td>LSSPATLNSR</td>\n",
       "    </tr>\n",
       "  </tbody>\n",
       "</table>\n",
       "</div>"
      ],
      "text/plain": [
       "            0\n",
       "0    SPATLNSR\n",
       "1  LSSPATLNSR\n",
       "2  LSSPATLNSR\n",
       "3  LSSPATLDSR\n",
       "4  LSSPATLNSR"
      ]
     },
     "execution_count": 6,
     "metadata": {},
     "output_type": "execute_result"
    }
   ],
   "source": [
    "# for each of the 4 incubation samples:\n",
    "# read in NAAF totals csvs made in PeaksDN (de novo), and PeaksDB (de novo assisted database search) notebooks\n",
    "# bringing de novo peptides >50% ALC and PeaksDB peptides <1% FDR\n",
    "\n",
    "peaks50_402a = pd.read_csv(\"processed/PeaksDN/402_BY_T24_GD_DN/402A_BY_T24_GD_DN50_stripped_peptides.txt\", header=None)\n",
    "peaks50_402b = pd.read_csv(\"processed/PeaksDN/402_BY_T24_GD_DN/402B_BY_T24_GD_DN50_stripped_peptides.txt\", header=None)\n",
    "peaksdb_402a = pd.read_csv(\"processed/PeaksDB/402_BY_T24_GD_PDB/402A_BY_T24_GD_PDB_stripped_peptides.txt\", header=None)\n",
    "peaksdb_402b = pd.read_csv(\"processed/PeaksDB/402_BY_T24_GD_PDB/402B_BY_T24_GD_PDB_stripped_peptides.txt\", header=None)\n",
    "\n",
    "\n",
    "frames = [peaks50_402a, peaks50_402b, peaksdb_402a, peaksdb_402b, ]\n",
    "#index = [index]\n",
    "\n",
    "# concatenate dataframes\n",
    "tot_402 = pd.concat(frames)\n",
    "\n",
    "# deduplicate\n",
    "tot_402_nr = tot_402.drop_duplicates()\n",
    "\n",
    "print('total 402 peptides, redundant', len(tot_402))\n",
    "print('total 402 peptides, nonredundant', len(tot_402_nr))\n",
    "\n",
    "tot_402.to_csv(\"processed/stripped_peptides/402_BY_T24_GD_stripped_peptides.txt\", header=False, index=False)\n",
    "\n",
    "tot_402.head()"
   ]
  }
 ],
 "metadata": {
  "kernelspec": {
   "display_name": "Python 3",
   "language": "python",
   "name": "python3"
  },
  "language_info": {
   "codemirror_mode": {
    "name": "ipython",
    "version": 3
   },
   "file_extension": ".py",
   "mimetype": "text/x-python",
   "name": "python",
   "nbconvert_exporter": "python",
   "pygments_lexer": "ipython3",
   "version": "3.8.3"
  }
 },
 "nbformat": 4,
 "nbformat_minor": 4
}
