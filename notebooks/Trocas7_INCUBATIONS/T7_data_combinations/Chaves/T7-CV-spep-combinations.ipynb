{
 "cells": [
  {
   "cell_type": "markdown",
   "metadata": {},
   "source": [
    "### Combining stripped peptides from *de novo* sequencing and PeaksDB search results Trocas 7 incubation samples\n",
    "\n",
    "The dataset:\n",
    "\n",
    "    16 treatments: 4 stations, 2 timepoints (Time 0 an Time 24 hrs), 2 size fractions (GFF; GF75):\n",
    "    \n",
    "    Stations: \n",
    "    \n",
    "        - Macapa South (MS) South stem, upriver\n",
    "        - Macapa North (MN) North stem, upriver\n",
    "        - Chaves (CV) South stem, downriver\n",
    "        - Baylique (BY) North stem, downriver\n",
    "\n",
    "\n",
    "    Proteomics samples from 2 trips to UWPR (July 2020 on the QE; April 2021 on the Fusion)\n",
    "    There were at least triplicate samples for each treatment\n",
    "    Many in April 2021 injected twice\n",
    "\n",
    "Starting with:\n",
    "\n",
    "    Peaks de novo results of PTM-optimized sequencing\n",
    "    PeaksDB de novo-assisted results from PTM-optimized database searches\n",
    "    \n",
    "    Multiple samples per treatment\n",
    "\n",
    "Goal:\n",
    "\n",
    "    Txt files with combined de novo and PeaksDB for each sample\n",
    "    \n",
    "Using:\n",
    "\n",
    "    - pandas\n",
    "    - matplotlib\n",
    "    - numpy"
   ]
  },
  {
   "cell_type": "code",
   "execution_count": 1,
   "metadata": {},
   "outputs": [
    {
     "data": {
      "text/plain": [
       "'1.0.5'"
      ]
     },
     "execution_count": 1,
     "metadata": {},
     "output_type": "execute_result"
    }
   ],
   "source": [
    "# LIBRARIES\n",
    "#import pandas library for working with tabular data\n",
    "import os\n",
    "os.getcwd()\n",
    "import pandas as pd\n",
    "import numpy as np\n",
    "import matplotlib.pyplot as plt\n",
    "import seaborn as sns\n",
    "from scipy.stats import kde\n",
    "#import regular expresson (regex)\n",
    "import re\n",
    "#check pandas version\n",
    "pd.__version__"
   ]
  },
  {
   "cell_type": "code",
   "execution_count": 2,
   "metadata": {},
   "outputs": [
    {
     "name": "stdout",
     "output_type": "stream",
     "text": [
      "/home/millieginty/Documents/git-repos/amazon/data/Trocas7-incubations\n"
     ]
    }
   ],
   "source": [
    "cd /home/millieginty/Documents/git-repos/amazon/data/Trocas7-incubations/"
   ]
  },
  {
   "cell_type": "markdown",
   "metadata": {},
   "source": [
    "### 1. Chaves, timepoint 0, size fraction 0.3-0.7 um (denoted as CV_T00_GF)\n",
    "### T7 samples #s: 105, 106\n",
    "### Exported NAAF and stripped peptides contained in the following directories:\n",
    "\n",
    "    Trocas-incubations/processed/PeaksDB/106_CV_T00_GF_PDB\n",
    "    Trocas-incubations/processed/PeaksDB/106_CV_T00_GF_DN"
   ]
  },
  {
   "cell_type": "code",
   "execution_count": 5,
   "metadata": {
    "scrolled": true
   },
   "outputs": [
    {
     "name": "stdout",
     "output_type": "stream",
     "text": [
      "total 210 peptides, redundant 985\n",
      "total 210 peptides, nonredundant 678\n"
     ]
    },
    {
     "data": {
      "text/html": [
       "<div>\n",
       "<style scoped>\n",
       "    .dataframe tbody tr th:only-of-type {\n",
       "        vertical-align: middle;\n",
       "    }\n",
       "\n",
       "    .dataframe tbody tr th {\n",
       "        vertical-align: top;\n",
       "    }\n",
       "\n",
       "    .dataframe thead th {\n",
       "        text-align: right;\n",
       "    }\n",
       "</style>\n",
       "<table border=\"1\" class=\"dataframe\">\n",
       "  <thead>\n",
       "    <tr style=\"text-align: right;\">\n",
       "      <th></th>\n",
       "      <th>0</th>\n",
       "    </tr>\n",
       "  </thead>\n",
       "  <tbody>\n",
       "    <tr>\n",
       "      <th>0</th>\n",
       "      <td>LSSPATLNSR</td>\n",
       "    </tr>\n",
       "    <tr>\n",
       "      <th>1</th>\n",
       "      <td>LSSPATLNSR</td>\n",
       "    </tr>\n",
       "    <tr>\n",
       "      <th>2</th>\n",
       "      <td>LSSPATLNSR</td>\n",
       "    </tr>\n",
       "    <tr>\n",
       "      <th>3</th>\n",
       "      <td>LSSPATLDSR</td>\n",
       "    </tr>\n",
       "    <tr>\n",
       "      <th>4</th>\n",
       "      <td>LATVLSPR</td>\n",
       "    </tr>\n",
       "  </tbody>\n",
       "</table>\n",
       "</div>"
      ],
      "text/plain": [
       "            0\n",
       "0  LSSPATLNSR\n",
       "1  LSSPATLNSR\n",
       "2  LSSPATLNSR\n",
       "3  LSSPATLDSR\n",
       "4    LATVLSPR"
      ]
     },
     "execution_count": 5,
     "metadata": {},
     "output_type": "execute_result"
    }
   ],
   "source": [
    "# for each of the 4 incubation samples:\n",
    "# read in NAAF totals csvs made in PeaksDN (de novo), and PeaksDB (de novo assisted database search) notebooks\n",
    "# bringing de novo peptides >50% ALC and PeaksDB peptides <1% FDR\n",
    "\n",
    "peaks50_106a = pd.read_csv(\"processed/PeaksDN/106_CV_T00_GF_DN/106A_CV_T00_GF_DN50_stripped_peptides.txt\", header=None)\n",
    "peaks50_106b = pd.read_csv(\"processed/PeaksDN/106_CV_T00_GF_DN/106B_CV_T00_GF_DN50_stripped_peptides.txt\", header=None)\n",
    "peaks50_106c = pd.read_csv(\"processed/PeaksDN/106_CV_T00_GF_DN/106C_CV_T00_GF_DN50_stripped_peptides.txt\", header=None)\n",
    "peaksdb_106a = pd.read_csv(\"processed/PeaksDB/106_CV_T00_GF_PDB/106A_CV_T00_GF_PDB_stripped_peptides.txt\", header=None)\n",
    "peaksdb_106b = pd.read_csv(\"processed/PeaksDB/106_CV_T00_GF_PDB/106B_CV_T00_GF_PDB_stripped_peptides.txt\", header=None)\n",
    "peaksdb_106c = pd.read_csv(\"processed/PeaksDB/106_CV_T00_GF_PDB/106C_CV_T00_GF_PDB_stripped_peptides.txt\", header=None)\n",
    "\n",
    "\n",
    "frames = [peaks50_106a, peaks50_106b, peaks50_106c, peaksdb_106a, peaksdb_106b, peaksdb_106c]\n",
    "#index = [index]\n",
    "\n",
    "# concatenate dataframes\n",
    "tot_106 = pd.concat(frames)\n",
    "\n",
    "# deduplicate\n",
    "tot_106_nr = tot_106.drop_duplicates()\n",
    "\n",
    "print('total 210 peptides, redundant', len(tot_106))\n",
    "print('total 210 peptides, nonredundant', len(tot_106_nr))\n",
    "\n",
    "tot_106.to_csv(\"processed/stripped_peptides/106_CV_T00_GF_stripped_peptides.txt\", header=False, index=False)\n",
    "\n",
    "tot_106.head()"
   ]
  },
  {
   "cell_type": "markdown",
   "metadata": {},
   "source": [
    "### 2. Chaves, timepoint 0, size fraction>0.7 um (denoted as CV_T00_GD)\n",
    "### T7 samples #s:  206\n",
    "### Exported NAAF and stripped peptides contained in the following directories:\n",
    "\n",
    "    Trocas-incubations/processed/PeaksDB/206_CV_T00_GD_PDB\n",
    "    Trocas-incubations/processed/PeaksDB/206_CV_T00_GD_DN"
   ]
  },
  {
   "cell_type": "code",
   "execution_count": 6,
   "metadata": {
    "scrolled": false
   },
   "outputs": [
    {
     "name": "stdout",
     "output_type": "stream",
     "text": [
      "total 206 peptides, redundant 372\n",
      "total 206 peptides, nonredundant 248\n"
     ]
    },
    {
     "data": {
      "text/html": [
       "<div>\n",
       "<style scoped>\n",
       "    .dataframe tbody tr th:only-of-type {\n",
       "        vertical-align: middle;\n",
       "    }\n",
       "\n",
       "    .dataframe tbody tr th {\n",
       "        vertical-align: top;\n",
       "    }\n",
       "\n",
       "    .dataframe thead th {\n",
       "        text-align: right;\n",
       "    }\n",
       "</style>\n",
       "<table border=\"1\" class=\"dataframe\">\n",
       "  <thead>\n",
       "    <tr style=\"text-align: right;\">\n",
       "      <th></th>\n",
       "      <th>0</th>\n",
       "    </tr>\n",
       "  </thead>\n",
       "  <tbody>\n",
       "    <tr>\n",
       "      <th>0</th>\n",
       "      <td>VVEVSLPR</td>\n",
       "    </tr>\n",
       "    <tr>\n",
       "      <th>1</th>\n",
       "      <td>VLEGNEQFLNAAK</td>\n",
       "    </tr>\n",
       "    <tr>\n",
       "      <th>2</th>\n",
       "      <td>LSSPATLNSR</td>\n",
       "    </tr>\n",
       "    <tr>\n",
       "      <th>3</th>\n",
       "      <td>LSSPATLNSR</td>\n",
       "    </tr>\n",
       "    <tr>\n",
       "      <th>4</th>\n",
       "      <td>LSSPATLNSR</td>\n",
       "    </tr>\n",
       "  </tbody>\n",
       "</table>\n",
       "</div>"
      ],
      "text/plain": [
       "               0\n",
       "0       VVEVSLPR\n",
       "1  VLEGNEQFLNAAK\n",
       "2     LSSPATLNSR\n",
       "3     LSSPATLNSR\n",
       "4     LSSPATLNSR"
      ]
     },
     "execution_count": 6,
     "metadata": {},
     "output_type": "execute_result"
    }
   ],
   "source": [
    "# for each of the 4 incubation samples:\n",
    "# read in NAAF totals csvs made in PeaksDN (de novo), and PeaksDB (de novo assisted database search) notebooks\n",
    "# bringing de novo peptides >50% ALC and PeaksDB peptides <1% FDR\n",
    "\n",
    "peaks50_206a = pd.read_csv(\"processed/PeaksDN/206_CV_T00_GD_DN/206_CV_T00_GD_DN50_stripped_peptides.txt\", header=None)\n",
    "#peaks50_206b = pd.read_csv(\"processed/PeaksDN/206_CV_T00_GD_DN/206B_CV_T00_GD_DN50_stripped_peptides.txt\", header=None)\n",
    "peaksdb_206a = pd.read_csv(\"processed/PeaksDB/206_CV_T00_GD_PDB/206_CV_T00_GD_PDB_stripped_peptides.txt\", header=None)\n",
    "#peaksdb_206b = pd.read_csv(\"processed/PeaksDB/206_CV_T00_GD_PDB/206B_CV_T00_GD_PDB_stripped_peptides.txt\", header=None)\n",
    "\n",
    "frames = [peaks50_206a, peaksdb_206a]\n",
    "#index = [index]\n",
    "\n",
    "# concatenate dataframes\n",
    "tot_206 = pd.concat(frames)\n",
    "\n",
    "# deduplicate\n",
    "tot_206_nr = tot_206.drop_duplicates()\n",
    "\n",
    "print('total 206 peptides, redundant', len(tot_206))\n",
    "print('total 206 peptides, nonredundant', len(tot_206_nr))\n",
    "\n",
    "tot_206.to_csv(\"processed/stripped_peptides/206_CV_T00_GD_stripped_peptides.txt\", header=False, index=False)\n",
    "\n",
    "tot_206.head()"
   ]
  },
  {
   "cell_type": "markdown",
   "metadata": {},
   "source": [
    "### 3. Chaves, timepoint 24 hrs, size fraction 0.3-0.7 um (denoted as CV_T24_GF)\n",
    "### T7 samples #s: 306A, 306B, 306 (306C)\n",
    "### Exported NAAF and stripped peptides contained in the following directories:\n",
    "\n",
    "    Trocas-incubations/processed/PeaksDB/306_CV_T24_GF_PDB\n",
    "    Trocas-incubations/processed/PeaksDB/306_CV_T24_GF_DN"
   ]
  },
  {
   "cell_type": "code",
   "execution_count": 7,
   "metadata": {
    "scrolled": false
   },
   "outputs": [
    {
     "name": "stdout",
     "output_type": "stream",
     "text": [
      "total 306 peptides, redundant 871\n",
      "total 306 peptides, nonredundant 564\n"
     ]
    },
    {
     "data": {
      "text/html": [
       "<div>\n",
       "<style scoped>\n",
       "    .dataframe tbody tr th:only-of-type {\n",
       "        vertical-align: middle;\n",
       "    }\n",
       "\n",
       "    .dataframe tbody tr th {\n",
       "        vertical-align: top;\n",
       "    }\n",
       "\n",
       "    .dataframe thead th {\n",
       "        text-align: right;\n",
       "    }\n",
       "</style>\n",
       "<table border=\"1\" class=\"dataframe\">\n",
       "  <thead>\n",
       "    <tr style=\"text-align: right;\">\n",
       "      <th></th>\n",
       "      <th>0</th>\n",
       "    </tr>\n",
       "  </thead>\n",
       "  <tbody>\n",
       "    <tr>\n",
       "      <th>0</th>\n",
       "      <td>SCK</td>\n",
       "    </tr>\n",
       "    <tr>\n",
       "      <th>1</th>\n",
       "      <td>TEELDR</td>\n",
       "    </tr>\n",
       "    <tr>\n",
       "      <th>2</th>\n",
       "      <td>TEELNR</td>\n",
       "    </tr>\n",
       "    <tr>\n",
       "      <th>3</th>\n",
       "      <td>AEYENLAEK</td>\n",
       "    </tr>\n",
       "    <tr>\n",
       "      <th>4</th>\n",
       "      <td>SCK</td>\n",
       "    </tr>\n",
       "  </tbody>\n",
       "</table>\n",
       "</div>"
      ],
      "text/plain": [
       "           0\n",
       "0        SCK\n",
       "1     TEELDR\n",
       "2     TEELNR\n",
       "3  AEYENLAEK\n",
       "4        SCK"
      ]
     },
     "execution_count": 7,
     "metadata": {},
     "output_type": "execute_result"
    }
   ],
   "source": [
    "# for each of the 4 incubation samples:\n",
    "# read in NAAF totals csvs made in PeaksDN (de novo), and PeaksDB (de novo assisted database search) notebooks\n",
    "# bringing de novo peptides >50% ALC and PeaksDB peptides <1% FDR\n",
    "\n",
    "peaks50_306a = pd.read_csv(\"processed/PeaksDN/306_CV_T24_GF_DN/306A_CV_T24_GF_DN50_stripped_peptides.txt\", header=None)\n",
    "peaks50_306b = pd.read_csv(\"processed/PeaksDN/306_CV_T24_GF_DN/306B_CV_T24_GF_DN50_stripped_peptides.txt\", header=None)\n",
    "peaks50_306c = pd.read_csv(\"processed/PeaksDN/306_CV_T24_GF_DN/306C_CV_T24_GF_DN50_stripped_peptides.txt\", header=None)\n",
    "peaksdb_306a = pd.read_csv(\"processed/PeaksDB/306_CV_T24_GF_PDB/306A_CV_T24_GF_PDB_stripped_peptides.txt\", header=None)\n",
    "peaksdb_306b = pd.read_csv(\"processed/PeaksDB/306_CV_T24_GF_PDB/306B_CV_T24_GF_PDB_stripped_peptides.txt\", header=None)\n",
    "peaksdb_306c = pd.read_csv(\"processed/PeaksDB/306_CV_T24_GF_PDB/306C_CV_T24_GF_PDB_stripped_peptides.txt\", header=None)\n",
    "\n",
    "frames = [peaks50_306a, peaks50_306b, peaks50_306c, peaksdb_306a, peaksdb_306b, peaksdb_306c]\n",
    "#index = [index]\n",
    "\n",
    "# concatenate dataframes\n",
    "tot_306 = pd.concat(frames)\n",
    "\n",
    "# deduplicate\n",
    "tot_306_nr = tot_306.drop_duplicates()\n",
    "\n",
    "print('total 306 peptides, redundant', len(tot_306))\n",
    "print('total 306 peptides, nonredundant', len(tot_306_nr))\n",
    "\n",
    "tot_306.to_csv(\"processed/stripped_peptides/306_CV_T24_GF_stripped_peptides.txt\", header=False, index=False)\n",
    "\n",
    "tot_306.head()"
   ]
  },
  {
   "cell_type": "markdown",
   "metadata": {},
   "source": [
    "### 4. Chaves, timepoint 24 hrs, size fraction >0.7 um (denoted as CV_T24_GD)\n",
    "### T7 samples #s: 406A, 406B\n",
    "### Exported NAAF and stripped peptides contained in the following directories:\n",
    "\n",
    "    Trocas-incubations/processed/PeaksDB/406_CV_T24_GD_PDB\n",
    "    Trocas-incubations/processed/PeaksDB/406_CV_T24_GD_DN"
   ]
  },
  {
   "cell_type": "code",
   "execution_count": 8,
   "metadata": {
    "scrolled": true
   },
   "outputs": [
    {
     "name": "stdout",
     "output_type": "stream",
     "text": [
      "total 406 peptides, redundant 649\n",
      "total 406 peptides, nonredundant 441\n"
     ]
    },
    {
     "data": {
      "text/html": [
       "<div>\n",
       "<style scoped>\n",
       "    .dataframe tbody tr th:only-of-type {\n",
       "        vertical-align: middle;\n",
       "    }\n",
       "\n",
       "    .dataframe tbody tr th {\n",
       "        vertical-align: top;\n",
       "    }\n",
       "\n",
       "    .dataframe thead th {\n",
       "        text-align: right;\n",
       "    }\n",
       "</style>\n",
       "<table border=\"1\" class=\"dataframe\">\n",
       "  <thead>\n",
       "    <tr style=\"text-align: right;\">\n",
       "      <th></th>\n",
       "      <th>0</th>\n",
       "    </tr>\n",
       "  </thead>\n",
       "  <tbody>\n",
       "    <tr>\n",
       "      <th>0</th>\n",
       "      <td>ECK</td>\n",
       "    </tr>\n",
       "    <tr>\n",
       "      <th>1</th>\n",
       "      <td>SCK</td>\n",
       "    </tr>\n",
       "    <tr>\n",
       "      <th>2</th>\n",
       "      <td>LLTADEK</td>\n",
       "    </tr>\n",
       "    <tr>\n",
       "      <th>3</th>\n",
       "      <td>SPATLNSR</td>\n",
       "    </tr>\n",
       "    <tr>\n",
       "      <th>4</th>\n",
       "      <td>LSSPATLNSR</td>\n",
       "    </tr>\n",
       "  </tbody>\n",
       "</table>\n",
       "</div>"
      ],
      "text/plain": [
       "            0\n",
       "0         ECK\n",
       "1         SCK\n",
       "2     LLTADEK\n",
       "3    SPATLNSR\n",
       "4  LSSPATLNSR"
      ]
     },
     "execution_count": 8,
     "metadata": {},
     "output_type": "execute_result"
    }
   ],
   "source": [
    "# for each of the 4 incubation samples:\n",
    "# read in NAAF totals csvs made in PeaksDN (de novo), and PeaksDB (de novo assisted database search) notebooks\n",
    "# bringing de novo peptides >50% ALC and PeaksDB peptides <1% FDR\n",
    "\n",
    "peaks50_406a = pd.read_csv(\"processed/PeaksDN/406_CV_T24_GD_DN/406A_CV_T24_GD_DN50_stripped_peptides.txt\", header=None)\n",
    "peaks50_406b = pd.read_csv(\"processed/PeaksDN/406_CV_T24_GD_DN/406B_CV_T24_GD_DN50_stripped_peptides.txt\", header=None)\n",
    "peaksdb_406a = pd.read_csv(\"processed/PeaksDB/406_CV_T24_GD_PDB/406A_CV_T24_GD_PDB_stripped_peptides.txt\", header=None)\n",
    "peaksdb_406b = pd.read_csv(\"processed/PeaksDB/406_CV_T24_GD_PDB/406B_CV_T24_GD_PDB_stripped_peptides.txt\", header=None)\n",
    "\n",
    "\n",
    "frames = [peaks50_406a, peaks50_406b, peaksdb_406a, peaksdb_406b, ]\n",
    "#index = [index]\n",
    "\n",
    "# concatenate dataframes\n",
    "tot_406 = pd.concat(frames)\n",
    "\n",
    "# deduplicate\n",
    "tot_406_nr = tot_406.drop_duplicates()\n",
    "\n",
    "print('total 406 peptides, redundant', len(tot_406))\n",
    "print('total 406 peptides, nonredundant', len(tot_406_nr))\n",
    "\n",
    "tot_406.to_csv(\"processed/stripped_peptides/406_CV_T24_GD_stripped_peptides.txt\", header=False, index=False)\n",
    "\n",
    "tot_406.head()"
   ]
  }
 ],
 "metadata": {
  "kernelspec": {
   "display_name": "Python 3",
   "language": "python",
   "name": "python3"
  },
  "language_info": {
   "codemirror_mode": {
    "name": "ipython",
    "version": 3
   },
   "file_extension": ".py",
   "mimetype": "text/x-python",
   "name": "python",
   "nbconvert_exporter": "python",
   "pygments_lexer": "ipython3",
   "version": "3.8.3"
  }
 },
 "nbformat": 4,
 "nbformat_minor": 4
}
