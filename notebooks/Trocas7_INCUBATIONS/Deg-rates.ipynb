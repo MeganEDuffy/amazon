{
 "cells": [
  {
   "cell_type": "markdown",
   "metadata": {},
   "source": [
    "# Plotting particulate protein degradation and bulk respiration rates in Trocas7 incbubations (April 2019, high water).\n",
    "\n",
    "## Have BOD (biological oxygen demand) respiration rates for all 24 hr incubations at all four stations.\n",
    "\n",
    "## Protein degradation rates for 0.3-0.7 um and >0.7 size fractions by Lowry assay"
   ]
  },
  {
   "cell_type": "code",
   "execution_count": 1,
   "metadata": {},
   "outputs": [],
   "source": [
    "import numpy as np\n",
    "import matplotlib.pyplot as plt\n",
    "import seaborn as sns\n",
    "import pandas as pd\n",
    "from functools import reduce"
   ]
  },
  {
   "cell_type": "code",
   "execution_count": 2,
   "metadata": {},
   "outputs": [
    {
     "name": "stdout",
     "output_type": "stream",
     "text": [
      "/home/millieginty/Documents/git-repos/amazon/analyses/T7-incubations/deg-rates\n"
     ]
    }
   ],
   "source": [
    "cd /home/millieginty/Documents/git-repos/amazon/analyses/T7-incubations/deg-rates/"
   ]
  },
  {
   "cell_type": "code",
   "execution_count": 3,
   "metadata": {
    "scrolled": true
   },
   "outputs": [
    {
     "data": {
      "text/html": [
       "<div>\n",
       "<style scoped>\n",
       "    .dataframe tbody tr th:only-of-type {\n",
       "        vertical-align: middle;\n",
       "    }\n",
       "\n",
       "    .dataframe tbody tr th {\n",
       "        vertical-align: top;\n",
       "    }\n",
       "\n",
       "    .dataframe thead th {\n",
       "        text-align: right;\n",
       "    }\n",
       "</style>\n",
       "<table border=\"1\" class=\"dataframe\">\n",
       "  <thead>\n",
       "    <tr style=\"text-align: right;\">\n",
       "      <th></th>\n",
       "      <th>Station</th>\n",
       "      <th>Bulk</th>\n",
       "      <th>BOD error</th>\n",
       "      <th>0.3-0.7 um</th>\n",
       "      <th>small error p</th>\n",
       "      <th>&gt;0.7 um</th>\n",
       "      <th>large error p</th>\n",
       "      <th>small deg c</th>\n",
       "      <th>small error c</th>\n",
       "      <th>large deg c</th>\n",
       "      <th>large error c</th>\n",
       "    </tr>\n",
       "  </thead>\n",
       "  <tbody>\n",
       "    <tr>\n",
       "      <th>0</th>\n",
       "      <td>Macapa North</td>\n",
       "      <td>0.055</td>\n",
       "      <td>0.005</td>\n",
       "      <td>1.418</td>\n",
       "      <td>0.10</td>\n",
       "      <td>0.338</td>\n",
       "      <td>0.18</td>\n",
       "      <td>0.752</td>\n",
       "      <td>0.14</td>\n",
       "      <td>0.179</td>\n",
       "      <td>0.09</td>\n",
       "    </tr>\n",
       "    <tr>\n",
       "      <th>1</th>\n",
       "      <td>Macapa South</td>\n",
       "      <td>0.040</td>\n",
       "      <td>0.004</td>\n",
       "      <td>1.487</td>\n",
       "      <td>0.15</td>\n",
       "      <td>0.384</td>\n",
       "      <td>0.21</td>\n",
       "      <td>0.788</td>\n",
       "      <td>0.24</td>\n",
       "      <td>0.203</td>\n",
       "      <td>0.11</td>\n",
       "    </tr>\n",
       "    <tr>\n",
       "      <th>2</th>\n",
       "      <td>Baylique</td>\n",
       "      <td>0.055</td>\n",
       "      <td>0.009</td>\n",
       "      <td>1.016</td>\n",
       "      <td>0.13</td>\n",
       "      <td>2.666</td>\n",
       "      <td>0.32</td>\n",
       "      <td>0.539</td>\n",
       "      <td>0.15</td>\n",
       "      <td>1.413</td>\n",
       "      <td>0.14</td>\n",
       "    </tr>\n",
       "    <tr>\n",
       "      <th>3</th>\n",
       "      <td>Chaves</td>\n",
       "      <td>0.048</td>\n",
       "      <td>0.007</td>\n",
       "      <td>0.760</td>\n",
       "      <td>0.09</td>\n",
       "      <td>1.747</td>\n",
       "      <td>0.25</td>\n",
       "      <td>0.403</td>\n",
       "      <td>0.23</td>\n",
       "      <td>0.926</td>\n",
       "      <td>0.16</td>\n",
       "    </tr>\n",
       "  </tbody>\n",
       "</table>\n",
       "</div>"
      ],
      "text/plain": [
       "        Station   Bulk  BOD error  0.3-0.7 um  small error p  >0.7 um  \\\n",
       "0  Macapa North  0.055      0.005       1.418           0.10    0.338   \n",
       "1  Macapa South  0.040      0.004       1.487           0.15    0.384   \n",
       "2      Baylique  0.055      0.009       1.016           0.13    2.666   \n",
       "3        Chaves  0.048      0.007       0.760           0.09    1.747   \n",
       "\n",
       "   large error p  small deg c  small error c  large deg c  large error c  \n",
       "0           0.18        0.752           0.14        0.179           0.09  \n",
       "1           0.21        0.788           0.24        0.203           0.11  \n",
       "2           0.32        0.539           0.15        1.413           0.14  \n",
       "3           0.25        0.403           0.23        0.926           0.16  "
      ]
     },
     "execution_count": 3,
     "metadata": {},
     "output_type": "execute_result"
    }
   ],
   "source": [
    "rates = pd.read_csv('deg-rates.csv')\n",
    "\n",
    "rates.head()"
   ]
  },
  {
   "cell_type": "code",
   "execution_count": 12,
   "metadata": {
    "scrolled": true
   },
   "outputs": [
    {
     "data": {
      "image/png": "[encoded data removed]",
      "text/plain": [
       "<Figure size 648x648 with 4 Axes>"
      ]
     },
     "metadata": {},
     "output_type": "display_data"
    }
   ],
   "source": [
    "fig, axes = plt.subplots(figsize=(9, 9),nrows=2, ncols=2, sharex = True)\n",
    "plt.tight_layout()\n",
    "\n",
    "plt.subplots_adjust(left=None, bottom=None, right=None, top=None, wspace=3, hspace=0.2)\n",
    "\n",
    "labels = ['Macapa North', 'Macapa South', 'Baylique', 'Chaves']\n",
    "\n",
    "# Plot BOD respiration rates with errors\n",
    "rates.plot.bar(ax = axes[0,0], x='Station', y='Bulk', yerr='BOD error', \\\n",
    "               capsize=5, rot = 45, edgecolor = 'black', color = '#ffffff')\n",
    "axes[0,0].set_ylabel('Bulk respiration rate (mg C/L/day)')\n",
    "axes[0,0].set_title('a. Bulk respiration rate')\n",
    "\n",
    "axes[0,1].set_yticklabels('Bulk', color=\"white\")\n",
    "axes[0,1].spines['bottom'].set_color('white')\n",
    "axes[0,1].spines['top'].set_color('white') \n",
    "axes[0,1].spines['right'].set_color('white')\n",
    "axes[0,1].spines['left'].set_color('white')\n",
    "axes[0,1].tick_params(axis='x', colors='white')\n",
    "axes[0,1].tick_params(axis='y', colors='white')\n",
    "\n",
    "# Plot small size fraction degradation\n",
    "rates.plot.bar(ax = axes[1,0], x='Station', y='0.3-0.7 um', yerr='small error p', \\\n",
    "               capsize=5, rot = 45, edgecolor = 'black', color = '#999999')\n",
    "axes[1,0].set_ylabel('Small particle deg. rate (mg protein/L/day)')\n",
    "axes[1,0].set_xlabel('')\n",
    "axes[1,0].set_xticklabels(labels, rotation = 40)\n",
    "axes[1,0].set_title('b. Small particle protein deg, rate')\n",
    "\n",
    "# Plot small size fraction degradation\n",
    "rates.plot.bar(ax = axes[1,1], x='Station', y='>0.7 um', yerr='large error p', \\\n",
    "               capsize=5, rot = 45, edgecolor = 'black', color = '#999999')\n",
    "axes[1,1].set_ylabel('Large particle deg. rate (mg protein/L/day)')\n",
    "axes[1,1].set_xlabel('')\n",
    "axes[1,1].set_xticklabels(labels, rotation = 40)\n",
    "axes[1,1].set_title('c. Large particle protein deg, rate')\n",
    "\n",
    "#axes[0,0].set_title('a) Biological oxygen demand respiration rate', fontsize = 14, loc='left')\n",
    "\n",
    "plt.tight_layout()\n",
    "#plt.savefig('protein-deg.png')"
   ]
  }
 ],
 "metadata": {
  "kernelspec": {
   "display_name": "Python 3",
   "language": "python",
   "name": "python3"
  },
  "language_info": {
   "codemirror_mode": {
    "name": "ipython",
    "version": 3
   },
   "file_extension": ".py",
   "mimetype": "text/x-python",
   "name": "python",
   "nbconvert_exporter": "python",
   "pygments_lexer": "ipython3",
   "version": "3.8.3"
  }
 },
 "nbformat": 4,
 "nbformat_minor": 4
}
