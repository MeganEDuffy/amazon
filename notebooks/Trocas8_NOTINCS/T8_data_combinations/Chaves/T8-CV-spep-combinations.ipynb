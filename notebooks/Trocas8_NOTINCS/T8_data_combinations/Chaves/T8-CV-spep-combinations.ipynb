{
 "cells": [
  {
   "cell_type": "markdown",
   "metadata": {},
   "source": [
    "### Combining stripped peptides from *de novo* sequencing and PeaksDB search results Trocas 8 non-incubation samples\n",
    "\n",
    "The dataset:\n",
    "\n",
    "    30 samples: 4 (including x-channel, really 8 stations, 2 depths (50% and surface), 1 size fraction (GF75):\n",
    "    \n",
    "    Stations: \n",
    "    \n",
    "        - Macapa South (MS) South stem, upriver (left, right, middle)\n",
    "        - Macapa North (MN) North stem, upriver (left, right, middle)\n",
    "        - Chaves (CV) South stem, downriver\n",
    "        - Baylique (BY) North stem, downriver\n",
    "\n",
    "\n",
    "    Proteomics samples from 1 trips to UWPR (June 2021 on the Fusion)\n",
    "    A couple were injected twice.\n",
    "\n",
    "Starting with:\n",
    "\n",
    "    Peaks de novo results of PTM-optimized sequencing\n",
    "    PeaksDB de novo-assisted results from PTM-optimized database searches\n",
    "    \n",
    "    Multiple samples per treatment\n",
    "\n",
    "Goal:\n",
    "\n",
    "    Txt files with combined de novo and PeaksDB for each sample\n",
    "    \n",
    "Using:\n",
    "\n",
    "    - pandas\n",
    "    - matplotlib\n",
    "    - numpy"
   ]
  },
  {
   "cell_type": "code",
   "execution_count": 2,
   "metadata": {},
   "outputs": [
    {
     "data": {
      "text/plain": [
       "'1.0.5'"
      ]
     },
     "execution_count": 2,
     "metadata": {},
     "output_type": "execute_result"
    }
   ],
   "source": [
    "# LIBRARIES\n",
    "#import pandas library for working with tabular data\n",
    "import os\n",
    "os.getcwd()\n",
    "import pandas as pd\n",
    "import numpy as np\n",
    "import matplotlib.pyplot as plt\n",
    "import seaborn as sns\n",
    "from scipy.stats import kde\n",
    "#import regular expresson (regex)\n",
    "import re\n",
    "#check pandas version\n",
    "pd.__version__"
   ]
  },
  {
   "cell_type": "code",
   "execution_count": 3,
   "metadata": {},
   "outputs": [
    {
     "name": "stdout",
     "output_type": "stream",
     "text": [
      "/home/millieginty/Documents/git-repos/amazon/data/Trocas8-notincs\n"
     ]
    }
   ],
   "source": [
    "cd /home/millieginty/Documents/git-repos/amazon/data/Trocas8-notincs/"
   ]
  },
  {
   "cell_type": "markdown",
   "metadata": {},
   "source": [
    "### 1. Chaves, 50% depth, size fraction 0.3-0.7 um (denoted as CV_50_GF75)\n",
    "### T8 samples #s: 677, 685\n",
    "### Exported NAAF and stripped peptides contained in the following directories:\n",
    "\n",
    "    Trocas8-notincs/processed/PeaksDB/677_CV_50_GF75_PDB\n",
    "    Trocas8-notincs/processed/PeaksDN/677_CV_50_GF75_DN"
   ]
  },
  {
   "cell_type": "code",
   "execution_count": 4,
   "metadata": {
    "scrolled": true
   },
   "outputs": [
    {
     "name": "stdout",
     "output_type": "stream",
     "text": [
      "total 677 peptides, redundant 252\n",
      "total 677 peptides, nonredundant 172\n"
     ]
    },
    {
     "data": {
      "text/html": [
       "<div>\n",
       "<style scoped>\n",
       "    .dataframe tbody tr th:only-of-type {\n",
       "        vertical-align: middle;\n",
       "    }\n",
       "\n",
       "    .dataframe tbody tr th {\n",
       "        vertical-align: top;\n",
       "    }\n",
       "\n",
       "    .dataframe thead th {\n",
       "        text-align: right;\n",
       "    }\n",
       "</style>\n",
       "<table border=\"1\" class=\"dataframe\">\n",
       "  <thead>\n",
       "    <tr style=\"text-align: right;\">\n",
       "      <th></th>\n",
       "      <th>0</th>\n",
       "    </tr>\n",
       "  </thead>\n",
       "  <tbody>\n",
       "    <tr>\n",
       "      <th>0</th>\n",
       "      <td>YLYELAR</td>\n",
       "    </tr>\n",
       "    <tr>\n",
       "      <th>1</th>\n",
       "      <td>LSSPATLNSR</td>\n",
       "    </tr>\n",
       "    <tr>\n",
       "      <th>2</th>\n",
       "      <td>LSSPATLDSR</td>\n",
       "    </tr>\n",
       "    <tr>\n",
       "      <th>3</th>\n",
       "      <td>LSSPATLNSR</td>\n",
       "    </tr>\n",
       "    <tr>\n",
       "      <th>4</th>\n",
       "      <td>LATVLSPR</td>\n",
       "    </tr>\n",
       "  </tbody>\n",
       "</table>\n",
       "</div>"
      ],
      "text/plain": [
       "            0\n",
       "0     YLYELAR\n",
       "1  LSSPATLNSR\n",
       "2  LSSPATLDSR\n",
       "3  LSSPATLNSR\n",
       "4    LATVLSPR"
      ]
     },
     "execution_count": 4,
     "metadata": {},
     "output_type": "execute_result"
    }
   ],
   "source": [
    "# for each of the 4 incubation samples:\n",
    "# read in NAAF totals csvs made in PeaksDN (de novo), and PeaksDB (de novo assisted database search) notebooks\n",
    "# bringing de novo peptides >50% ALC and PeaksDB peptides <1% FDR\n",
    "\n",
    "peaks50_677 = pd.read_csv(\"processed/PeaksDN/677_CV_50_GF75_DN/677_CV_50_GF75_DN50_stripped_peptides.txt\", header=None)\n",
    "peaks50_685 = pd.read_csv(\"processed/PeaksDN/677_CV_50_GF75_DN/685_CV_50_GF75_DN50_stripped_peptides.txt\", header=None)\n",
    "\n",
    "peaksdb_677 = pd.read_csv(\"processed/PeaksDB/677_CV_50_GF75_PDB/677_CV_50_GF75_PDB_stripped_peptides.txt\", header=None)\n",
    "peaksdb_685 = pd.read_csv(\"processed/PeaksDB/677_CV_50_GF75_PDB/685_CV_50_GF75_PDB_stripped_peptides.txt\", header=None)\n",
    "\n",
    "frames = [peaks50_677, peaks50_685, peaksdb_677, peaksdb_685]\n",
    "#index = [index]\n",
    "\n",
    "# concatenate dataframes\n",
    "tot_677 = pd.concat(frames)\n",
    "\n",
    "# deduplicate\n",
    "tot_677_nr = tot_677.drop_duplicates()\n",
    "\n",
    "print('total 677 peptides, redundant', len(tot_677))\n",
    "print('total 677 peptides, nonredundant', len(tot_677_nr))\n",
    "\n",
    "tot_677.to_csv(\"processed/stripped_peptides/677_CV_50_GF75_stripped_peptides.txt\", header=False, index=False)\n",
    "\n",
    "tot_677.head()"
   ]
  },
  {
   "cell_type": "markdown",
   "metadata": {},
   "source": [
    "### 2. Chaves, surface depth, size fraction 0.3-0.7 um (denoted as CV_surf_GF75)\n",
    "### T8 samples #s:  678, 686\n",
    "### Exported NAAF and stripped peptides contained in the following directories:\n",
    "\n",
    "    Trocas8-notincs/processed/PeaksDB/678_CV_surf_GF75_PDB\n",
    "    Trocas8-notincs/processed/PeaksDN/678_CV_surf_GF75_DN"
   ]
  },
  {
   "cell_type": "code",
   "execution_count": 5,
   "metadata": {
    "scrolled": false
   },
   "outputs": [
    {
     "name": "stdout",
     "output_type": "stream",
     "text": [
      "total 678 peptides, redundant 300\n",
      "total 678 peptides, nonredundant 87\n"
     ]
    },
    {
     "data": {
      "text/html": [
       "<div>\n",
       "<style scoped>\n",
       "    .dataframe tbody tr th:only-of-type {\n",
       "        vertical-align: middle;\n",
       "    }\n",
       "\n",
       "    .dataframe tbody tr th {\n",
       "        vertical-align: top;\n",
       "    }\n",
       "\n",
       "    .dataframe thead th {\n",
       "        text-align: right;\n",
       "    }\n",
       "</style>\n",
       "<table border=\"1\" class=\"dataframe\">\n",
       "  <thead>\n",
       "    <tr style=\"text-align: right;\">\n",
       "      <th></th>\n",
       "      <th>0</th>\n",
       "    </tr>\n",
       "  </thead>\n",
       "  <tbody>\n",
       "    <tr>\n",
       "      <th>0</th>\n",
       "      <td>LSSPATLNSR</td>\n",
       "    </tr>\n",
       "    <tr>\n",
       "      <th>1</th>\n",
       "      <td>LSSPATLNSR</td>\n",
       "    </tr>\n",
       "    <tr>\n",
       "      <th>2</th>\n",
       "      <td>LSSPATLNSR</td>\n",
       "    </tr>\n",
       "    <tr>\n",
       "      <th>3</th>\n",
       "      <td>LSSPATLNSR</td>\n",
       "    </tr>\n",
       "    <tr>\n",
       "      <th>4</th>\n",
       "      <td>LSSPATLNSR</td>\n",
       "    </tr>\n",
       "  </tbody>\n",
       "</table>\n",
       "</div>"
      ],
      "text/plain": [
       "            0\n",
       "0  LSSPATLNSR\n",
       "1  LSSPATLNSR\n",
       "2  LSSPATLNSR\n",
       "3  LSSPATLNSR\n",
       "4  LSSPATLNSR"
      ]
     },
     "execution_count": 5,
     "metadata": {},
     "output_type": "execute_result"
    }
   ],
   "source": [
    "# for each of the 4 incubation samples:\n",
    "# read in NAAF totals csvs made in PeaksDN (de novo), and PeaksDB (de novo assisted database search) notebooks\n",
    "# bringing de novo peptides >50% ALC and PeaksDB peptides <1% FDR\n",
    "\n",
    "peaks50_678 = pd.read_csv(\"processed/PeaksDN/678_CV_surf_GF75_DN/678_CV_surf_GF75_DN50_stripped_peptides.txt\", header=None)\n",
    "peaks50_686 = pd.read_csv(\"processed/PeaksDN/678_CV_surf_GF75_DN/678_CV_surf_GF75_DN50_stripped_peptides.txt\", header=None)\n",
    "peaksdb_678 = pd.read_csv(\"processed/PeaksDB/678_CV_surf_GF75_PDB/686_CV_surf_GF75_PDB_stripped_peptides.txt\", header=None)\n",
    "peaksdb_686 = pd.read_csv(\"processed/PeaksDB/678_CV_surf_GF75_PDB/686_CV_surf_GF75_PDB_stripped_peptides.txt\", header=None)\n",
    "\n",
    "frames = [peaks50_678, peaks50_686, peaksdb_678, peaksdb_686]\n",
    "#index = [index]\n",
    "\n",
    "# concatenate dataframes\n",
    "tot_678 = pd.concat(frames)\n",
    "\n",
    "# deduplicate\n",
    "tot_678_nr = tot_678.drop_duplicates()\n",
    "\n",
    "print('total 678 peptides, redundant', len(tot_678))\n",
    "print('total 678 peptides, nonredundant', len(tot_678_nr))\n",
    "\n",
    "tot_678.to_csv(\"processed/stripped_peptides/678_CV_surf_GF75_stripped_peptides.txt\", header=False, index=False)\n",
    "\n",
    "tot_678.head()"
   ]
  }
 ],
 "metadata": {
  "kernelspec": {
   "display_name": "Python 3",
   "language": "python",
   "name": "python3"
  },
  "language_info": {
   "codemirror_mode": {
    "name": "ipython",
    "version": 3
   },
   "file_extension": ".py",
   "mimetype": "text/x-python",
   "name": "python",
   "nbconvert_exporter": "python",
   "pygments_lexer": "ipython3",
   "version": "3.8.3"
  }
 },
 "nbformat": 4,
 "nbformat_minor": 4
}
