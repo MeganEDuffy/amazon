{
 "cells": [
  {
   "cell_type": "markdown",
   "metadata": {},
   "source": [
    "### Combining stripped peptides from *de novo* sequencing and PeaksDB search results Trocas 8 non-incubation samples\n",
    "\n",
    "The dataset:\n",
    "\n",
    "    30 samples: 4 (including x-channel, really 8 stations, 2 depths (50% and surface), 1 size fraction (GF75):\n",
    "    \n",
    "    Stations: \n",
    "    \n",
    "        - Macapa South (MS) South stem, upriver (left, right, middle)\n",
    "        - Macapa North (MN) North stem, upriver (left, right, middle)\n",
    "        - Chaves (CV) South stem, downriver\n",
    "        - Baylique (BY) North stem, downriver\n",
    "\n",
    "\n",
    "    Proteomics samples from 1 trips to UWPR (June 2021 on the Fusion)\n",
    "    A couple were injected twice.\n",
    "\n",
    "Starting with:\n",
    "\n",
    "    Peaks de novo results of PTM-optimized sequencing\n",
    "    PeaksDB de novo-assisted results from PTM-optimized database searches\n",
    "    \n",
    "    Multiple samples per treatment\n",
    "\n",
    "Goal:\n",
    "\n",
    "    Txt files with combined de novo and PeaksDB for each sample\n",
    "    \n",
    "Using:\n",
    "\n",
    "    - pandas\n",
    "    - matplotlib\n",
    "    - numpy"
   ]
  },
  {
   "cell_type": "code",
   "execution_count": 3,
   "metadata": {},
   "outputs": [
    {
     "data": {
      "text/plain": [
       "'1.0.5'"
      ]
     },
     "execution_count": 3,
     "metadata": {},
     "output_type": "execute_result"
    }
   ],
   "source": [
    "# LIBRARIES\n",
    "#import pandas library for working with tabular data\n",
    "import os\n",
    "os.getcwd()\n",
    "import pandas as pd\n",
    "import numpy as np\n",
    "import matplotlib.pyplot as plt\n",
    "import seaborn as sns\n",
    "from scipy.stats import kde\n",
    "#import regular expresson (regex)\n",
    "import re\n",
    "#check pandas version\n",
    "pd.__version__"
   ]
  },
  {
   "cell_type": "code",
   "execution_count": 4,
   "metadata": {},
   "outputs": [
    {
     "name": "stdout",
     "output_type": "stream",
     "text": [
      "/home/millieginty/Documents/git-repos/amazon/data/Trocas8-notincs\n"
     ]
    }
   ],
   "source": [
    "cd /home/millieginty/Documents/git-repos/amazon/data/Trocas8-notincs/"
   ]
  },
  {
   "cell_type": "markdown",
   "metadata": {},
   "source": [
    "### 1. Macapa S, 50% depth, size fraction 0.3-0.7 um (denoted as SMCP_50_GF75)\n",
    "### T8 samples #s: 679, 687\n",
    "### Exported NAAF and stripped peptides contained in the following directories:\n",
    "\n",
    "    Trocas8-notincs/processed/PeaksDB/679_SMCP_50_GF75_PDB\n",
    "    Trocas8-notincs/processed/PeaksDN/679_SMCP_50_GF75_DN"
   ]
  },
  {
   "cell_type": "code",
   "execution_count": 5,
   "metadata": {
    "scrolled": true
   },
   "outputs": [
    {
     "name": "stdout",
     "output_type": "stream",
     "text": [
      "total 679 peptides, redundant 279\n",
      "total 679 peptides, nonredundant 202\n"
     ]
    },
    {
     "data": {
      "text/html": [
       "<div>\n",
       "<style scoped>\n",
       "    .dataframe tbody tr th:only-of-type {\n",
       "        vertical-align: middle;\n",
       "    }\n",
       "\n",
       "    .dataframe tbody tr th {\n",
       "        vertical-align: top;\n",
       "    }\n",
       "\n",
       "    .dataframe thead th {\n",
       "        text-align: right;\n",
       "    }\n",
       "</style>\n",
       "<table border=\"1\" class=\"dataframe\">\n",
       "  <thead>\n",
       "    <tr style=\"text-align: right;\">\n",
       "      <th></th>\n",
       "      <th>0</th>\n",
       "    </tr>\n",
       "  </thead>\n",
       "  <tbody>\n",
       "    <tr>\n",
       "      <th>0</th>\n",
       "      <td>LSSPATLNSR</td>\n",
       "    </tr>\n",
       "    <tr>\n",
       "      <th>1</th>\n",
       "      <td>LSSPATLNSR</td>\n",
       "    </tr>\n",
       "    <tr>\n",
       "      <th>2</th>\n",
       "      <td>LSSPATLDSR</td>\n",
       "    </tr>\n",
       "    <tr>\n",
       "      <th>3</th>\n",
       "      <td>LSSPATLDSR</td>\n",
       "    </tr>\n",
       "    <tr>\n",
       "      <th>4</th>\n",
       "      <td>LSSPATLNSR</td>\n",
       "    </tr>\n",
       "  </tbody>\n",
       "</table>\n",
       "</div>"
      ],
      "text/plain": [
       "            0\n",
       "0  LSSPATLNSR\n",
       "1  LSSPATLNSR\n",
       "2  LSSPATLDSR\n",
       "3  LSSPATLDSR\n",
       "4  LSSPATLNSR"
      ]
     },
     "execution_count": 5,
     "metadata": {},
     "output_type": "execute_result"
    }
   ],
   "source": [
    "# for each of the 4 incubation samples:\n",
    "# read in NAAF totals csvs made in PeaksDN (de novo), and PeaksDB (de novo assisted database search) notebooks\n",
    "# bringing de novo peptides >50% ALC and PeaksDB peptides <1% FDR\n",
    "\n",
    "peaks50_679 = pd.read_csv(\"processed/PeaksDN/679_SMCP_50_GF75_DN/679_SMCP_50_GF75_DN50_stripped_peptides.txt\", header=None)\n",
    "peaks50_687 = pd.read_csv(\"processed/PeaksDN/679_SMCP_50_GF75_DN/687_SMCP_50_GF75_DN50_stripped_peptides.txt\", header=None)\n",
    "\n",
    "peaksdb_679 = pd.read_csv(\"processed/PeaksDB/679_SMCP_50_GF75_PDB/679_SMCP_50_GF75_PDB_stripped_peptides.txt\", header=None)\n",
    "peaksdb_687 = pd.read_csv(\"processed/PeaksDB/679_SMCP_50_GF75_PDB/687_SMCP_50_GF75_PDB_stripped_peptides.txt\", header=None)\n",
    "\n",
    "frames = [peaks50_679, peaks50_687, peaksdb_679, peaksdb_687]\n",
    "#index = [index]\n",
    "\n",
    "# concatenate dataframes\n",
    "tot_679 = pd.concat(frames)\n",
    "\n",
    "# deduplicate\n",
    "tot_679_nr = tot_679.drop_duplicates()\n",
    "\n",
    "print('total 679 peptides, redundant', len(tot_679))\n",
    "print('total 679 peptides, nonredundant', len(tot_679_nr))\n",
    "\n",
    "tot_679.to_csv(\"processed/stripped_peptides/679_SMCP_50_GF75_stripped_peptides.txt\", header=False, index=False)\n",
    "\n",
    "tot_679.head()"
   ]
  },
  {
   "cell_type": "markdown",
   "metadata": {},
   "source": [
    "### 2. Macapa S, surface depth, size fraction 0.3-0.7 um (denoted as SMCP_surf_GF75)\n",
    "### T8 samples #s:  680, 688\n",
    "### Exported NAAF and stripped peptides contained in the following directories:\n",
    "\n",
    "    Trocas8-notincs/processed/PeaksDB/680_SMCP_surf_GF75_PDB\n",
    "    Trocas8-notincs/processed/PeaksDN/680_SMCP_surf_GF75_DN"
   ]
  },
  {
   "cell_type": "code",
   "execution_count": 6,
   "metadata": {
    "scrolled": false
   },
   "outputs": [
    {
     "name": "stdout",
     "output_type": "stream",
     "text": [
      "total 680 peptides, redundant 240\n",
      "total 680 peptides, nonredundant 99\n"
     ]
    },
    {
     "data": {
      "text/html": [
       "<div>\n",
       "<style scoped>\n",
       "    .dataframe tbody tr th:only-of-type {\n",
       "        vertical-align: middle;\n",
       "    }\n",
       "\n",
       "    .dataframe tbody tr th {\n",
       "        vertical-align: top;\n",
       "    }\n",
       "\n",
       "    .dataframe thead th {\n",
       "        text-align: right;\n",
       "    }\n",
       "</style>\n",
       "<table border=\"1\" class=\"dataframe\">\n",
       "  <thead>\n",
       "    <tr style=\"text-align: right;\">\n",
       "      <th></th>\n",
       "      <th>0</th>\n",
       "    </tr>\n",
       "  </thead>\n",
       "  <tbody>\n",
       "    <tr>\n",
       "      <th>0</th>\n",
       "      <td>LSSPATLNSR</td>\n",
       "    </tr>\n",
       "    <tr>\n",
       "      <th>1</th>\n",
       "      <td>LSSPATLDSR</td>\n",
       "    </tr>\n",
       "    <tr>\n",
       "      <th>2</th>\n",
       "      <td>LSSPATLNSR</td>\n",
       "    </tr>\n",
       "    <tr>\n",
       "      <th>3</th>\n",
       "      <td>SPATLNSR</td>\n",
       "    </tr>\n",
       "    <tr>\n",
       "      <th>4</th>\n",
       "      <td>LSSPATLNSR</td>\n",
       "    </tr>\n",
       "  </tbody>\n",
       "</table>\n",
       "</div>"
      ],
      "text/plain": [
       "            0\n",
       "0  LSSPATLNSR\n",
       "1  LSSPATLDSR\n",
       "2  LSSPATLNSR\n",
       "3    SPATLNSR\n",
       "4  LSSPATLNSR"
      ]
     },
     "execution_count": 6,
     "metadata": {},
     "output_type": "execute_result"
    }
   ],
   "source": [
    "# for each of the 4 incubation samples:\n",
    "# read in NAAF totals csvs made in PeaksDN (de novo), and PeaksDB (de novo assisted database search) notebooks\n",
    "# bringing de novo peptides >50% ALC and PeaksDB peptides <1% FDR\n",
    "\n",
    "peaks50_680 = pd.read_csv(\"processed/PeaksDN/680_SMCP_surf_GF75_DN/680_SMCP_surf_GF75_DN50_stripped_peptides.txt\", header=None)\n",
    "peaks50_688 = pd.read_csv(\"processed/PeaksDN/680_SMCP_surf_GF75_DN/680_SMCP_surf_GF75_DN50_stripped_peptides.txt\", header=None)\n",
    "peaksdb_680 = pd.read_csv(\"processed/PeaksDB/680_SMCP_surf_GF75_PDB/688_SMCP_surf_GF75_PDB_stripped_peptides.txt\", header=None)\n",
    "peaksdb_688 = pd.read_csv(\"processed/PeaksDB/680_SMCP_surf_GF75_PDB/688_SMCP_surf_GF75_PDB_stripped_peptides.txt\", header=None)\n",
    "\n",
    "frames = [peaks50_680, peaks50_688, peaksdb_680, peaksdb_688]\n",
    "#index = [index]\n",
    "\n",
    "# concatenate dataframes\n",
    "tot_680 = pd.concat(frames)\n",
    "\n",
    "# deduplicate\n",
    "tot_680_nr = tot_680.drop_duplicates()\n",
    "\n",
    "print('total 680 peptides, redundant', len(tot_680))\n",
    "print('total 680 peptides, nonredundant', len(tot_680_nr))\n",
    "\n",
    "tot_680.to_csv(\"processed/stripped_peptides/680_SMCP_surf_GF75_stripped_peptides.txt\", header=False, index=False)\n",
    "\n",
    "tot_680.head()"
   ]
  }
 ],
 "metadata": {
  "kernelspec": {
   "display_name": "Python 3",
   "language": "python",
   "name": "python3"
  },
  "language_info": {
   "codemirror_mode": {
    "name": "ipython",
    "version": 3
   },
   "file_extension": ".py",
   "mimetype": "text/x-python",
   "name": "python",
   "nbconvert_exporter": "python",
   "pygments_lexer": "ipython3",
   "version": "3.8.3"
  }
 },
 "nbformat": 4,
 "nbformat_minor": 4
}
