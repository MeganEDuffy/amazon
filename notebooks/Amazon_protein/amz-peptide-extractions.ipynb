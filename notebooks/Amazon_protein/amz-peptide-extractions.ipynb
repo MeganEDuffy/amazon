{
 "cells": [
  {
   "cell_type": "code",
   "execution_count": 1,
   "metadata": {},
   "outputs": [
    {
     "name": "stdout",
     "output_type": "stream",
     "text": [
      "Mon Dec  9 11:14:57 PST 2019\r\n"
     ]
    }
   ],
   "source": [
    "!date"
   ]
  },
  {
   "cell_type": "code",
   "execution_count": 2,
   "metadata": {},
   "outputs": [
    {
     "name": "stdout",
     "output_type": "stream",
     "text": [
      "Software:\r\n",
      "\r\n",
      "    System Software Overview:\r\n",
      "\r\n",
      "      System Version: macOS 10.14.6 (18G1012)\r\n",
      "      Kernel Version: Darwin 18.7.0\r\n",
      "      Boot Volume: Macintosh HD\r\n",
      "      Boot Mode: Normal\r\n",
      "      Computer Name: Megan’s MacBook Pro (2)\r\n",
      "      User Name: Megan Duffy (meganduffy)\r\n",
      "      Secure Virtual Memory: Enabled\r\n",
      "      System Integrity Protection: Enabled\r\n",
      "      Time since boot: 12 days 2:22\r\n",
      "\r\n"
     ]
    }
   ],
   "source": [
    "!system_profiler SPSoftwareDataType"
   ]
  },
  {
   "cell_type": "markdown",
   "metadata": {},
   "source": [
    "### Notebook to document text extraction and editing of Amazon database peptides\n",
    "### Exported the results of PEAKS 8.5 searches into Git Amazon data directory\n",
    "\n",
    "### De novo only peptides are in running#-peaks#-dno.csv files"
   ]
  },
  {
   "cell_type": "code",
   "execution_count": 5,
   "metadata": {},
   "outputs": [
    {
     "name": "stdout",
     "output_type": "stream",
     "text": [
      "\u001b[34mMED-Amazon-20170712-Amz_105_Hi3_30\u001b[m\u001b[m   \u001b[34mMED-Amazon_20180927-Sed_BSA_PEAKS_14\u001b[m\u001b[m\r\n",
      "\u001b[34mMED-Amazon-20170712-Amz_87_Hi3_26\u001b[m\u001b[m\r\n"
     ]
    }
   ],
   "source": [
    "!ls /Users/meganduffy/Documents/git-repos/amazon/data/"
   ]
  },
  {
   "cell_type": "markdown",
   "metadata": {},
   "source": [
    "### First doing the two samples in this batch from Xingu and main stem Amazon (amz87 and amz105)\n",
    "### Amazon 87 database peptides: "
   ]
  },
  {
   "cell_type": "code",
   "execution_count": 6,
   "metadata": {
    "collapsed": true
   },
   "outputs": [],
   "source": [
    "import os"
   ]
  },
  {
   "cell_type": "code",
   "execution_count": 7,
   "metadata": {},
   "outputs": [
    {
     "data": {
      "text/plain": [
       "'/Users/meganduffy/Documents/git-repos/amazon/notebooks'"
      ]
     },
     "execution_count": 7,
     "metadata": {},
     "output_type": "execute_result"
    }
   ],
   "source": [
    "os.getcwd()"
   ]
  },
  {
   "cell_type": "code",
   "execution_count": 8,
   "metadata": {
    "collapsed": true
   },
   "outputs": [],
   "source": [
    "import pandas as pd"
   ]
  },
  {
   "cell_type": "code",
   "execution_count": 9,
   "metadata": {},
   "outputs": [
    {
     "data": {
      "text/plain": [
       "'0.18.1'"
      ]
     },
     "execution_count": 9,
     "metadata": {},
     "output_type": "execute_result"
    }
   ],
   "source": [
    "pd.__version__"
   ]
  },
  {
   "cell_type": "code",
   "execution_count": 10,
   "metadata": {
    "collapsed": true
   },
   "outputs": [],
   "source": [
    "data = pd.read_csv(\"/Users/meganduffy/Documents/git-repos/amazon/data/MED-Amazon-20170712-Amz_87_Hi3_26/amz87-peaks26-peptide.csv\")"
   ]
  },
  {
   "cell_type": "code",
   "execution_count": 11,
   "metadata": {},
   "outputs": [
    {
     "data": {
      "text/html": [
       "<div>\n",
       "<table border=\"1\" class=\"dataframe\">\n",
       "  <thead>\n",
       "    <tr style=\"text-align: right;\">\n",
       "      <th></th>\n",
       "      <th>Peptide</th>\n",
       "      <th>-10lgP</th>\n",
       "      <th>Mass</th>\n",
       "      <th>Length</th>\n",
       "      <th>ppm</th>\n",
       "      <th>m/z</th>\n",
       "      <th>RT</th>\n",
       "      <th>Area</th>\n",
       "      <th>Fraction</th>\n",
       "      <th>Scan</th>\n",
       "      <th>Source File</th>\n",
       "      <th>#Spec</th>\n",
       "      <th>Accession</th>\n",
       "      <th>PTM</th>\n",
       "      <th>AScore</th>\n",
       "      <th>Area [F1]</th>\n",
       "    </tr>\n",
       "  </thead>\n",
       "  <tbody>\n",
       "    <tr>\n",
       "      <th>0</th>\n",
       "      <td>LPQVEGTGGDVQPSQDLVR</td>\n",
       "      <td>126.43</td>\n",
       "      <td>1994.0068</td>\n",
       "      <td>19</td>\n",
       "      <td>1.1</td>\n",
       "      <td>998.0118</td>\n",
       "      <td>63.43</td>\n",
       "      <td>18700000.0</td>\n",
       "      <td>1</td>\n",
       "      <td>15139</td>\n",
       "      <td>20170530_Amz_87_01.raw</td>\n",
       "      <td>4</td>\n",
       "      <td>gi|54036848</td>\n",
       "      <td>NaN</td>\n",
       "      <td>NaN</td>\n",
       "      <td>29100000.0</td>\n",
       "    </tr>\n",
       "    <tr>\n",
       "      <th>1</th>\n",
       "      <td>VIGQNEAVDAVSNAIR</td>\n",
       "      <td>77.76</td>\n",
       "      <td>1654.8638</td>\n",
       "      <td>16</td>\n",
       "      <td>1.3</td>\n",
       "      <td>828.4402</td>\n",
       "      <td>75.22</td>\n",
       "      <td>12900000.0</td>\n",
       "      <td>1</td>\n",
       "      <td>17934</td>\n",
       "      <td>20170530_Amz_87_01.raw</td>\n",
       "      <td>3</td>\n",
       "      <td>gi|54036848</td>\n",
       "      <td>NaN</td>\n",
       "      <td>NaN</td>\n",
       "      <td>21100000.0</td>\n",
       "    </tr>\n",
       "    <tr>\n",
       "      <th>2</th>\n",
       "      <td>NNPVLIGEPGVGK</td>\n",
       "      <td>68.07</td>\n",
       "      <td>1292.7089</td>\n",
       "      <td>13</td>\n",
       "      <td>1.4</td>\n",
       "      <td>647.3626</td>\n",
       "      <td>60.69</td>\n",
       "      <td>25200000.0</td>\n",
       "      <td>1</td>\n",
       "      <td>14491</td>\n",
       "      <td>20170530_Amz_87_01.raw</td>\n",
       "      <td>2</td>\n",
       "      <td>gi|54036848</td>\n",
       "      <td>NaN</td>\n",
       "      <td>NaN</td>\n",
       "      <td>25200000.0</td>\n",
       "    </tr>\n",
       "    <tr>\n",
       "      <th>3</th>\n",
       "      <td>AIDLIDEAASSIR</td>\n",
       "      <td>67.26</td>\n",
       "      <td>1372.7197</td>\n",
       "      <td>13</td>\n",
       "      <td>2.3</td>\n",
       "      <td>458.5816</td>\n",
       "      <td>88.33</td>\n",
       "      <td>1380000.0</td>\n",
       "      <td>1</td>\n",
       "      <td>21081</td>\n",
       "      <td>20170530_Amz_87_01.raw</td>\n",
       "      <td>3</td>\n",
       "      <td>gi|54036848</td>\n",
       "      <td>NaN</td>\n",
       "      <td>NaN</td>\n",
       "      <td>12200000.0</td>\n",
       "    </tr>\n",
       "    <tr>\n",
       "      <th>4</th>\n",
       "      <td>VTDAEIAEVLAR</td>\n",
       "      <td>58.87</td>\n",
       "      <td>1285.6877</td>\n",
       "      <td>12</td>\n",
       "      <td>1.9</td>\n",
       "      <td>429.5707</td>\n",
       "      <td>80.70</td>\n",
       "      <td>756000.0</td>\n",
       "      <td>1</td>\n",
       "      <td>19260</td>\n",
       "      <td>20170530_Amz_87_01.raw</td>\n",
       "      <td>2</td>\n",
       "      <td>gi|54036848</td>\n",
       "      <td>NaN</td>\n",
       "      <td>NaN</td>\n",
       "      <td>10600000.0</td>\n",
       "    </tr>\n",
       "  </tbody>\n",
       "</table>\n",
       "</div>"
      ],
      "text/plain": [
       "               Peptide  -10lgP       Mass  Length  ppm       m/z     RT  \\\n",
       "0  LPQVEGTGGDVQPSQDLVR  126.43  1994.0068      19  1.1  998.0118  63.43   \n",
       "1     VIGQNEAVDAVSNAIR   77.76  1654.8638      16  1.3  828.4402  75.22   \n",
       "2        NNPVLIGEPGVGK   68.07  1292.7089      13  1.4  647.3626  60.69   \n",
       "3        AIDLIDEAASSIR   67.26  1372.7197      13  2.3  458.5816  88.33   \n",
       "4         VTDAEIAEVLAR   58.87  1285.6877      12  1.9  429.5707  80.70   \n",
       "\n",
       "         Area  Fraction   Scan             Source File  #Spec    Accession  \\\n",
       "0  18700000.0         1  15139  20170530_Amz_87_01.raw      4  gi|54036848   \n",
       "1  12900000.0         1  17934  20170530_Amz_87_01.raw      3  gi|54036848   \n",
       "2  25200000.0         1  14491  20170530_Amz_87_01.raw      2  gi|54036848   \n",
       "3   1380000.0         1  21081  20170530_Amz_87_01.raw      3  gi|54036848   \n",
       "4    756000.0         1  19260  20170530_Amz_87_01.raw      2  gi|54036848   \n",
       "\n",
       "   PTM AScore   Area [F1]  \n",
       "0  NaN    NaN  29100000.0  \n",
       "1  NaN    NaN  21100000.0  \n",
       "2  NaN    NaN  25200000.0  \n",
       "3  NaN    NaN  12200000.0  \n",
       "4  NaN    NaN  10600000.0  "
      ]
     },
     "execution_count": 11,
     "metadata": {},
     "output_type": "execute_result"
    }
   ],
   "source": [
    "data.head()"
   ]
  },
  {
   "cell_type": "code",
   "execution_count": 12,
   "metadata": {
    "collapsed": true
   },
   "outputs": [],
   "source": [
    "# Keep only peptide column\n",
    "pep = data[[\"Peptide\"]]"
   ]
  },
  {
   "cell_type": "code",
   "execution_count": 13,
   "metadata": {},
   "outputs": [
    {
     "data": {
      "text/html": [
       "<div>\n",
       "<table border=\"1\" class=\"dataframe\">\n",
       "  <thead>\n",
       "    <tr style=\"text-align: right;\">\n",
       "      <th></th>\n",
       "      <th>Peptide</th>\n",
       "    </tr>\n",
       "  </thead>\n",
       "  <tbody>\n",
       "    <tr>\n",
       "      <th>0</th>\n",
       "      <td>LPQVEGTGGDVQPSQDLVR</td>\n",
       "    </tr>\n",
       "    <tr>\n",
       "      <th>1</th>\n",
       "      <td>VIGQNEAVDAVSNAIR</td>\n",
       "    </tr>\n",
       "    <tr>\n",
       "      <th>2</th>\n",
       "      <td>NNPVLIGEPGVGK</td>\n",
       "    </tr>\n",
       "    <tr>\n",
       "      <th>3</th>\n",
       "      <td>AIDLIDEAASSIR</td>\n",
       "    </tr>\n",
       "    <tr>\n",
       "      <th>4</th>\n",
       "      <td>VTDAEIAEVLAR</td>\n",
       "    </tr>\n",
       "  </tbody>\n",
       "</table>\n",
       "</div>"
      ],
      "text/plain": [
       "               Peptide\n",
       "0  LPQVEGTGGDVQPSQDLVR\n",
       "1     VIGQNEAVDAVSNAIR\n",
       "2        NNPVLIGEPGVGK\n",
       "3        AIDLIDEAASSIR\n",
       "4         VTDAEIAEVLAR"
      ]
     },
     "execution_count": 13,
     "metadata": {},
     "output_type": "execute_result"
    }
   ],
   "source": [
    "pep.head()"
   ]
  },
  {
   "cell_type": "code",
   "execution_count": 14,
   "metadata": {
    "collapsed": true
   },
   "outputs": [],
   "source": [
    "# Write altered dataframe to new csv file\n",
    "# Used header and index parameters to get rid of 'Peptide' header and the indexing\n",
    "\n",
    "pep.to_csv(\"/Users/meganduffy/Documents/git-repos/amazon/data/MED-Amazon-20170712-Amz_87_Hi3_26/amz87-peaks26-dbpeps.csv\", header=False, index=False)"
   ]
  },
  {
   "cell_type": "code",
   "execution_count": 15,
   "metadata": {
    "collapsed": true
   },
   "outputs": [],
   "source": [
    "# Write altered dataframe to new txt file\n",
    "# Used header and index parameters to get rid of 'Peptide' header and the indexing\n",
    "\n",
    "pep.to_csv(\"/Users/meganduffy/Documents/git-repos/amazon/data/MED-Amazon-20170712-Amz_87_Hi3_26/amz87-peaks26-dbpeps.txt\", header=False, index=False)"
   ]
  },
  {
   "cell_type": "code",
   "execution_count": 16,
   "metadata": {},
   "outputs": [
    {
     "name": "stdout",
     "output_type": "stream",
     "text": [
      "LPQVEGTGGDVQPSQDLVR\r\n",
      "VIGQNEAVDAVSNAIR\r\n",
      "NNPVLIGEPGVGK\r\n",
      "AIDLIDEAASSIR\r\n",
      "VTDAEIAEVLAR\r\n",
      "LLKSPVVK\r\n",
      "TQAQEM(+15.99)TYK\r\n",
      "LSADLAELGLR\r\n"
     ]
    }
   ],
   "source": [
    "!head /Users/meganduffy/Documents/git-repos/amazon/data/MED-Amazon-20170712-Amz_87_Hi3_26/amz87-peaks26-dbpeps.txt"
   ]
  },
  {
   "cell_type": "code",
   "execution_count": 17,
   "metadata": {
    "collapsed": true
   },
   "outputs": [],
   "source": [
    "# Removes all characters in parentheses and saves as new file\n",
    "\n",
    "!awk -F \"[()]\" '{ for (i=2; i<NF; i+=2) print $i }' /Users/meganduffy/Documents/git-repos/amazon/data/MED-Amazon-20170712-Amz_87_Hi3_26/amz87-peaks26-dbpeps.txt > /Users/meganduffy/Documents/git-repos/amazon/data/MED-Amazon-20170712-Amz_87_Hi3_26/amz87-peaks26-db-mods.txt"
   ]
  },
  {
   "cell_type": "code",
   "execution_count": 18,
   "metadata": {},
   "outputs": [
    {
     "name": "stdout",
     "output_type": "stream",
     "text": [
      "+15.99\r\n"
     ]
    }
   ],
   "source": [
    "# How does the modifications text file look?\n",
    "\n",
    "!head /Users/meganduffy/Documents/git-repos/amazon/data/MED-Amazon-20170712-Amz_87_Hi3_26/amz87-peaks26-db-mods.txt"
   ]
  },
  {
   "cell_type": "code",
   "execution_count": 19,
   "metadata": {},
   "outputs": [
    {
     "name": "stdout",
     "output_type": "stream",
     "text": [
      "       1 /Users/meganduffy/Documents/git-repos/amazon/data/MED-Amazon-20170712-Amz_87_Hi3_26/amz87-peaks26-db-mods.txt\r\n"
     ]
    }
   ],
   "source": [
    "# How many modifications for this sample?\n",
    "\n",
    "!wc -l /Users/meganduffy/Documents/git-repos/amazon/data/MED-Amazon-20170712-Amz_87_Hi3_26/amz87-peaks26-db-mods.txt"
   ]
  },
  {
   "cell_type": "code",
   "execution_count": 20,
   "metadata": {},
   "outputs": [
    {
     "name": "stdout",
     "output_type": "stream",
     "text": [
      "       8 /Users/meganduffy/Documents/git-repos/amazon/data/MED-Amazon-20170712-Amz_87_Hi3_26/amz87-peaks26-dbpeps.txt\r\n"
     ]
    }
   ],
   "source": [
    "# Compared with how many total peptides?\n",
    "\n",
    "!wc -l /Users/meganduffy/Documents/git-repos/amazon/data/MED-Amazon-20170712-Amz_87_Hi3_26/amz87-peaks26-dbpeps.txt"
   ]
  },
  {
   "cell_type": "code",
   "execution_count": 21,
   "metadata": {},
   "outputs": [
    {
     "data": {
      "text/plain": [
       "0.125"
      ]
     },
     "execution_count": 21,
     "metadata": {},
     "output_type": "execute_result"
    }
   ],
   "source": [
    "# What's the percentage of modified peptides for this sample?\n",
    "\n",
    "1/8"
   ]
  },
  {
   "cell_type": "code",
   "execution_count": 22,
   "metadata": {
    "collapsed": true
   },
   "outputs": [],
   "source": [
    "# Get rid of modifications from all peptides and save as a new file\n",
    "# Remove '(+15.99)' and '(+57.02)', (+.98) from sequences\n",
    "\n",
    "!sed 's/(+15.99)//g' /Users/meganduffy/Documents/git-repos/amazon/data/MED-Amazon-20170712-Amz_87_Hi3_26/amz87-peaks26-dbpeps.txt \\\n",
    "| sed 's/(+57.02)//g'\\\n",
    "| sed 's/(+.98)//g'\\\n",
    "> /Users/meganduffy/Documents/git-repos/amazon/data/MED-Amazon-20170712-Amz_87_Hi3_26/amz87-peaks26-db-nomods.txt"
   ]
  },
  {
   "cell_type": "code",
   "execution_count": 23,
   "metadata": {},
   "outputs": [
    {
     "name": "stdout",
     "output_type": "stream",
     "text": [
      "LPQVEGTGGDVQPSQDLVR\r\n",
      "VIGQNEAVDAVSNAIR\r\n",
      "NNPVLIGEPGVGK\r\n",
      "AIDLIDEAASSIR\r\n",
      "VTDAEIAEVLAR\r\n",
      "LLKSPVVK\r\n",
      "TQAQEMTYK\r\n",
      "LSADLAELGLR\r\n"
     ]
    }
   ],
   "source": [
    "!head /Users/meganduffy/Documents/git-repos/amazon/data/MED-Amazon-20170712-Amz_87_Hi3_26/amz87-peaks26-db-nomods.txt"
   ]
  },
  {
   "cell_type": "code",
   "execution_count": 24,
   "metadata": {
    "collapsed": true
   },
   "outputs": [],
   "source": [
    "data = pd.read_csv(\"/Users/meganduffy/Documents/git-repos/amazon/data/MED-Amazon-20170712-Amz_87_Hi3_26/amz87-peaks26-dno.csv\")"
   ]
  },
  {
   "cell_type": "code",
   "execution_count": 25,
   "metadata": {},
   "outputs": [
    {
     "data": {
      "text/html": [
       "<div>\n",
       "<table border=\"1\" class=\"dataframe\">\n",
       "  <thead>\n",
       "    <tr style=\"text-align: right;\">\n",
       "      <th></th>\n",
       "      <th>Fraction</th>\n",
       "      <th>Scan</th>\n",
       "      <th>Source File</th>\n",
       "      <th>Peptide</th>\n",
       "      <th>Tag Length</th>\n",
       "      <th>ALC (%)</th>\n",
       "      <th>length</th>\n",
       "      <th>m/z</th>\n",
       "      <th>z</th>\n",
       "      <th>RT</th>\n",
       "      <th>Area</th>\n",
       "      <th>Mass</th>\n",
       "      <th>ppm</th>\n",
       "      <th>Accession</th>\n",
       "      <th>PTM</th>\n",
       "      <th>local confidence (%)</th>\n",
       "      <th>tag (&gt;=0%)</th>\n",
       "      <th>mode</th>\n",
       "    </tr>\n",
       "  </thead>\n",
       "  <tbody>\n",
       "    <tr>\n",
       "      <th>0</th>\n",
       "      <td>1</td>\n",
       "      <td>10209</td>\n",
       "      <td>20170530_Amz_87_01.raw</td>\n",
       "      <td>LSSPATLNSR</td>\n",
       "      <td>10</td>\n",
       "      <td>92</td>\n",
       "      <td>10</td>\n",
       "      <td>523.2864</td>\n",
       "      <td>2</td>\n",
       "      <td>42.71</td>\n",
       "      <td>3570000.0</td>\n",
       "      <td>1044.5564</td>\n",
       "      <td>1.7</td>\n",
       "      <td>NaN</td>\n",
       "      <td>NaN</td>\n",
       "      <td>99 99 99 99 99 98 91 86 79 74</td>\n",
       "      <td>LSSPATLNSR</td>\n",
       "      <td>CID</td>\n",
       "    </tr>\n",
       "    <tr>\n",
       "      <th>1</th>\n",
       "      <td>1</td>\n",
       "      <td>12747</td>\n",
       "      <td>20170530_Amz_87_01.raw</td>\n",
       "      <td>VATVSPLR</td>\n",
       "      <td>8</td>\n",
       "      <td>92</td>\n",
       "      <td>8</td>\n",
       "      <td>421.7588</td>\n",
       "      <td>2</td>\n",
       "      <td>53.51</td>\n",
       "      <td>5350000.0</td>\n",
       "      <td>841.5021</td>\n",
       "      <td>1.1</td>\n",
       "      <td>KNOT_31596927_PROKKA_830906</td>\n",
       "      <td>NaN</td>\n",
       "      <td>97 99 100 99 97 88 96 63</td>\n",
       "      <td>VATVSPLR</td>\n",
       "      <td>CID</td>\n",
       "    </tr>\n",
       "    <tr>\n",
       "      <th>2</th>\n",
       "      <td>1</td>\n",
       "      <td>10339</td>\n",
       "      <td>20170530_Amz_87_01.raw</td>\n",
       "      <td>LSSPATLNSR</td>\n",
       "      <td>10</td>\n",
       "      <td>91</td>\n",
       "      <td>10</td>\n",
       "      <td>523.2870</td>\n",
       "      <td>2</td>\n",
       "      <td>43.22</td>\n",
       "      <td>3570000.0</td>\n",
       "      <td>1044.5564</td>\n",
       "      <td>3.0</td>\n",
       "      <td>NaN</td>\n",
       "      <td>NaN</td>\n",
       "      <td>98 99 99 99 99 98 94 86 78 68</td>\n",
       "      <td>LSSPATLNSR</td>\n",
       "      <td>CID</td>\n",
       "    </tr>\n",
       "    <tr>\n",
       "      <th>3</th>\n",
       "      <td>1</td>\n",
       "      <td>12867</td>\n",
       "      <td>20170530_Amz_87_01.raw</td>\n",
       "      <td>VATVSLPR</td>\n",
       "      <td>8</td>\n",
       "      <td>90</td>\n",
       "      <td>8</td>\n",
       "      <td>421.7585</td>\n",
       "      <td>2</td>\n",
       "      <td>54.02</td>\n",
       "      <td>5350000.0</td>\n",
       "      <td>841.5021</td>\n",
       "      <td>0.5</td>\n",
       "      <td>NaN</td>\n",
       "      <td>NaN</td>\n",
       "      <td>97 99 100 92 96 94 84 65</td>\n",
       "      <td>VATVSLPR</td>\n",
       "      <td>CID</td>\n",
       "    </tr>\n",
       "    <tr>\n",
       "      <th>4</th>\n",
       "      <td>1</td>\n",
       "      <td>7950</td>\n",
       "      <td>20170530_Amz_87_01.raw</td>\n",
       "      <td>DMLQYK</td>\n",
       "      <td>6</td>\n",
       "      <td>86</td>\n",
       "      <td>6</td>\n",
       "      <td>399.1936</td>\n",
       "      <td>2</td>\n",
       "      <td>33.07</td>\n",
       "      <td>389000.0</td>\n",
       "      <td>796.3789</td>\n",
       "      <td>-7.8</td>\n",
       "      <td>NaN</td>\n",
       "      <td>NaN</td>\n",
       "      <td>71 71 95 94 96 95</td>\n",
       "      <td>DMLQYK</td>\n",
       "      <td>CID</td>\n",
       "    </tr>\n",
       "  </tbody>\n",
       "</table>\n",
       "</div>"
      ],
      "text/plain": [
       "   Fraction   Scan             Source File     Peptide  Tag Length  ALC (%)  \\\n",
       "0         1  10209  20170530_Amz_87_01.raw  LSSPATLNSR          10       92   \n",
       "1         1  12747  20170530_Amz_87_01.raw    VATVSPLR           8       92   \n",
       "2         1  10339  20170530_Amz_87_01.raw  LSSPATLNSR          10       91   \n",
       "3         1  12867  20170530_Amz_87_01.raw    VATVSLPR           8       90   \n",
       "4         1   7950  20170530_Amz_87_01.raw      DMLQYK           6       86   \n",
       "\n",
       "   length       m/z  z     RT       Area       Mass  ppm  \\\n",
       "0      10  523.2864  2  42.71  3570000.0  1044.5564  1.7   \n",
       "1       8  421.7588  2  53.51  5350000.0   841.5021  1.1   \n",
       "2      10  523.2870  2  43.22  3570000.0  1044.5564  3.0   \n",
       "3       8  421.7585  2  54.02  5350000.0   841.5021  0.5   \n",
       "4       6  399.1936  2  33.07   389000.0   796.3789 -7.8   \n",
       "\n",
       "                     Accession  PTM           local confidence (%)  \\\n",
       "0                          NaN  NaN  99 99 99 99 99 98 91 86 79 74   \n",
       "1  KNOT_31596927_PROKKA_830906  NaN       97 99 100 99 97 88 96 63   \n",
       "2                          NaN  NaN  98 99 99 99 99 98 94 86 78 68   \n",
       "3                          NaN  NaN       97 99 100 92 96 94 84 65   \n",
       "4                          NaN  NaN              71 71 95 94 96 95   \n",
       "\n",
       "   tag (>=0%) mode  \n",
       "0  LSSPATLNSR  CID  \n",
       "1    VATVSPLR  CID  \n",
       "2  LSSPATLNSR  CID  \n",
       "3    VATVSLPR  CID  \n",
       "4      DMLQYK  CID  "
      ]
     },
     "execution_count": 25,
     "metadata": {},
     "output_type": "execute_result"
    }
   ],
   "source": [
    "data.head()"
   ]
  },
  {
   "cell_type": "code",
   "execution_count": 26,
   "metadata": {
    "collapsed": true
   },
   "outputs": [],
   "source": [
    "# Keep only peptide column\n",
    "pep = data[[\"Peptide\"]]"
   ]
  },
  {
   "cell_type": "code",
   "execution_count": 27,
   "metadata": {},
   "outputs": [
    {
     "data": {
      "text/html": [
       "<div>\n",
       "<table border=\"1\" class=\"dataframe\">\n",
       "  <thead>\n",
       "    <tr style=\"text-align: right;\">\n",
       "      <th></th>\n",
       "      <th>Peptide</th>\n",
       "    </tr>\n",
       "  </thead>\n",
       "  <tbody>\n",
       "    <tr>\n",
       "      <th>0</th>\n",
       "      <td>LSSPATLNSR</td>\n",
       "    </tr>\n",
       "    <tr>\n",
       "      <th>1</th>\n",
       "      <td>VATVSPLR</td>\n",
       "    </tr>\n",
       "    <tr>\n",
       "      <th>2</th>\n",
       "      <td>LSSPATLNSR</td>\n",
       "    </tr>\n",
       "    <tr>\n",
       "      <th>3</th>\n",
       "      <td>VATVSLPR</td>\n",
       "    </tr>\n",
       "    <tr>\n",
       "      <th>4</th>\n",
       "      <td>DMLQYK</td>\n",
       "    </tr>\n",
       "  </tbody>\n",
       "</table>\n",
       "</div>"
      ],
      "text/plain": [
       "      Peptide\n",
       "0  LSSPATLNSR\n",
       "1    VATVSPLR\n",
       "2  LSSPATLNSR\n",
       "3    VATVSLPR\n",
       "4      DMLQYK"
      ]
     },
     "execution_count": 27,
     "metadata": {},
     "output_type": "execute_result"
    }
   ],
   "source": [
    "pep.head()"
   ]
  },
  {
   "cell_type": "code",
   "execution_count": 28,
   "metadata": {
    "collapsed": true
   },
   "outputs": [],
   "source": [
    "# Write altered dataframe to new csv file\n",
    "# Used header and index parameters to get rid of 'Peptide' header and the indexing\n",
    "\n",
    "pep.to_csv(\"/Users/meganduffy/Documents/git-repos/amazon/data/MED-Amazon-20170712-Amz_87_Hi3_26/amz87-peaks26-dnopeps.csv\", header=False, index=False)"
   ]
  },
  {
   "cell_type": "code",
   "execution_count": 29,
   "metadata": {
    "collapsed": true
   },
   "outputs": [],
   "source": [
    "# Write altered dataframe to new txt file\n",
    "# Used header and index parameters to get rid of 'Peptide' header and the indexing\n",
    "\n",
    "pep.to_csv(\"/Users/meganduffy/Documents/git-repos/amazon/data/MED-Amazon-20170712-Amz_87_Hi3_26/amz87-peaks26-dnopeps.txt\", header=False, index=False)"
   ]
  },
  {
   "cell_type": "code",
   "execution_count": 30,
   "metadata": {},
   "outputs": [
    {
     "name": "stdout",
     "output_type": "stream",
     "text": [
      "LSSPATLNSR\r\n",
      "VATVSPLR\r\n",
      "LSSPATLNSR\r\n",
      "VATVSLPR\r\n",
      "DMLQYK\r\n",
      "VVTVLSPR\r\n",
      "STM(+15.99)DLDSK\r\n",
      "DPYTQK\r\n",
      "NSHVEGTGGDVEWQLLVR\r\n",
      "LDLLEAAAMLK\r\n"
     ]
    }
   ],
   "source": [
    "!head /Users/meganduffy/Documents/git-repos/amazon/data/MED-Amazon-20170712-Amz_87_Hi3_26/amz87-peaks26-dnopeps.txt"
   ]
  },
  {
   "cell_type": "code",
   "execution_count": 32,
   "metadata": {},
   "outputs": [],
   "source": [
    "# Removes all characters in parentheses and saves as new file\n",
    "\n",
    "!awk -F \"[()]\" '{ for (i=2; i<NF; i+=2) print $i }' /Users/meganduffy/Documents/git-repos/amazon/data/MED-Amazon-20170712-Amz_87_Hi3_26/amz87-peaks26-dnopeps.txt > /Users/meganduffy/Documents/git-repos/amazon/data/MED-Amazon-20170712-Amz_87_Hi3_26/amz87-peaks26-dno-mods.txt"
   ]
  },
  {
   "cell_type": "code",
   "execution_count": 33,
   "metadata": {},
   "outputs": [
    {
     "name": "stdout",
     "output_type": "stream",
     "text": [
      "+15.99\r\n",
      "+57.02\r\n",
      "+57.02\r\n",
      "+57.02\r\n",
      "+15.99\r\n",
      "+15.99\r\n",
      "+15.99\r\n",
      "+57.02\r\n",
      "+15.99\r\n"
     ]
    }
   ],
   "source": [
    "# How does the modifications text file look?\n",
    "\n",
    "!head /Users/meganduffy/Documents/git-repos/amazon/data/MED-Amazon-20170712-Amz_87_Hi3_26/amz87-peaks26-dno-mods.txt"
   ]
  },
  {
   "cell_type": "code",
   "execution_count": 34,
   "metadata": {},
   "outputs": [
    {
     "name": "stdout",
     "output_type": "stream",
     "text": [
      "       9 /Users/meganduffy/Documents/git-repos/amazon/data/MED-Amazon-20170712-Amz_87_Hi3_26/amz87-peaks26-dno-mods.txt\r\n"
     ]
    }
   ],
   "source": [
    "# How many modifications for this sample?\n",
    "\n",
    "!wc -l /Users/meganduffy/Documents/git-repos/amazon/data/MED-Amazon-20170712-Amz_87_Hi3_26/amz87-peaks26-dno-mods.txt"
   ]
  },
  {
   "cell_type": "code",
   "execution_count": 36,
   "metadata": {},
   "outputs": [
    {
     "name": "stdout",
     "output_type": "stream",
     "text": [
      "      21 /Users/meganduffy/Documents/git-repos/amazon/data/MED-Amazon-20170712-Amz_87_Hi3_26/amz87-peaks26-dnopeps.txt\r\n"
     ]
    }
   ],
   "source": [
    "# Compared with how many total peptides?\n",
    "\n",
    "!wc -l /Users/meganduffy/Documents/git-repos/amazon/data/MED-Amazon-20170712-Amz_87_Hi3_26/amz87-peaks26-dnopeps.txt"
   ]
  },
  {
   "cell_type": "code",
   "execution_count": 38,
   "metadata": {},
   "outputs": [
    {
     "data": {
      "text/plain": [
       "0.42857142857142855"
      ]
     },
     "execution_count": 38,
     "metadata": {},
     "output_type": "execute_result"
    }
   ],
   "source": [
    "# What's the percentage of modified peptides for this sample?\n",
    "\n",
    "9/21"
   ]
  },
  {
   "cell_type": "code",
   "execution_count": 39,
   "metadata": {
    "collapsed": true
   },
   "outputs": [],
   "source": [
    "# Get rid of modifications from all peptides and save as a new file\n",
    "# Remove '(+15.99)' and '(+57.02)', (+.98) from sequences\n",
    "\n",
    "!sed 's/(+15.99)//g' /Users/meganduffy/Documents/git-repos/amazon/data/MED-Amazon-20170712-Amz_87_Hi3_26/amz87-peaks26-dnopeps.txt \\\n",
    "| sed 's/(+57.02)//g'\\\n",
    "| sed 's/(+.98)//g'\\\n",
    "> /Users/meganduffy/Documents/git-repos/amazon/data/MED-Amazon-20170712-Amz_87_Hi3_26/amz87-peaks26-dno-nomods.txt"
   ]
  },
  {
   "cell_type": "code",
   "execution_count": 40,
   "metadata": {},
   "outputs": [
    {
     "name": "stdout",
     "output_type": "stream",
     "text": [
      "LSSPATLNSR\r\n",
      "VATVSPLR\r\n",
      "LSSPATLNSR\r\n",
      "VATVSLPR\r\n",
      "DMLQYK\r\n",
      "VVTVLSPR\r\n",
      "STMDLDSK\r\n",
      "DPYTQK\r\n",
      "NSHVEGTGGDVEWQLLVR\r\n",
      "LDLLEAAAMLK\r\n"
     ]
    }
   ],
   "source": [
    "!head /Users/meganduffy/Documents/git-repos/amazon/data/MED-Amazon-20170712-Amz_87_Hi3_26/amz87-peaks26-dno-nomods.txt"
   ]
  },
  {
   "cell_type": "code",
   "execution_count": 41,
   "metadata": {},
   "outputs": [
    {
     "name": "stdout",
     "output_type": "stream",
     "text": [
      "amz87-peaks26-DB-search-psm.csv    amz87-peaks26-dno.csv\r\n",
      "amz87-peaks26-db-mods.txt          amz87-peaks26-dnopeps.csv\r\n",
      "amz87-peaks26-db-nomods.txt        amz87-peaks26-dnopeps.txt\r\n",
      "amz87-peaks26-dbpeps.csv           amz87-peaks26-peptide.csv\r\n",
      "amz87-peaks26-dbpeps.txt           amz87-peaks26-protein-peptides.csv\r\n",
      "amz87-peaks26-dno-mods.txt         amz87-peaks26-proteins.csv\r\n",
      "amz87-peaks26-dno-nomods.txt       amz87-peaks26-proteins.xlsx\r\n"
     ]
    }
   ],
   "source": [
    "!ls /Users/meganduffy/Documents/git-repos/amazon/data/MED-Amazon-20170712-Amz_87_Hi3_26/"
   ]
  },
  {
   "cell_type": "code",
   "execution_count": 42,
   "metadata": {
    "collapsed": true
   },
   "outputs": [],
   "source": [
    "data = pd.read_csv(\"/Users/meganduffy/Documents/git-repos/amazon/data/381-peaks79-peptide.csv\")"
   ]
  },
  {
   "cell_type": "code",
   "execution_count": 43,
   "metadata": {
    "collapsed": true
   },
   "outputs": [],
   "source": [
    "# Keep only peptide column\n",
    "pep = data[[\"Peptide\"]]"
   ]
  },
  {
   "cell_type": "code",
   "execution_count": 46,
   "metadata": {
    "collapsed": true
   },
   "outputs": [],
   "source": [
    "# Write altered dataframe to new txt file\n",
    "# Used header and index parameters to get rid of 'Peptide' header and the indexing\n",
    "\n",
    "pep.to_csv(\"/Users/meganduffy/Documents/git-repos/amazon/381-peaks79-dbpeps.txt\", header=False, index=False)"
   ]
  },
  {
   "cell_type": "code",
   "execution_count": 47,
   "metadata": {},
   "outputs": [
    {
     "name": "stdout",
     "output_type": "stream",
     "text": [
      "LPQVEGTGGDVQPSQDLVR\r\n",
      "HLVDEPQNLIKQNC(+57.02)DQFEK\r\n",
      "AIQQQIENPLAQQILSGELVPGK\r\n",
      "ADLAKYIC(+57.02)DNQDTISSK\r\n",
      "SLHTLFGDELC(+57.02)K\r\n",
      "LGEHNIDVLEGNEQFINAAK\r\n",
      "AEFVEVTKLVTDLTK\r\n",
      "YTRKVPQVSTPTLVEVSR\r\n",
      "DDPHAC(+57.02)YSTVFDKLK\r\n",
      "LGEYGFQNALIVR\r\n"
     ]
    }
   ],
   "source": [
    "!head /Users/meganduffy/Documents/git-repos/amazon/381-peaks79-dbpeps.txt"
   ]
  },
  {
   "cell_type": "code",
   "execution_count": 49,
   "metadata": {
    "collapsed": true
   },
   "outputs": [],
   "source": [
    "# Get rid of modifications from all peptides and save as a new file\n",
    "# Remove '(+15.99)' and '(+57.02)', (+.98) from sequences\n",
    "\n",
    "!sed 's/(+15.99)//g' /Users/meganduffy/Documents/git-repos/amazon/381-peaks79-dbpeps.txt \\\n",
    "| sed 's/(+57.02)//g'\\\n",
    "| sed 's/(+.98)//g'\\\n",
    "> /Users/meganduffy/Documents/git-repos/amazon/data/381-peaks79-db-nomods.txt"
   ]
  },
  {
   "cell_type": "code",
   "execution_count": 50,
   "metadata": {
    "collapsed": true
   },
   "outputs": [],
   "source": [
    "data = pd.read_csv(\"/Users/meganduffy/Documents/git-repos/amazon/data/397-peaks52-peptide.csv\")"
   ]
  },
  {
   "cell_type": "code",
   "execution_count": 51,
   "metadata": {},
   "outputs": [
    {
     "data": {
      "text/html": [
       "<div>\n",
       "<table border=\"1\" class=\"dataframe\">\n",
       "  <thead>\n",
       "    <tr style=\"text-align: right;\">\n",
       "      <th></th>\n",
       "      <th>Peptide</th>\n",
       "      <th>-10lgP</th>\n",
       "      <th>Mass</th>\n",
       "      <th>Length</th>\n",
       "      <th>ppm</th>\n",
       "      <th>m/z</th>\n",
       "      <th>RT</th>\n",
       "      <th>Area Sample 7</th>\n",
       "      <th>Fraction</th>\n",
       "      <th>Scan</th>\n",
       "      <th>Source File</th>\n",
       "      <th>#Spec</th>\n",
       "      <th>#Spec Sample 7</th>\n",
       "      <th>Accession</th>\n",
       "      <th>PTM</th>\n",
       "      <th>AScore</th>\n",
       "    </tr>\n",
       "  </thead>\n",
       "  <tbody>\n",
       "    <tr>\n",
       "      <th>0</th>\n",
       "      <td>HLVDEPQNLIKQNC(+57.02)DQFEK</td>\n",
       "      <td>91.08</td>\n",
       "      <td>2354.1326</td>\n",
       "      <td>19</td>\n",
       "      <td>4.1</td>\n",
       "      <td>785.7214</td>\n",
       "      <td>55.01</td>\n",
       "      <td>130000000.0</td>\n",
       "      <td>7</td>\n",
       "      <td>19798</td>\n",
       "      <td>20190625__397_mcp_filter127_1of4_RNAlater_noly...</td>\n",
       "      <td>8</td>\n",
       "      <td>8</td>\n",
       "      <td>CAA76847.1</td>\n",
       "      <td>Carbamidomethylation</td>\n",
       "      <td>C14:Carbamidomethylation:1000.00</td>\n",
       "    </tr>\n",
       "    <tr>\n",
       "      <th>1</th>\n",
       "      <td>LPQVEGTGGDVQPSQDLVR</td>\n",
       "      <td>90.28</td>\n",
       "      <td>1994.0068</td>\n",
       "      <td>19</td>\n",
       "      <td>0.7</td>\n",
       "      <td>998.0114</td>\n",
       "      <td>54.22</td>\n",
       "      <td>193000000.0</td>\n",
       "      <td>7</td>\n",
       "      <td>19442</td>\n",
       "      <td>20190625__397_mcp_filter127_1of4_RNAlater_noly...</td>\n",
       "      <td>11</td>\n",
       "      <td>11</td>\n",
       "      <td>54036848</td>\n",
       "      <td>NaN</td>\n",
       "      <td>NaN</td>\n",
       "    </tr>\n",
       "    <tr>\n",
       "      <th>2</th>\n",
       "      <td>VHKEC(+57.02)C(+57.02)HGDLLEC(+57.02)ADDRADLAK</td>\n",
       "      <td>87.68</td>\n",
       "      <td>2611.1577</td>\n",
       "      <td>22</td>\n",
       "      <td>2.0</td>\n",
       "      <td>653.7980</td>\n",
       "      <td>45.48</td>\n",
       "      <td>120000000.0</td>\n",
       "      <td>7</td>\n",
       "      <td>15698</td>\n",
       "      <td>20190625__397_mcp_filter127_1of4_RNAlater_noly...</td>\n",
       "      <td>28</td>\n",
       "      <td>28</td>\n",
       "      <td>CAA76847.1</td>\n",
       "      <td>Carbamidomethylation</td>\n",
       "      <td>C5:Carbamidomethylation:1000.00;C6:Carbamidome...</td>\n",
       "    </tr>\n",
       "    <tr>\n",
       "      <th>3</th>\n",
       "      <td>YYANKYNGVFQEC(+57.02)C(+57.02)QAEDKGAC(+57.02)...</td>\n",
       "      <td>82.95</td>\n",
       "      <td>3125.4045</td>\n",
       "      <td>26</td>\n",
       "      <td>1.8</td>\n",
       "      <td>782.3598</td>\n",
       "      <td>61.87</td>\n",
       "      <td>13200000.0</td>\n",
       "      <td>7</td>\n",
       "      <td>23001</td>\n",
       "      <td>20190625__397_mcp_filter127_1of4_RNAlater_noly...</td>\n",
       "      <td>3</td>\n",
       "      <td>3</td>\n",
       "      <td>CAA76847.1</td>\n",
       "      <td>Carbamidomethylation</td>\n",
       "      <td>C13:Carbamidomethylation:1000.00;C14:Carbamido...</td>\n",
       "    </tr>\n",
       "    <tr>\n",
       "      <th>4</th>\n",
       "      <td>SHC(+57.02)IAEVEKDAIPENLPPLTADFAEDKDVC(+57.02)K</td>\n",
       "      <td>81.20</td>\n",
       "      <td>3510.6646</td>\n",
       "      <td>31</td>\n",
       "      <td>2.2</td>\n",
       "      <td>703.1417</td>\n",
       "      <td>71.77</td>\n",
       "      <td>4400000.0</td>\n",
       "      <td>7</td>\n",
       "      <td>27547</td>\n",
       "      <td>20190625__397_mcp_filter127_1of4_RNAlater_noly...</td>\n",
       "      <td>2</td>\n",
       "      <td>2</td>\n",
       "      <td>CAA76847.1</td>\n",
       "      <td>Carbamidomethylation</td>\n",
       "      <td>C3:Carbamidomethylation:1000.00;C30:Carbamidom...</td>\n",
       "    </tr>\n",
       "  </tbody>\n",
       "</table>\n",
       "</div>"
      ],
      "text/plain": [
       "                                             Peptide  -10lgP       Mass  \\\n",
       "0                        HLVDEPQNLIKQNC(+57.02)DQFEK   91.08  2354.1326   \n",
       "1                                LPQVEGTGGDVQPSQDLVR   90.28  1994.0068   \n",
       "2     VHKEC(+57.02)C(+57.02)HGDLLEC(+57.02)ADDRADLAK   87.68  2611.1577   \n",
       "3  YYANKYNGVFQEC(+57.02)C(+57.02)QAEDKGAC(+57.02)...   82.95  3125.4045   \n",
       "4    SHC(+57.02)IAEVEKDAIPENLPPLTADFAEDKDVC(+57.02)K   81.20  3510.6646   \n",
       "\n",
       "   Length  ppm       m/z     RT  Area Sample 7  Fraction   Scan  \\\n",
       "0      19  4.1  785.7214  55.01    130000000.0         7  19798   \n",
       "1      19  0.7  998.0114  54.22    193000000.0         7  19442   \n",
       "2      22  2.0  653.7980  45.48    120000000.0         7  15698   \n",
       "3      26  1.8  782.3598  61.87     13200000.0         7  23001   \n",
       "4      31  2.2  703.1417  71.77      4400000.0         7  27547   \n",
       "\n",
       "                                         Source File  #Spec  #Spec Sample 7  \\\n",
       "0  20190625__397_mcp_filter127_1of4_RNAlater_noly...      8               8   \n",
       "1  20190625__397_mcp_filter127_1of4_RNAlater_noly...     11              11   \n",
       "2  20190625__397_mcp_filter127_1of4_RNAlater_noly...     28              28   \n",
       "3  20190625__397_mcp_filter127_1of4_RNAlater_noly...      3               3   \n",
       "4  20190625__397_mcp_filter127_1of4_RNAlater_noly...      2               2   \n",
       "\n",
       "    Accession                   PTM  \\\n",
       "0  CAA76847.1  Carbamidomethylation   \n",
       "1    54036848                   NaN   \n",
       "2  CAA76847.1  Carbamidomethylation   \n",
       "3  CAA76847.1  Carbamidomethylation   \n",
       "4  CAA76847.1  Carbamidomethylation   \n",
       "\n",
       "                                              AScore  \n",
       "0                   C14:Carbamidomethylation:1000.00  \n",
       "1                                                NaN  \n",
       "2  C5:Carbamidomethylation:1000.00;C6:Carbamidome...  \n",
       "3  C13:Carbamidomethylation:1000.00;C14:Carbamido...  \n",
       "4  C3:Carbamidomethylation:1000.00;C30:Carbamidom...  "
      ]
     },
     "execution_count": 51,
     "metadata": {},
     "output_type": "execute_result"
    }
   ],
   "source": [
    "data.head()"
   ]
  },
  {
   "cell_type": "code",
   "execution_count": 52,
   "metadata": {
    "collapsed": true
   },
   "outputs": [],
   "source": [
    "# Keep only peptide column\n",
    "pep = data[[\"Peptide\"]]"
   ]
  },
  {
   "cell_type": "code",
   "execution_count": 53,
   "metadata": {},
   "outputs": [
    {
     "data": {
      "text/html": [
       "<div>\n",
       "<table border=\"1\" class=\"dataframe\">\n",
       "  <thead>\n",
       "    <tr style=\"text-align: right;\">\n",
       "      <th></th>\n",
       "      <th>Peptide</th>\n",
       "    </tr>\n",
       "  </thead>\n",
       "  <tbody>\n",
       "    <tr>\n",
       "      <th>0</th>\n",
       "      <td>HLVDEPQNLIKQNC(+57.02)DQFEK</td>\n",
       "    </tr>\n",
       "    <tr>\n",
       "      <th>1</th>\n",
       "      <td>LPQVEGTGGDVQPSQDLVR</td>\n",
       "    </tr>\n",
       "    <tr>\n",
       "      <th>2</th>\n",
       "      <td>VHKEC(+57.02)C(+57.02)HGDLLEC(+57.02)ADDRADLAK</td>\n",
       "    </tr>\n",
       "    <tr>\n",
       "      <th>3</th>\n",
       "      <td>YYANKYNGVFQEC(+57.02)C(+57.02)QAEDKGAC(+57.02)...</td>\n",
       "    </tr>\n",
       "    <tr>\n",
       "      <th>4</th>\n",
       "      <td>SHC(+57.02)IAEVEKDAIPENLPPLTADFAEDKDVC(+57.02)K</td>\n",
       "    </tr>\n",
       "  </tbody>\n",
       "</table>\n",
       "</div>"
      ],
      "text/plain": [
       "                                             Peptide\n",
       "0                        HLVDEPQNLIKQNC(+57.02)DQFEK\n",
       "1                                LPQVEGTGGDVQPSQDLVR\n",
       "2     VHKEC(+57.02)C(+57.02)HGDLLEC(+57.02)ADDRADLAK\n",
       "3  YYANKYNGVFQEC(+57.02)C(+57.02)QAEDKGAC(+57.02)...\n",
       "4    SHC(+57.02)IAEVEKDAIPENLPPLTADFAEDKDVC(+57.02)K"
      ]
     },
     "execution_count": 53,
     "metadata": {},
     "output_type": "execute_result"
    }
   ],
   "source": [
    "pep.head()"
   ]
  },
  {
   "cell_type": "code",
   "execution_count": 54,
   "metadata": {
    "collapsed": true
   },
   "outputs": [],
   "source": [
    "# Write altered dataframe to new txt file\n",
    "# Used header and index parameters to get rid of 'Peptide' header and the indexing\n",
    "\n",
    "pep.to_csv(\"/Users/meganduffy/Documents/git-repos/amazon/data/397-peaks52-dbpeps.txt\", header=False, index=False)"
   ]
  },
  {
   "cell_type": "code",
   "execution_count": 55,
   "metadata": {},
   "outputs": [
    {
     "name": "stdout",
     "output_type": "stream",
     "text": [
      "HLVDEPQNLIKQNC(+57.02)DQFEK\r\n",
      "LPQVEGTGGDVQPSQDLVR\r\n",
      "VHKEC(+57.02)C(+57.02)HGDLLEC(+57.02)ADDRADLAK\r\n",
      "YYANKYNGVFQEC(+57.02)C(+57.02)QAEDKGAC(+57.02)LLPK\r\n",
      "SHC(+57.02)IAEVEKDAIPENLPPLTADFAEDKDVC(+57.02)K\r\n",
      "LC(+57.02)VLHEKTPVSEKVTK\r\n",
      "ATEEQLKTVM(+15.99)ENFVAFVDK\r\n",
      "PPLTADFAEDKDVC(+57.02)K\r\n",
      "LFTFHADIC(+57.02)TLPDTEK\r\n",
      "C(+57.02)C(+57.02)AADDKEAC(+57.02)FAVEGPK\r\n"
     ]
    }
   ],
   "source": [
    "!head /Users/meganduffy/Documents/git-repos/amazon/data/397-peaks52-dbpeps.txt"
   ]
  },
  {
   "cell_type": "code",
   "execution_count": 56,
   "metadata": {
    "collapsed": true
   },
   "outputs": [],
   "source": [
    "# Get rid of modifications from all peptides and save as a new file\n",
    "# Remove '(+15.99)' and '(+57.02)', (+.98) from sequences\n",
    "\n",
    "!sed 's/(+15.99)//g' /Users/meganduffy/Documents/git-repos/amazon/data/397-peaks52-dbpeps.txt \\\n",
    "| sed 's/(+57.02)//g'\\\n",
    "| sed 's/(+.98)//g'\\\n",
    "> /Users/meganduffy/Documents/git-repos/amazon/data/397-peaks952-db-nomods.txt"
   ]
  },
  {
   "cell_type": "code",
   "execution_count": 57,
   "metadata": {},
   "outputs": [
    {
     "name": "stdout",
     "output_type": "stream",
     "text": [
      "HLVDEPQNLIKQNCDQFEK\r\n",
      "LPQVEGTGGDVQPSQDLVR\r\n",
      "VHKECCHGDLLECADDRADLAK\r\n",
      "YYANKYNGVFQECCQAEDKGACLLPK\r\n",
      "SHCIAEVEKDAIPENLPPLTADFAEDKDVCK\r\n",
      "LCVLHEKTPVSEKVTK\r\n",
      "ATEEQLKTVMENFVAFVDK\r\n",
      "PPLTADFAEDKDVCK\r\n",
      "LFTFHADICTLPDTEK\r\n",
      "CCAADDKEACFAVEGPK\r\n"
     ]
    }
   ],
   "source": [
    "!head /Users/meganduffy/Documents/git-repos/amazon/data/397-peaks952-db-nomods.txt"
   ]
  },
  {
   "cell_type": "code",
   "execution_count": null,
   "metadata": {
    "collapsed": true
   },
   "outputs": [],
   "source": []
  }
 ],
 "metadata": {
  "anaconda-cloud": {},
  "kernelspec": {
   "display_name": "Python 3",
   "language": "python",
   "name": "python3"
  },
  "language_info": {
   "codemirror_mode": {
    "name": "ipython",
    "version": 3
   },
   "file_extension": ".py",
   "mimetype": "text/x-python",
   "name": "python",
   "nbconvert_exporter": "python",
   "pygments_lexer": "ipython3",
   "version": "3.8.3"
  }
 },
 "nbformat": 4,
 "nbformat_minor": 1
}
