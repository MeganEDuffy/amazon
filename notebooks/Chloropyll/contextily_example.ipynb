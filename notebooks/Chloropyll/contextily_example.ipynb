{
 "cells": [
  {
   "cell_type": "code",
   "execution_count": 5,
   "metadata": {},
   "outputs": [
    {
     "ename": "ValueError",
     "evalue": "Could not retrieve map with parameters: -105.3014509, 39.9643513, -105.1780988, 40.094409, zoom=13\n{'ll': True, 'source': {'url': 'https://stamen-tiles-{s}.a.ssl.fastly.net/{variant}/{z}/{x}/{y}{r}.{ext}', 'html_attribution': 'Map tiles by <a href=\"http://stamen.com\">Stamen Design</a>, <a href=\"http://creativecommons.org/licenses/by/3.0\">CC BY 3.0</a> &mdash; Map data &copy; <a href=\"https://www.openstreetmap.org/copyright\">OpenStreetMap</a> contributors', 'attribution': 'Map tiles by Stamen Design, CC BY 3.0 -- Map data (C) OpenStreetMap contributors', 'subdomains': 'abcd', 'min_zoom': 0, 'max_zoom': 18, 'variant': 'terrain', 'ext': 'png', 'name': 'Stamen.Terrain'}}\nError: cannot identify image file <_io.BytesIO object at 0x7cd2d382a340>",
     "output_type": "error",
     "traceback": [
      "\u001b[0;31m---------------------------------------------------------------------------\u001b[0m",
      "\u001b[0;31mUnidentifiedImageError\u001b[0m                    Traceback (most recent call last)",
      "File \u001b[0;32m~/anaconda3/envs/geo_env/lib/python3.10/site-packages/contextily/place.py:129\u001b[0m, in \u001b[0;36mPlace._get_map\u001b[0;34m(self)\u001b[0m\n\u001b[1;32m    128\u001b[0m     \u001b[38;5;28;01melse\u001b[39;00m:\n\u001b[0;32m--> 129\u001b[0m         im, bbox \u001b[38;5;241m=\u001b[39m \u001b[43mbounds2img\u001b[49m\u001b[43m(\u001b[49m\n\u001b[1;32m    130\u001b[0m \u001b[43m            \u001b[49m\u001b[38;5;28;43mself\u001b[39;49m\u001b[38;5;241;43m.\u001b[39;49m\u001b[43mw\u001b[49m\u001b[43m,\u001b[49m\u001b[43m \u001b[49m\u001b[38;5;28;43mself\u001b[39;49m\u001b[38;5;241;43m.\u001b[39;49m\u001b[43ms\u001b[49m\u001b[43m,\u001b[49m\u001b[43m \u001b[49m\u001b[38;5;28;43mself\u001b[39;49m\u001b[38;5;241;43m.\u001b[39;49m\u001b[43me\u001b[49m\u001b[43m,\u001b[49m\u001b[43m \u001b[49m\u001b[38;5;28;43mself\u001b[39;49m\u001b[38;5;241;43m.\u001b[39;49m\u001b[43mn\u001b[49m\u001b[43m,\u001b[49m\u001b[43m \u001b[49m\u001b[38;5;28;43mself\u001b[39;49m\u001b[38;5;241;43m.\u001b[39;49m\u001b[43mzoom\u001b[49m\u001b[43m,\u001b[49m\u001b[43m \u001b[49m\u001b[38;5;241;43m*\u001b[39;49m\u001b[38;5;241;43m*\u001b[39;49m\u001b[43mkwargs\u001b[49m\n\u001b[1;32m    131\u001b[0m \u001b[43m        \u001b[49m\u001b[43m)\u001b[49m\n\u001b[1;32m    132\u001b[0m \u001b[38;5;28;01mexcept\u001b[39;00m \u001b[38;5;167;01mException\u001b[39;00m \u001b[38;5;28;01mas\u001b[39;00m err:\n",
      "File \u001b[0;32m~/anaconda3/envs/geo_env/lib/python3.10/site-packages/contextily/tile.py:222\u001b[0m, in \u001b[0;36mbounds2img\u001b[0;34m(w, s, e, n, zoom, source, ll, wait, max_retries)\u001b[0m\n\u001b[1;32m    221\u001b[0m tile_url \u001b[38;5;241m=\u001b[39m provider\u001b[38;5;241m.\u001b[39mbuild_url(x\u001b[38;5;241m=\u001b[39mx, y\u001b[38;5;241m=\u001b[39my, z\u001b[38;5;241m=\u001b[39mz)\n\u001b[0;32m--> 222\u001b[0m image \u001b[38;5;241m=\u001b[39m \u001b[43m_fetch_tile\u001b[49m\u001b[43m(\u001b[49m\u001b[43mtile_url\u001b[49m\u001b[43m,\u001b[49m\u001b[43m \u001b[49m\u001b[43mwait\u001b[49m\u001b[43m,\u001b[49m\u001b[43m \u001b[49m\u001b[43mmax_retries\u001b[49m\u001b[43m)\u001b[49m\n\u001b[1;32m    223\u001b[0m tiles\u001b[38;5;241m.\u001b[39mappend(t)\n",
      "File \u001b[0;32m~/anaconda3/envs/geo_env/lib/python3.10/site-packages/joblib/memory.py:594\u001b[0m, in \u001b[0;36mMemorizedFunc.__call__\u001b[0;34m(self, *args, **kwargs)\u001b[0m\n\u001b[1;32m    593\u001b[0m \u001b[38;5;28;01mdef\u001b[39;00m \u001b[38;5;21m__call__\u001b[39m(\u001b[38;5;28mself\u001b[39m, \u001b[38;5;241m*\u001b[39margs, \u001b[38;5;241m*\u001b[39m\u001b[38;5;241m*\u001b[39mkwargs):\n\u001b[0;32m--> 594\u001b[0m     \u001b[38;5;28;01mreturn\u001b[39;00m \u001b[38;5;28;43mself\u001b[39;49m\u001b[38;5;241;43m.\u001b[39;49m\u001b[43m_cached_call\u001b[49m\u001b[43m(\u001b[49m\u001b[43margs\u001b[49m\u001b[43m,\u001b[49m\u001b[43m \u001b[49m\u001b[43mkwargs\u001b[49m\u001b[43m)\u001b[49m[\u001b[38;5;241m0\u001b[39m]\n",
      "File \u001b[0;32m~/anaconda3/envs/geo_env/lib/python3.10/site-packages/joblib/memory.py:537\u001b[0m, in \u001b[0;36mMemorizedFunc._cached_call\u001b[0;34m(self, args, kwargs, shelving)\u001b[0m\n\u001b[1;32m    536\u001b[0m \u001b[38;5;28;01mif\u001b[39;00m must_call:\n\u001b[0;32m--> 537\u001b[0m     out, metadata \u001b[38;5;241m=\u001b[39m \u001b[38;5;28;43mself\u001b[39;49m\u001b[38;5;241;43m.\u001b[39;49m\u001b[43mcall\u001b[49m\u001b[43m(\u001b[49m\u001b[38;5;241;43m*\u001b[39;49m\u001b[43margs\u001b[49m\u001b[43m,\u001b[49m\u001b[43m \u001b[49m\u001b[38;5;241;43m*\u001b[39;49m\u001b[38;5;241;43m*\u001b[39;49m\u001b[43mkwargs\u001b[49m\u001b[43m)\u001b[49m\n\u001b[1;32m    538\u001b[0m     \u001b[38;5;28;01mif\u001b[39;00m \u001b[38;5;28mself\u001b[39m\u001b[38;5;241m.\u001b[39mmmap_mode \u001b[38;5;129;01mis\u001b[39;00m \u001b[38;5;129;01mnot\u001b[39;00m \u001b[38;5;28;01mNone\u001b[39;00m:\n\u001b[1;32m    539\u001b[0m         \u001b[38;5;66;03m# Memmap the output at the first call to be consistent with\u001b[39;00m\n\u001b[1;32m    540\u001b[0m         \u001b[38;5;66;03m# later calls\u001b[39;00m\n",
      "File \u001b[0;32m~/anaconda3/envs/geo_env/lib/python3.10/site-packages/joblib/memory.py:779\u001b[0m, in \u001b[0;36mMemorizedFunc.call\u001b[0;34m(self, *args, **kwargs)\u001b[0m\n\u001b[1;32m    778\u001b[0m     \u001b[38;5;28mprint\u001b[39m(format_call(\u001b[38;5;28mself\u001b[39m\u001b[38;5;241m.\u001b[39mfunc, args, kwargs))\n\u001b[0;32m--> 779\u001b[0m output \u001b[38;5;241m=\u001b[39m \u001b[38;5;28;43mself\u001b[39;49m\u001b[38;5;241;43m.\u001b[39;49m\u001b[43mfunc\u001b[49m\u001b[43m(\u001b[49m\u001b[38;5;241;43m*\u001b[39;49m\u001b[43margs\u001b[49m\u001b[43m,\u001b[49m\u001b[43m \u001b[49m\u001b[38;5;241;43m*\u001b[39;49m\u001b[38;5;241;43m*\u001b[39;49m\u001b[43mkwargs\u001b[49m\u001b[43m)\u001b[49m\n\u001b[1;32m    780\u001b[0m \u001b[38;5;28mself\u001b[39m\u001b[38;5;241m.\u001b[39mstore_backend\u001b[38;5;241m.\u001b[39mdump_item(\n\u001b[1;32m    781\u001b[0m     [func_id, args_id], output, verbose\u001b[38;5;241m=\u001b[39m\u001b[38;5;28mself\u001b[39m\u001b[38;5;241m.\u001b[39m_verbose)\n",
      "File \u001b[0;32m~/anaconda3/envs/geo_env/lib/python3.10/site-packages/contextily/tile.py:254\u001b[0m, in \u001b[0;36m_fetch_tile\u001b[0;34m(tile_url, wait, max_retries)\u001b[0m\n\u001b[1;32m    253\u001b[0m \u001b[38;5;28;01mwith\u001b[39;00m io\u001b[38;5;241m.\u001b[39mBytesIO(request\u001b[38;5;241m.\u001b[39mcontent) \u001b[38;5;28;01mas\u001b[39;00m image_stream:\n\u001b[0;32m--> 254\u001b[0m     image \u001b[38;5;241m=\u001b[39m \u001b[43mImage\u001b[49m\u001b[38;5;241;43m.\u001b[39;49m\u001b[43mopen\u001b[49m\u001b[43m(\u001b[49m\u001b[43mimage_stream\u001b[49m\u001b[43m)\u001b[49m\u001b[38;5;241m.\u001b[39mconvert(\u001b[38;5;124m\"\u001b[39m\u001b[38;5;124mRGBA\u001b[39m\u001b[38;5;124m\"\u001b[39m)\n\u001b[1;32m    255\u001b[0m     array \u001b[38;5;241m=\u001b[39m np\u001b[38;5;241m.\u001b[39masarray(image)\n",
      "File \u001b[0;32m~/anaconda3/envs/geo_env/lib/python3.10/site-packages/PIL/Image.py:3147\u001b[0m, in \u001b[0;36mopen\u001b[0;34m(fp, mode, formats)\u001b[0m\n\u001b[1;32m   3146\u001b[0m     warnings\u001b[38;5;241m.\u001b[39mwarn(message)\n\u001b[0;32m-> 3147\u001b[0m \u001b[38;5;28;01mraise\u001b[39;00m UnidentifiedImageError(\n\u001b[1;32m   3148\u001b[0m     \u001b[38;5;124m\"\u001b[39m\u001b[38;5;124mcannot identify image file \u001b[39m\u001b[38;5;132;01m%r\u001b[39;00m\u001b[38;5;124m\"\u001b[39m \u001b[38;5;241m%\u001b[39m (filename \u001b[38;5;28;01mif\u001b[39;00m filename \u001b[38;5;28;01melse\u001b[39;00m fp)\n\u001b[1;32m   3149\u001b[0m )\n",
      "\u001b[0;31mUnidentifiedImageError\u001b[0m: cannot identify image file <_io.BytesIO object at 0x7cd2d382a340>",
      "\nDuring handling of the above exception, another exception occurred:\n",
      "\u001b[0;31mValueError\u001b[0m                                Traceback (most recent call last)",
      "Cell \u001b[0;32mIn [5], line 31\u001b[0m\n\u001b[1;32m     21\u001b[0m \u001b[38;5;28;01mimport\u001b[39;00m \u001b[38;5;21;01mcontextily\u001b[39;00m \u001b[38;5;28;01mas\u001b[39;00m \u001b[38;5;21;01mcx\u001b[39;00m\n\u001b[1;32m     23\u001b[0m \u001b[38;5;66;03m# The following fix added from https://github.com/python-pillow/Pillow/issues/3431 from 2018\u001b[39;00m\n\u001b[1;32m     24\u001b[0m \u001b[38;5;66;03m#import io\u001b[39;00m\n\u001b[1;32m     25\u001b[0m \u001b[38;5;66;03m#import requests\u001b[39;00m\n\u001b[0;32m   (...)\u001b[0m\n\u001b[1;32m     28\u001b[0m \u001b[38;5;66;03m#aux_im = Image.open(io.BytesIO(r.content))\u001b[39;00m\n\u001b[1;32m     29\u001b[0m \u001b[38;5;66;03m# End fix\u001b[39;00m\n\u001b[0;32m---> 31\u001b[0m loc \u001b[38;5;241m=\u001b[39m \u001b[43mcx\u001b[49m\u001b[38;5;241;43m.\u001b[39;49m\u001b[43mPlace\u001b[49m\u001b[43m(\u001b[49m\u001b[38;5;124;43m\"\u001b[39;49m\u001b[38;5;124;43mboulder\u001b[39;49m\u001b[38;5;124;43m\"\u001b[39;49m\u001b[43m,\u001b[49m\u001b[43m \u001b[49m\u001b[43mzoom_adjust\u001b[49m\u001b[38;5;241;43m=\u001b[39;49m\u001b[38;5;241;43m0\u001b[39;49m\u001b[43m)\u001b[49m  \u001b[38;5;66;03m# zoom_adjust modifies the auto-zoom\u001b[39;00m\n\u001b[1;32m     33\u001b[0m \u001b[38;5;66;03m# Print some metadata\u001b[39;00m\n\u001b[1;32m     34\u001b[0m \u001b[38;5;28;01mfor\u001b[39;00m attr \u001b[38;5;129;01min\u001b[39;00m [\u001b[38;5;124m\"\u001b[39m\u001b[38;5;124mw\u001b[39m\u001b[38;5;124m\"\u001b[39m, \u001b[38;5;124m\"\u001b[39m\u001b[38;5;124ms\u001b[39m\u001b[38;5;124m\"\u001b[39m, \u001b[38;5;124m\"\u001b[39m\u001b[38;5;124me\u001b[39m\u001b[38;5;124m\"\u001b[39m, \u001b[38;5;124m\"\u001b[39m\u001b[38;5;124mn\u001b[39m\u001b[38;5;124m\"\u001b[39m, \u001b[38;5;124m\"\u001b[39m\u001b[38;5;124mplace\u001b[39m\u001b[38;5;124m\"\u001b[39m, \u001b[38;5;124m\"\u001b[39m\u001b[38;5;124mzoom\u001b[39m\u001b[38;5;124m\"\u001b[39m, \u001b[38;5;124m\"\u001b[39m\u001b[38;5;124mn_tiles\u001b[39m\u001b[38;5;124m\"\u001b[39m]:\n",
      "File \u001b[0;32m~/anaconda3/envs/geo_env/lib/python3.10/site-packages/contextily/place.py:116\u001b[0m, in \u001b[0;36mPlace.__init__\u001b[0;34m(self, search, zoom, path, zoom_adjust, source, geocoder)\u001b[0m\n\u001b[1;32m    113\u001b[0m \u001b[38;5;28mself\u001b[39m\u001b[38;5;241m.\u001b[39mn_tiles \u001b[38;5;241m=\u001b[39m howmany(\u001b[38;5;28mself\u001b[39m\u001b[38;5;241m.\u001b[39mw, \u001b[38;5;28mself\u001b[39m\u001b[38;5;241m.\u001b[39ms, \u001b[38;5;28mself\u001b[39m\u001b[38;5;241m.\u001b[39me, \u001b[38;5;28mself\u001b[39m\u001b[38;5;241m.\u001b[39mn, \u001b[38;5;28mself\u001b[39m\u001b[38;5;241m.\u001b[39mzoom, verbose\u001b[38;5;241m=\u001b[39m\u001b[38;5;28;01mFalse\u001b[39;00m)\n\u001b[1;32m    115\u001b[0m \u001b[38;5;66;03m# Get the map\u001b[39;00m\n\u001b[0;32m--> 116\u001b[0m \u001b[38;5;28;43mself\u001b[39;49m\u001b[38;5;241;43m.\u001b[39;49m\u001b[43m_get_map\u001b[49m\u001b[43m(\u001b[49m\u001b[43m)\u001b[49m\n",
      "File \u001b[0;32m~/anaconda3/envs/geo_env/lib/python3.10/site-packages/contextily/place.py:133\u001b[0m, in \u001b[0;36mPlace._get_map\u001b[0;34m(self)\u001b[0m\n\u001b[1;32m    129\u001b[0m         im, bbox \u001b[38;5;241m=\u001b[39m bounds2img(\n\u001b[1;32m    130\u001b[0m             \u001b[38;5;28mself\u001b[39m\u001b[38;5;241m.\u001b[39mw, \u001b[38;5;28mself\u001b[39m\u001b[38;5;241m.\u001b[39ms, \u001b[38;5;28mself\u001b[39m\u001b[38;5;241m.\u001b[39me, \u001b[38;5;28mself\u001b[39m\u001b[38;5;241m.\u001b[39mn, \u001b[38;5;28mself\u001b[39m\u001b[38;5;241m.\u001b[39mzoom, \u001b[38;5;241m*\u001b[39m\u001b[38;5;241m*\u001b[39mkwargs\n\u001b[1;32m    131\u001b[0m         )\n\u001b[1;32m    132\u001b[0m \u001b[38;5;28;01mexcept\u001b[39;00m \u001b[38;5;167;01mException\u001b[39;00m \u001b[38;5;28;01mas\u001b[39;00m err:\n\u001b[0;32m--> 133\u001b[0m     \u001b[38;5;28;01mraise\u001b[39;00m \u001b[38;5;167;01mValueError\u001b[39;00m(\n\u001b[1;32m    134\u001b[0m         \u001b[38;5;124m\"\u001b[39m\u001b[38;5;124mCould not retrieve map with parameters: \u001b[39m\u001b[38;5;132;01m{}\u001b[39;00m\u001b[38;5;124m, \u001b[39m\u001b[38;5;132;01m{}\u001b[39;00m\u001b[38;5;124m, \u001b[39m\u001b[38;5;132;01m{}\u001b[39;00m\u001b[38;5;124m, \u001b[39m\u001b[38;5;132;01m{}\u001b[39;00m\u001b[38;5;124m, zoom=\u001b[39m\u001b[38;5;132;01m{}\u001b[39;00m\u001b[38;5;130;01m\\n\u001b[39;00m\u001b[38;5;132;01m{}\u001b[39;00m\u001b[38;5;130;01m\\n\u001b[39;00m\u001b[38;5;124mError: \u001b[39m\u001b[38;5;132;01m{}\u001b[39;00m\u001b[38;5;124m\"\u001b[39m\u001b[38;5;241m.\u001b[39mformat(\n\u001b[1;32m    135\u001b[0m             \u001b[38;5;28mself\u001b[39m\u001b[38;5;241m.\u001b[39mw, \u001b[38;5;28mself\u001b[39m\u001b[38;5;241m.\u001b[39ms, \u001b[38;5;28mself\u001b[39m\u001b[38;5;241m.\u001b[39me, \u001b[38;5;28mself\u001b[39m\u001b[38;5;241m.\u001b[39mn, \u001b[38;5;28mself\u001b[39m\u001b[38;5;241m.\u001b[39mzoom, kwargs, err\n\u001b[1;32m    136\u001b[0m         )\n\u001b[1;32m    137\u001b[0m     )\n\u001b[1;32m    139\u001b[0m \u001b[38;5;28mself\u001b[39m\u001b[38;5;241m.\u001b[39mim \u001b[38;5;241m=\u001b[39m im\n\u001b[1;32m    140\u001b[0m \u001b[38;5;28mself\u001b[39m\u001b[38;5;241m.\u001b[39mbbox_map \u001b[38;5;241m=\u001b[39m bbox\n",
      "\u001b[0;31mValueError\u001b[0m: Could not retrieve map with parameters: -105.3014509, 39.9643513, -105.1780988, 40.094409, zoom=13\n{'ll': True, 'source': {'url': 'https://stamen-tiles-{s}.a.ssl.fastly.net/{variant}/{z}/{x}/{y}{r}.{ext}', 'html_attribution': 'Map tiles by <a href=\"http://stamen.com\">Stamen Design</a>, <a href=\"http://creativecommons.org/licenses/by/3.0\">CC BY 3.0</a> &mdash; Map data &copy; <a href=\"https://www.openstreetmap.org/copyright\">OpenStreetMap</a> contributors', 'attribution': 'Map tiles by Stamen Design, CC BY 3.0 -- Map data (C) OpenStreetMap contributors', 'subdomains': 'abcd', 'min_zoom': 0, 'max_zoom': 18, 'variant': 'terrain', 'ext': 'png', 'name': 'Stamen.Terrain'}}\nError: cannot identify image file <_io.BytesIO object at 0x7cd2d382a340>"
     ]
    }
   ],
   "source": [
    "\"\"\"\n",
    "Downloading and Plotting Maps\n",
    "-----------------------------\n",
    "\n",
    "Plotting maps with Contextily.\n",
    "\n",
    "Contextily is designed to pull map tile information from the web. In many\n",
    "cases we want to go from a location to a map of that location as quickly\n",
    "as possible. There are two main ways to do this with Contextily.\n",
    "\n",
    "Searching for places with text\n",
    "==============================\n",
    "\n",
    "The simplest approach is to search for a location with text. You can do\n",
    "this with the ``Place`` class. This will return an object that contains\n",
    "metadata about the place, such as its bounding box. It will also contain an\n",
    "image of the place.\n",
    "\"\"\"\n",
    "import numpy as np\n",
    "import matplotlib.pyplot as plt\n",
    "import contextily as cx\n",
    "\n",
    "# The following fix added from https://github.com/python-pillow/Pillow/issues/3431 from 2018\n",
    "#import io\n",
    "#import requests\n",
    "#from PIL import Image\n",
    "#r = requests.get('https://stamen-tiles-{s}.a.ssl.fastly.net/{variant}/{z}/{x}/{y}{r}.{ext}', stream=True)\n",
    "#+\n",
    "aux_im = Image.open(io.BytesIO(r.content))\n",
    "# End fix\n",
    "\n",
    "loc = cx.Place(\"boulder\", zoom_adjust=0)  # zoom_adjust modifies the auto-zoom\n",
    "\n",
    "# Print some metadata\n",
    "for attr in [\"w\", \"s\", \"e\", \"n\", \"place\", \"zoom\", \"n_tiles\"]:\n",
    "    print(\"{}: {}\".format(attr, getattr(loc, attr)))\n",
    "\n",
    "# Show the map\n",
    "im1 = loc.im\n",
    "\n",
    "fig, axs = plt.subplots(1, 3, figsize=(15, 5))\n",
    "cx.plot_map(loc, ax=axs[0])\n",
    "\n",
    "###############################################################################\n",
    "# The zoom level will be chosen for you by default, though you can specify\n",
    "# this manually as well:\n",
    "\n",
    "loc2 = cx.Place(\"boulder\", zoom=11)\n",
    "cx.plot_map(loc2, ax=axs[1])\n",
    "\n",
    "###############################################################################\n",
    "# Downloading tiles from bounds\n",
    "# =============================\n",
    "#\n",
    "# You can also grab tile information directly from a bounding box + zoom level.\n",
    "# This is demoed below:\n",
    "\n",
    "im2, bbox = cx.bounds2img(loc.w, loc.s, loc.e, loc.n, zoom=loc.zoom, ll=True)\n",
    "cx.plot_map(im2, bbox, ax=axs[2], title=\"Boulder, CO\")\n",
    "\n",
    "plt.show()"
   ]
  },
  {
   "cell_type": "code",
   "execution_count": null,
   "metadata": {},
   "outputs": [],
   "source": []
  }
 ],
 "metadata": {
  "kernelspec": {
   "display_name": "geo_env",
   "language": "python",
   "name": "geo_env"
  },
  "language_info": {
   "codemirror_mode": {
    "name": "ipython",
    "version": 3
   },
   "file_extension": ".py",
   "mimetype": "text/x-python",
   "name": "python",
   "nbconvert_exporter": "python",
   "pygments_lexer": "ipython3",
   "version": "3.10.6"
  }
 },
 "nbformat": 4,
 "nbformat_minor": 4
}
