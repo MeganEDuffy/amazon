{
 "cells": [
  {
   "cell_type": "markdown",
   "metadata": {},
   "source": [
    "## Chlorophyll-a estimates in the Amazon mouth"
   ]
  },
  {
   "cell_type": "code",
   "execution_count": 1,
   "metadata": {},
   "outputs": [],
   "source": [
    "import os\n",
    "os.chdir(\"/home/millieginty/Documents/git-repos/amazon/\")"
   ]
  },
  {
   "cell_type": "code",
   "execution_count": 10,
   "metadata": {},
   "outputs": [
    {
     "name": "stdout",
     "output_type": "stream",
     "text": [
      "   AMZMOUTHPT                    geometry\n",
      "0           1  POINT (-51.41750 -0.42750)\n",
      "(1, 2)\n"
     ]
    }
   ],
   "source": [
    "import pandas as pd  \n",
    "import numpy as np  \n",
    "import geopandas as gpd  \n",
    "import matplotlib.pyplot as plt # plot our data and manipulate the plot\n",
    "import contextily as ctx # add a default basemap under our polygons of interest\n",
    "from shapely.geometry import Point, Polygon\n",
    "\n",
    "# Read in the shapefile of the mouth and mainstem points\n",
    "mouth = gpd.read_file('data/shapefiles/amzmouthpt_v/amzmouthpt_v.shp')\n",
    "stem = gpd.read_file('data/shapefiles/amzmainstm_v/amzmainstm_v.shp')\n",
    "sample = stem = gpd.read_file('data/shapefiles/ext_sampling_sites/ext_sampling_sites.shp')\n",
    "\n",
    "# Take a look at the first rows:\n",
    "print(mouth.head())  \n",
    "\n",
    "# Ask python how many rows and columns are in this dataframe\n",
    "print(mouth.shape)"
   ]
  },
  {
   "cell_type": "code",
   "execution_count": 9,
   "metadata": {},
   "outputs": [
    {
     "data": {
      "text/html": [
       "<div>\n",
       "<style scoped>\n",
       "    .dataframe tbody tr th:only-of-type {\n",
       "        vertical-align: middle;\n",
       "    }\n",
       "\n",
       "    .dataframe tbody tr th {\n",
       "        vertical-align: top;\n",
       "    }\n",
       "\n",
       "    .dataframe thead th {\n",
       "        text-align: right;\n",
       "    }\n",
       "</style>\n",
       "<table border=\"1\" class=\"dataframe\">\n",
       "  <thead>\n",
       "    <tr style=\"text-align: right;\">\n",
       "      <th></th>\n",
       "      <th>LENGTH</th>\n",
       "      <th>AMZMAINSTM</th>\n",
       "      <th>geometry</th>\n",
       "    </tr>\n",
       "  </thead>\n",
       "  <tbody>\n",
       "    <tr>\n",
       "      <th>0</th>\n",
       "      <td>0.021213</td>\n",
       "      <td>1</td>\n",
       "      <td>LINESTRING (-54.73250 -2.11250, -54.72750 -2.1...</td>\n",
       "    </tr>\n",
       "    <tr>\n",
       "      <th>1</th>\n",
       "      <td>0.007071</td>\n",
       "      <td>2</td>\n",
       "      <td>LINESTRING (-54.73250 -2.11250, -54.72750 -2.1...</td>\n",
       "    </tr>\n",
       "    <tr>\n",
       "      <th>2</th>\n",
       "      <td>4.934960</td>\n",
       "      <td>3</td>\n",
       "      <td>LINESTRING (-51.41750 -0.42750, -51.42250 -0.4...</td>\n",
       "    </tr>\n",
       "    <tr>\n",
       "      <th>3</th>\n",
       "      <td>5.332067</td>\n",
       "      <td>4</td>\n",
       "      <td>LINESTRING (-54.73250 -2.11250, -54.73750 -2.1...</td>\n",
       "    </tr>\n",
       "    <tr>\n",
       "      <th>4</th>\n",
       "      <td>6.997163</td>\n",
       "      <td>5</td>\n",
       "      <td>LINESTRING (-69.35250 -3.55750, -69.31750 -3.5...</td>\n",
       "    </tr>\n",
       "    <tr>\n",
       "      <th>5</th>\n",
       "      <td>0.021213</td>\n",
       "      <td>6</td>\n",
       "      <td>LINESTRING (-69.39250 -3.97250, -69.38750 -3.9...</td>\n",
       "    </tr>\n",
       "    <tr>\n",
       "      <th>6</th>\n",
       "      <td>0.007071</td>\n",
       "      <td>7</td>\n",
       "      <td>LINESTRING (-69.39250 -3.97250, -69.38750 -3.9...</td>\n",
       "    </tr>\n",
       "    <tr>\n",
       "      <th>7</th>\n",
       "      <td>0.788051</td>\n",
       "      <td>8</td>\n",
       "      <td>LINESTRING (-69.39250 -3.97250, -69.41250 -3.9...</td>\n",
       "    </tr>\n",
       "    <tr>\n",
       "      <th>8</th>\n",
       "      <td>6.684346</td>\n",
       "      <td>9</td>\n",
       "      <td>LINESTRING (-58.80250 -3.37250, -58.81750 -3.3...</td>\n",
       "    </tr>\n",
       "    <tr>\n",
       "      <th>9</th>\n",
       "      <td>6.681600</td>\n",
       "      <td>10</td>\n",
       "      <td>LINESTRING (-69.38750 -3.97750, -69.38250 -3.9...</td>\n",
       "    </tr>\n",
       "  </tbody>\n",
       "</table>\n",
       "</div>"
      ],
      "text/plain": [
       "     LENGTH  AMZMAINSTM                                           geometry\n",
       "0  0.021213           1  LINESTRING (-54.73250 -2.11250, -54.72750 -2.1...\n",
       "1  0.007071           2  LINESTRING (-54.73250 -2.11250, -54.72750 -2.1...\n",
       "2  4.934960           3  LINESTRING (-51.41750 -0.42750, -51.42250 -0.4...\n",
       "3  5.332067           4  LINESTRING (-54.73250 -2.11250, -54.73750 -2.1...\n",
       "4  6.997163           5  LINESTRING (-69.35250 -3.55750, -69.31750 -3.5...\n",
       "5  0.021213           6  LINESTRING (-69.39250 -3.97250, -69.38750 -3.9...\n",
       "6  0.007071           7  LINESTRING (-69.39250 -3.97250, -69.38750 -3.9...\n",
       "7  0.788051           8  LINESTRING (-69.39250 -3.97250, -69.41250 -3.9...\n",
       "8  6.684346           9  LINESTRING (-58.80250 -3.37250, -58.81750 -3.3...\n",
       "9  6.681600          10  LINESTRING (-69.38750 -3.97750, -69.38250 -3.9..."
      ]
     },
     "execution_count": 9,
     "metadata": {},
     "output_type": "execute_result"
    }
   ],
   "source": [
    "stem"
   ]
  },
  {
   "cell_type": "code",
   "execution_count": null,
   "metadata": {},
   "outputs": [],
   "source": []
  }
 ],
 "metadata": {
  "kernelspec": {
   "display_name": "geo_env",
   "language": "python",
   "name": "geo_env"
  },
  "language_info": {
   "codemirror_mode": {
    "name": "ipython",
    "version": 3
   },
   "file_extension": ".py",
   "mimetype": "text/x-python",
   "name": "python",
   "nbconvert_exporter": "python",
   "pygments_lexer": "ipython3",
   "version": "3.10.6"
  }
 },
 "nbformat": 4,
 "nbformat_minor": 4
}
